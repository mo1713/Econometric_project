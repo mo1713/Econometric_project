{
 "cells": [
  {
   "cell_type": "markdown",
   "id": "8cac6d00",
   "metadata": {},
   "source": [
    "# Econometrics\n",
    "\n",
    "## Topic: Factors Affecting The Happy Planet Index (HPI) \n",
    "\n",
    "<div align=\"center\">\n",
    "\n",
    "__Team members:__\n",
    "\n",
    "| Student name          | Student id |\n",
    "| --------------------- | ---------- |\n",
    "| Dương Thị Huyền Trang| 11230593   |\n",
    "| Lê Lan Hương         | 11230547   |\n",
    "| Đặng Ngọc Hòa        | 11230537   |\n",
    "| Nguyễn Thanh Mơ      | 11230571   |\n",
    "| Phạm Minh Bảo Ngọc   | 11230576   |\n",
    "| Đỗ Hà Linh           | 11230557   |\n"
   ]
  },
  {
   "cell_type": "markdown",
   "id": "4fcad705",
   "metadata": {},
   "source": [
    "### "
   ]
  },
  {
   "cell_type": "markdown",
   "id": "415a6628",
   "metadata": {
    "papermill": {
     "duration": 0.010022,
     "end_time": "2025-04-14T23:05:03.439927",
     "exception": false,
     "start_time": "2025-04-14T23:05:03.429905",
     "status": "completed"
    },
    "tags": []
   },
   "source": [
    "# Low Income Group"
   ]
  },
  {
   "cell_type": "code",
   "execution_count": 1,
   "id": "6e6928b4",
   "metadata": {
    "execution": {
     "iopub.execute_input": "2025-04-14T23:05:03.458958Z",
     "iopub.status.busy": "2025-04-14T23:05:03.458575Z",
     "iopub.status.idle": "2025-04-14T23:05:09.117880Z",
     "shell.execute_reply": "2025-04-14T23:05:09.116651Z"
    },
    "papermill": {
     "duration": 5.671013,
     "end_time": "2025-04-14T23:05:09.120012",
     "exception": false,
     "start_time": "2025-04-14T23:05:03.448999",
     "status": "completed"
    },
    "tags": []
   },
   "outputs": [],
   "source": [
    "import numpy as np\n",
    "import pandas as pd\n",
    "import statsmodels.api as sm\n",
    "import matplotlib.pyplot as plt\n",
    "import seaborn as sns\n",
    "from statsmodels.stats.diagnostic import het_breuschpagan, het_white\n",
    "from statsmodels.formula.api import ols\n",
    "from sklearn.model_selection import train_test_split\n",
    "from sklearn.linear_model import LinearRegression\n",
    "from statsmodels.stats.outliers_influence import variance_inflation_factor\n",
    "from statsmodels.stats.diagnostic import linear_reset\n",
    "import seaborn as sns\n",
    "sns.set(style=\"whitegrid\")"
   ]
  },
  {
   "cell_type": "markdown",
   "id": "2abdaa66",
   "metadata": {
    "papermill": {
     "duration": 0.009193,
     "end_time": "2025-04-14T23:05:09.138144",
     "exception": false,
     "start_time": "2025-04-14T23:05:09.128951",
     "status": "completed"
    },
    "tags": []
   },
   "source": [
    "**Importing dataset**"
   ]
  },
  {
   "cell_type": "code",
   "execution_count": 2,
   "id": "8de3a585",
   "metadata": {
    "execution": {
     "iopub.execute_input": "2025-04-14T23:05:09.156887Z",
     "iopub.status.busy": "2025-04-14T23:05:09.156357Z",
     "iopub.status.idle": "2025-04-14T23:05:10.043191Z",
     "shell.execute_reply": "2025-04-14T23:05:10.041990Z"
    },
    "papermill": {
     "duration": 0.898581,
     "end_time": "2025-04-14T23:05:10.045227",
     "exception": false,
     "start_time": "2025-04-14T23:05:09.146646",
     "status": "completed"
    },
    "tags": []
   },
   "outputs": [
    {
     "data": {
      "text/html": [
       "<div>\n",
       "<style scoped>\n",
       "    .dataframe tbody tr th:only-of-type {\n",
       "        vertical-align: middle;\n",
       "    }\n",
       "\n",
       "    .dataframe tbody tr th {\n",
       "        vertical-align: top;\n",
       "    }\n",
       "\n",
       "    .dataframe thead th {\n",
       "        text-align: right;\n",
       "    }\n",
       "</style>\n",
       "<table border=\"1\" class=\"dataframe\">\n",
       "  <thead>\n",
       "    <tr style=\"text-align: right;\">\n",
       "      <th></th>\n",
       "      <th>Country Name</th>\n",
       "      <th>ISO</th>\n",
       "      <th>Year</th>\n",
       "      <th>Continent</th>\n",
       "      <th>Population (thousands)</th>\n",
       "      <th>Life Expectancy (years)</th>\n",
       "      <th>Ladder of life (Wellbeing) (0-10)</th>\n",
       "      <th>Carbon Footprint (tCO2e)</th>\n",
       "      <th>HPI</th>\n",
       "      <th>GDP per capita ($)</th>\n",
       "      <th>GNI</th>\n",
       "      <th>Annual precipitation</th>\n",
       "      <th>Average years of schooling</th>\n",
       "      <th>Gini coefficient</th>\n",
       "      <th>Unemployment</th>\n",
       "      <th>Human Development Index</th>\n",
       "    </tr>\n",
       "  </thead>\n",
       "  <tbody>\n",
       "    <tr>\n",
       "      <th>0</th>\n",
       "      <td>Albania</td>\n",
       "      <td>ALB</td>\n",
       "      <td>2012</td>\n",
       "      <td>Europe</td>\n",
       "      <td>2892.2</td>\n",
       "      <td>78.1</td>\n",
       "      <td>5.51</td>\n",
       "      <td>3.37</td>\n",
       "      <td>51.8</td>\n",
       "      <td>11228</td>\n",
       "      <td>4360</td>\n",
       "      <td>1391.6102</td>\n",
       "      <td>10.025110</td>\n",
       "      <td>0.289605</td>\n",
       "      <td>13.38</td>\n",
       "      <td>0.789</td>\n",
       "    </tr>\n",
       "    <tr>\n",
       "      <th>1</th>\n",
       "      <td>Albania</td>\n",
       "      <td>ALB</td>\n",
       "      <td>2014</td>\n",
       "      <td>Europe</td>\n",
       "      <td>2884.1</td>\n",
       "      <td>78.4</td>\n",
       "      <td>4.81</td>\n",
       "      <td>3.60</td>\n",
       "      <td>45.4</td>\n",
       "      <td>11587</td>\n",
       "      <td>4540</td>\n",
       "      <td>1417.2703</td>\n",
       "      <td>10.005746</td>\n",
       "      <td>0.345989</td>\n",
       "      <td>18.05</td>\n",
       "      <td>0.797</td>\n",
       "    </tr>\n",
       "    <tr>\n",
       "      <th>2</th>\n",
       "      <td>Albania</td>\n",
       "      <td>ALB</td>\n",
       "      <td>2015</td>\n",
       "      <td>Europe</td>\n",
       "      <td>2882.5</td>\n",
       "      <td>78.6</td>\n",
       "      <td>4.61</td>\n",
       "      <td>3.35</td>\n",
       "      <td>44.4</td>\n",
       "      <td>11878</td>\n",
       "      <td>4390</td>\n",
       "      <td>1184.5548</td>\n",
       "      <td>9.996064</td>\n",
       "      <td>0.327537</td>\n",
       "      <td>17.19</td>\n",
       "      <td>0.797</td>\n",
       "    </tr>\n",
       "    <tr>\n",
       "      <th>3</th>\n",
       "      <td>Albania</td>\n",
       "      <td>ALB</td>\n",
       "      <td>2016</td>\n",
       "      <td>Europe</td>\n",
       "      <td>2881.1</td>\n",
       "      <td>78.9</td>\n",
       "      <td>4.51</td>\n",
       "      <td>3.25</td>\n",
       "      <td>43.9</td>\n",
       "      <td>12292</td>\n",
       "      <td>4320</td>\n",
       "      <td>1565.3773</td>\n",
       "      <td>9.986382</td>\n",
       "      <td>0.337363</td>\n",
       "      <td>15.42</td>\n",
       "      <td>0.795</td>\n",
       "    </tr>\n",
       "    <tr>\n",
       "      <th>4</th>\n",
       "      <td>Albania</td>\n",
       "      <td>ALB</td>\n",
       "      <td>2017</td>\n",
       "      <td>Europe</td>\n",
       "      <td>2879.4</td>\n",
       "      <td>79.0</td>\n",
       "      <td>4.64</td>\n",
       "      <td>3.68</td>\n",
       "      <td>44.0</td>\n",
       "      <td>12771</td>\n",
       "      <td>4290</td>\n",
       "      <td>1175.3209</td>\n",
       "      <td>9.976700</td>\n",
       "      <td>0.330557</td>\n",
       "      <td>13.62</td>\n",
       "      <td>0.796</td>\n",
       "    </tr>\n",
       "  </tbody>\n",
       "</table>\n",
       "</div>"
      ],
      "text/plain": [
       "  Country Name  ISO  Year Continent  Population (thousands)  \\\n",
       "0      Albania  ALB  2012    Europe                  2892.2   \n",
       "1      Albania  ALB  2014    Europe                  2884.1   \n",
       "2      Albania  ALB  2015    Europe                  2882.5   \n",
       "3      Albania  ALB  2016    Europe                  2881.1   \n",
       "4      Albania  ALB  2017    Europe                  2879.4   \n",
       "\n",
       "   Life Expectancy (years)  Ladder of life (Wellbeing) (0-10)  \\\n",
       "0                     78.1                               5.51   \n",
       "1                     78.4                               4.81   \n",
       "2                     78.6                               4.61   \n",
       "3                     78.9                               4.51   \n",
       "4                     79.0                               4.64   \n",
       "\n",
       "   Carbon Footprint (tCO2e)   HPI  GDP per capita ($)   GNI  \\\n",
       "0                      3.37  51.8               11228  4360   \n",
       "1                      3.60  45.4               11587  4540   \n",
       "2                      3.35  44.4               11878  4390   \n",
       "3                      3.25  43.9               12292  4320   \n",
       "4                      3.68  44.0               12771  4290   \n",
       "\n",
       "   Annual precipitation  Average years of schooling  Gini coefficient  \\\n",
       "0             1391.6102                   10.025110          0.289605   \n",
       "1             1417.2703                   10.005746          0.345989   \n",
       "2             1184.5548                    9.996064          0.327537   \n",
       "3             1565.3773                    9.986382          0.337363   \n",
       "4             1175.3209                    9.976700          0.330557   \n",
       "\n",
       "   Unemployment  Human Development Index  \n",
       "0         13.38                    0.789  \n",
       "1         18.05                    0.797  \n",
       "2         17.19                    0.797  \n",
       "3         15.42                    0.795  \n",
       "4         13.62                    0.796  "
      ]
     },
     "execution_count": 2,
     "metadata": {},
     "output_type": "execute_result"
    }
   ],
   "source": [
    "file_path = 'econometrics_data.xlsx'  \n",
    "data = pd.read_excel(file_path)\n",
    "df = pd.DataFrame(data)\n",
    "df.head()"
   ]
  },
  {
   "cell_type": "markdown",
   "id": "cb2c66e2",
   "metadata": {},
   "source": []
  },
  {
   "cell_type": "markdown",
   "id": "66a77fd8",
   "metadata": {
    "papermill": {
     "duration": 0.008306,
     "end_time": "2025-04-14T23:05:10.062479",
     "exception": false,
     "start_time": "2025-04-14T23:05:10.054173",
     "status": "completed"
    },
    "tags": []
   },
   "source": [
    "**Data Cleaning** "
   ]
  },
  {
   "cell_type": "code",
   "execution_count": 3,
   "id": "224937ab",
   "metadata": {},
   "outputs": [
    {
     "name": "stdout",
     "output_type": "stream",
     "text": [
      "<class 'pandas.core.frame.DataFrame'>\n",
      "RangeIndex: 619 entries, 0 to 618\n",
      "Data columns (total 16 columns):\n",
      " #   Column                             Non-Null Count  Dtype  \n",
      "---  ------                             --------------  -----  \n",
      " 0   Country Name                       619 non-null    object \n",
      " 1   ISO                                619 non-null    object \n",
      " 2   Year                               619 non-null    int64  \n",
      " 3   Continent                          619 non-null    object \n",
      " 4   Population (thousands)             619 non-null    float64\n",
      " 5   Life Expectancy (years)            619 non-null    float64\n",
      " 6   Ladder of life (Wellbeing) (0-10)  619 non-null    float64\n",
      " 7   Carbon Footprint (tCO2e)           619 non-null    float64\n",
      " 8   HPI                                619 non-null    float64\n",
      " 9   GDP per capita ($)                 619 non-null    int64  \n",
      " 10  GNI                                619 non-null    int64  \n",
      " 11  Annual precipitation               619 non-null    float64\n",
      " 12  Average years of schooling         619 non-null    float64\n",
      " 13  Gini coefficient                   619 non-null    float64\n",
      " 14  Unemployment                       619 non-null    float64\n",
      " 15  Human Development Index            619 non-null    float64\n",
      "dtypes: float64(10), int64(3), object(3)\n",
      "memory usage: 77.5+ KB\n"
     ]
    }
   ],
   "source": [
    "df.info()"
   ]
  },
  {
   "cell_type": "code",
   "execution_count": 40,
   "id": "500981cb",
   "metadata": {
    "execution": {
     "iopub.execute_input": "2025-04-14T23:05:10.081313Z",
     "iopub.status.busy": "2025-04-14T23:05:10.080707Z",
     "iopub.status.idle": "2025-04-14T23:05:10.089402Z",
     "shell.execute_reply": "2025-04-14T23:05:10.088393Z"
    },
    "papermill": {
     "duration": 0.019903,
     "end_time": "2025-04-14T23:05:10.090940",
     "exception": false,
     "start_time": "2025-04-14T23:05:10.071037",
     "status": "completed"
    },
    "tags": []
   },
   "outputs": [
    {
     "data": {
      "text/plain": [
       "Country Name                         0\n",
       "ISO                                  0\n",
       "Year                                 0\n",
       "Continent                            0\n",
       "Population (thousands)               0\n",
       "Life Expectancy (years)              0\n",
       "Ladder of life (Wellbeing) (0-10)    0\n",
       "Carbon Footprint (tCO2e)             0\n",
       "HPI                                  0\n",
       "GDP per capita ($)                   0\n",
       "GNI                                  0\n",
       "Annual precipitation                 0\n",
       "Average years of schooling           0\n",
       "Gini coefficient                     0\n",
       "Unemployment                         0\n",
       "Human Development Index              0\n",
       "dtype: int64"
      ]
     },
     "execution_count": 40,
     "metadata": {},
     "output_type": "execute_result"
    }
   ],
   "source": [
    "df.isnull().sum()"
   ]
  },
  {
   "cell_type": "code",
   "execution_count": 41,
   "id": "b18f58c5",
   "metadata": {
    "execution": {
     "iopub.execute_input": "2025-04-14T23:05:10.110482Z",
     "iopub.status.busy": "2025-04-14T23:05:10.110089Z",
     "iopub.status.idle": "2025-04-14T23:05:10.119936Z",
     "shell.execute_reply": "2025-04-14T23:05:10.118711Z"
    },
    "papermill": {
     "duration": 0.022127,
     "end_time": "2025-04-14T23:05:10.122126",
     "exception": false,
     "start_time": "2025-04-14T23:05:10.099999",
     "status": "completed"
    },
    "tags": []
   },
   "outputs": [],
   "source": [
    "df = pd.DataFrame(data)\n",
    "df = df[(df['GNI'] <= 6500)] "
   ]
  },
  {
   "cell_type": "markdown",
   "id": "9b508dcf",
   "metadata": {
    "papermill": {
     "duration": 0.008538,
     "end_time": "2025-04-14T23:05:10.139744",
     "exception": false,
     "start_time": "2025-04-14T23:05:10.131206",
     "status": "completed"
    },
    "tags": []
   },
   "source": [
    "**OLS Regression**"
   ]
  },
  {
   "cell_type": "code",
   "execution_count": 42,
   "id": "f3f2f784",
   "metadata": {
    "execution": {
     "iopub.execute_input": "2025-04-14T23:05:10.159186Z",
     "iopub.status.busy": "2025-04-14T23:05:10.158820Z",
     "iopub.status.idle": "2025-04-14T23:05:10.227718Z",
     "shell.execute_reply": "2025-04-14T23:05:10.226166Z"
    },
    "papermill": {
     "duration": 0.081609,
     "end_time": "2025-04-14T23:05:10.229994",
     "exception": false,
     "start_time": "2025-04-14T23:05:10.148385",
     "status": "completed"
    },
    "tags": []
   },
   "outputs": [
    {
     "name": "stdout",
     "output_type": "stream",
     "text": [
      "                            OLS Regression Results                            \n",
      "==============================================================================\n",
      "Dep. Variable:                    HPI   R-squared:                       0.631\n",
      "Model:                            OLS   Adj. R-squared:                  0.618\n",
      "Method:                 Least Squares   F-statistic:                     49.35\n",
      "Date:                Tue, 15 Apr 2025   Prob (F-statistic):           5.24e-35\n",
      "Time:                        09:01:37   Log-Likelihood:                -551.45\n",
      "No. Observations:                 180   AIC:                             1117.\n",
      "Df Residuals:                     173   BIC:                             1139.\n",
      "Df Model:                           6                                         \n",
      "Covariance Type:            nonrobust                                         \n",
      "=====================================================================================================\n",
      "                                        coef    std err          t      P>|t|      [0.025      0.975]\n",
      "-----------------------------------------------------------------------------------------------------\n",
      "const                                 1.2048      4.831      0.249      0.803      -8.330      10.739\n",
      "Ladder of life (Wellbeing) (0-10)     9.5976      0.745     12.891      0.000       8.128      11.067\n",
      "GNI                               -2.941e-05      0.000     -0.083      0.934      -0.001       0.001\n",
      "Annual precipitation                  0.0029      0.001      5.374      0.000       0.002       0.004\n",
      "Average years of schooling           -0.6637      0.272     -2.437      0.016      -1.201      -0.126\n",
      "Gini coefficient                    -27.2383      7.351     -3.706      0.000     -41.747     -12.730\n",
      "Unemployment                          0.2592      0.080      3.249      0.001       0.102       0.417\n",
      "==============================================================================\n",
      "Omnibus:                       11.638   Durbin-Watson:                   0.424\n",
      "Prob(Omnibus):                  0.003   Jarque-Bera (JB):               12.110\n",
      "Skew:                          -0.623   Prob(JB):                      0.00235\n",
      "Kurtosis:                       3.245   Cond. No.                     9.73e+04\n",
      "==============================================================================\n",
      "\n",
      "Notes:\n",
      "[1] Standard Errors assume that the covariance matrix of the errors is correctly specified.\n",
      "[2] The condition number is large, 9.73e+04. This might indicate that there are\n",
      "strong multicollinearity or other numerical problems.\n"
     ]
    }
   ],
   "source": [
    "X_ori = df[['Ladder of life (Wellbeing) (0-10)','GNI','Annual precipitation', \n",
    "            'Average years of schooling', 'Gini coefficient','Unemployment']]\n",
    "X_ori = sm.add_constant(X_ori)\n",
    "y = df[\"HPI\"]\n",
    "model = sm.OLS(y, X_ori).fit()\n",
    "print(model.summary())"
   ]
  },
  {
   "cell_type": "markdown",
   "id": "f28a12b9",
   "metadata": {
    "papermill": {
     "duration": 0.0086,
     "end_time": "2025-04-14T23:05:10.247775",
     "exception": false,
     "start_time": "2025-04-14T23:05:10.239175",
     "status": "completed"
    },
    "tags": []
   },
   "source": [
    "# Model Summary\n",
    "- R-squared = 0.631, this means, about 63.1% of the variation in the Happy Planet Index (HPI) is explained by the independent variables in the model.\n",
    "- F-statistic = 49.35 (p < 0.0001) means that the model is statistically significant overall, meaning that at least one predictor has a meaningful impact on HPI."
   ]
  },
  {
   "cell_type": "markdown",
   "id": "0248b019",
   "metadata": {
    "papermill": {
     "duration": 0.0086,
     "end_time": "2025-04-14T23:05:10.265190",
     "exception": false,
     "start_time": "2025-04-14T23:05:10.256590",
     "status": "completed"
    },
    "tags": []
   },
   "source": [
    "# Interpretion of each variable\n",
    "## 1. Ladder of life (wellbeing) (0-10)\n",
    "- Coefficient = 9.5976, p_value = 0.000\n",
    "- A 1 increase in point of ladder of life, HPI increases by approximately 9.5976, ceris paribus\n",
    "- This is the most influential variable in the model (large coefficient and very low p-value), which makes sense—countries where people feel happier tend to score higher on the HPI.\n",
    "\n",
    "## 2. GNI\n",
    "- Coefficient = -2.941e-05, p_value = 0.934 (not significiant)\n",
    "- The effect is almost zero (ceris paribus) and not statistically meaningful (ceris paribus)\n",
    "\n",
    "## 3. Annual precipitation \n",
    "- Coefficient = 0.0029, p_value = 0.000\n",
    "- An increase of 100 mm in rainfall per year is associated with an increase of about 0.29 HPI points, ceris paribus.\n",
    "- Natural environmental factors like rainfall can influence agriculture, comfort, or biodiversity, all of which may affect overall sustainability and life satisfaction.\n",
    "\n",
    "## 4. Average years of schooling\n",
    "- Coefficient = -0.6637, p_value = 0.016\n",
    "- A one-year increase in average schooling is associated with a decrease of about 0.66 points in HPI, ceris paribus.\n",
    "- This result seems counterintuitive. One possible explanation is that education levels may correlate with industrialization or stress, which may negatively impact perceived happiness or environmental sustainability.\n",
    "\n",
    "## 5. Gini coefficient\n",
    "- Coefficient = -27.2383, p_value = 0.000\n",
    "- A 0.01 (1%) increase in the Gini coefficient is associated with a 0.27 point drop in HPI, ceris paribus.\n",
    "- This means, greater income inequality negatively affects happiness, social trust, and well-being, all of which contribute to a lower HPI.\n",
    "\n",
    "## 6. Unemployment\n",
    "- Coefficient = 0.2592, p_value = 0.001\n",
    "- A 1% increase in the unemployment rate is associated with a 0.26 point increase in HPI, ceris paribus.\n",
    "- This is surprising and goes against conventional theory. One hypothesis could be that countries with higher unemployment may also have more relaxed lifestyles or cultural factors that contribute positively to perceived happiness (e.g., some Latin American or Caribbean countries)."
   ]
  },
  {
   "cell_type": "markdown",
   "id": "f5a2e6ff",
   "metadata": {
    "papermill": {
     "duration": 0.008453,
     "end_time": "2025-04-14T23:05:10.283001",
     "exception": false,
     "start_time": "2025-04-14T23:05:10.274548",
     "status": "completed"
    },
    "tags": []
   },
   "source": [
    "**Mutilcollinearity**"
   ]
  },
  {
   "cell_type": "code",
   "execution_count": 43,
   "id": "764553d8",
   "metadata": {
    "execution": {
     "iopub.execute_input": "2025-04-14T23:05:10.301910Z",
     "iopub.status.busy": "2025-04-14T23:05:10.301544Z",
     "iopub.status.idle": "2025-04-14T23:05:10.326163Z",
     "shell.execute_reply": "2025-04-14T23:05:10.324832Z"
    },
    "papermill": {
     "duration": 0.03649,
     "end_time": "2025-04-14T23:05:10.328114",
     "exception": false,
     "start_time": "2025-04-14T23:05:10.291624",
     "status": "completed"
    },
    "tags": []
   },
   "outputs": [
    {
     "name": "stdout",
     "output_type": "stream",
     "text": [
      "                            Variable         VIF\n",
      "0                              const  150.481446\n",
      "1  Ladder of life (Wellbeing) (0-10)    1.764669\n",
      "2                                GNI    1.868960\n",
      "3               Annual precipitation    1.536761\n",
      "4         Average years of schooling    2.377402\n",
      "5                   Gini coefficient    2.102416\n",
      "6                       Unemployment    1.762865\n"
     ]
    }
   ],
   "source": [
    "\n",
    "vif_data = pd.DataFrame()\n",
    "\n",
    "vif_data[\"Variable\"] = X_ori.columns\n",
    "vif_data[\"VIF\"] = [variance_inflation_factor(X_ori.values, i)\n",
    "                   for i in range(X_ori.shape[1])]\n",
    "\n",
    "print(vif_data)\n"
   ]
  },
  {
   "cell_type": "markdown",
   "id": "f82ad2b9",
   "metadata": {
    "papermill": {
     "duration": 0.009063,
     "end_time": "2025-04-14T23:05:10.346814",
     "exception": false,
     "start_time": "2025-04-14T23:05:10.337751",
     "status": "completed"
    },
    "tags": []
   },
   "source": [
    "**Ramsey Test**"
   ]
  },
  {
   "cell_type": "code",
   "execution_count": 44,
   "id": "4e7d24fe",
   "metadata": {
    "execution": {
     "iopub.execute_input": "2025-04-14T23:05:10.366704Z",
     "iopub.status.busy": "2025-04-14T23:05:10.366342Z",
     "iopub.status.idle": "2025-04-14T23:05:10.377875Z",
     "shell.execute_reply": "2025-04-14T23:05:10.376325Z"
    },
    "papermill": {
     "duration": 0.023887,
     "end_time": "2025-04-14T23:05:10.379825",
     "exception": false,
     "start_time": "2025-04-14T23:05:10.355938",
     "status": "completed"
    },
    "tags": []
   },
   "outputs": [
    {
     "name": "stdout",
     "output_type": "stream",
     "text": [
      "F-statistic: 1.589419716675526\n",
      "p-value: 0.20911655848101618\n"
     ]
    }
   ],
   "source": [
    "# Ramsey test\n",
    "reset_test = linear_reset(model, power=2, use_f=True)\n",
    "print(\"F-statistic:\", reset_test.fvalue)\n",
    "print(\"p-value:\", reset_test.pvalue)"
   ]
  },
  {
   "cell_type": "code",
   "execution_count": 45,
   "id": "4631ac0b",
   "metadata": {},
   "outputs": [
    {
     "name": "stdout",
     "output_type": "stream",
     "text": [
      "No error, no omitted variable\n"
     ]
    }
   ],
   "source": [
    "threshold = 0.05\n",
    "if reset_test.pvalue > threshold:\n",
    "  print(\"No error, no omitted variable\")\n",
    "else:\n",
    "  print(\"There's an error and one or many omitted variables\")"
   ]
  },
  {
   "cell_type": "markdown",
   "id": "28ff9957",
   "metadata": {
    "papermill": {
     "duration": 0.008624,
     "end_time": "2025-04-14T23:05:10.398383",
     "exception": false,
     "start_time": "2025-04-14T23:05:10.389759",
     "status": "completed"
    },
    "tags": []
   },
   "source": [
    "**Heteroskedaticity**"
   ]
  },
  {
   "cell_type": "code",
   "execution_count": 46,
   "id": "d2ef6381",
   "metadata": {
    "execution": {
     "iopub.execute_input": "2025-04-14T23:05:10.418231Z",
     "iopub.status.busy": "2025-04-14T23:05:10.417869Z",
     "iopub.status.idle": "2025-04-14T23:05:10.821051Z",
     "shell.execute_reply": "2025-04-14T23:05:10.819839Z"
    },
    "papermill": {
     "duration": 0.415458,
     "end_time": "2025-04-14T23:05:10.823016",
     "exception": false,
     "start_time": "2025-04-14T23:05:10.407558",
     "status": "completed"
    },
    "tags": []
   },
   "outputs": [
    {
     "data": {
      "image/png": "[encoded data removed]",
      "text/plain": [
       "<Figure size 1000x600 with 1 Axes>"
      ]
     },
     "metadata": {},
     "output_type": "display_data"
    }
   ],
   "source": [
    "plt.figure(figsize=(10, 6))\n",
    "plt.scatter(model.fittedvalues, model.resid)\n",
    "plt.axhline(y=0, color='r', linestyle='--')\n",
    "plt.xlabel('Fitted values')\n",
    "plt.ylabel('Residuals')\n",
    "plt.title('Residuals vs Fitted Values')\n",
    "plt.show()"
   ]
  },
  {
   "cell_type": "code",
   "execution_count": 47,
   "id": "26000c4f",
   "metadata": {
    "execution": {
     "iopub.execute_input": "2025-04-14T23:05:10.844389Z",
     "iopub.status.busy": "2025-04-14T23:05:10.843977Z",
     "iopub.status.idle": "2025-04-14T23:05:10.862587Z",
     "shell.execute_reply": "2025-04-14T23:05:10.861283Z"
    },
    "papermill": {
     "duration": 0.031626,
     "end_time": "2025-04-14T23:05:10.864671",
     "exception": false,
     "start_time": "2025-04-14T23:05:10.833045",
     "status": "completed"
    },
    "tags": []
   },
   "outputs": [
    {
     "name": "stdout",
     "output_type": "stream",
     "text": [
      "Annual precipitation: -0.2331\n",
      "GNI: -0.1961\n",
      "Unemployment: -0.0744\n",
      "Gini coefficient: -0.0692\n",
      "Average years of schooling: 0.0152\n",
      "Ladder of life (Wellbeing) (0-10): 0.0062\n"
     ]
    }
   ],
   "source": [
    "residual_analysis = pd.DataFrame()\n",
    "residual_analysis['resid_squared'] = model.resid**2\n",
    "\n",
    "correlations = {}\n",
    "for var in X_ori.columns:\n",
    "    if var != 'const':  \n",
    "        residual_analysis[var] = df[var]\n",
    "        corr = residual_analysis['resid_squared'].corr(residual_analysis[var])\n",
    "        correlations[var] = corr\n",
    "\n",
    "sorted_correlations = sorted(correlations.items(), key=lambda x: abs(x[1]), reverse=True)\n",
    "for var, corr in sorted_correlations:\n",
    "    print(f\"{var}: {corr:.4f}\")\n"
   ]
  },
  {
   "cell_type": "code",
   "execution_count": 48,
   "id": "189e4f69",
   "metadata": {
    "execution": {
     "iopub.execute_input": "2025-04-14T23:05:10.889132Z",
     "iopub.status.busy": "2025-04-14T23:05:10.888732Z",
     "iopub.status.idle": "2025-04-14T23:05:10.898344Z",
     "shell.execute_reply": "2025-04-14T23:05:10.897031Z"
    },
    "papermill": {
     "duration": 0.023675,
     "end_time": "2025-04-14T23:05:10.900132",
     "exception": false,
     "start_time": "2025-04-14T23:05:10.876457",
     "status": "completed"
    },
    "tags": []
   },
   "outputs": [
    {
     "name": "stdout",
     "output_type": "stream",
     "text": [
      "Breusch-Pagan test:\n",
      "{'Lagrange multiplier statistic': 21.117495561918275, 'p-value': 0.0017475281135107149, 'f-value': 3.832314897448431, 'f p-value': 0.0012970932300864439}\n",
      "Reject the null hypothesis of homoscedasticity\n"
     ]
    }
   ],
   "source": [
    "#Breuch-Pagan test; for significant level of 0.05\n",
    "bp_test = sm.stats.diagnostic.het_breuschpagan(model.resid, model.model.exog)\n",
    "labels = ['Lagrange multiplier statistic', 'p-value', 'f-value', 'f p-value']\n",
    "print(\"Breusch-Pagan test:\")\n",
    "res = dict(zip(labels, bp_test))\n",
    "print(res)\n",
    "if res['p-value'] < 0.05:\n",
    "    print(\"Reject the null hypothesis of homoscedasticity\")"
   ]
  },
  {
   "cell_type": "code",
   "execution_count": 49,
   "id": "aa2eb771",
   "metadata": {
    "execution": {
     "iopub.execute_input": "2025-04-14T23:05:10.922142Z",
     "iopub.status.busy": "2025-04-14T23:05:10.921785Z",
     "iopub.status.idle": "2025-04-14T23:05:10.950961Z",
     "shell.execute_reply": "2025-04-14T23:05:10.949745Z"
    },
    "papermill": {
     "duration": 0.042348,
     "end_time": "2025-04-14T23:05:10.953067",
     "exception": false,
     "start_time": "2025-04-14T23:05:10.910719",
     "status": "completed"
    },
    "tags": []
   },
   "outputs": [
    {
     "name": "stdout",
     "output_type": "stream",
     "text": [
      "Annual precipitation: p-value = 0.0018 (Significant)\n",
      "GNI: p-value = 0.0085 (Significant)\n",
      "Unemployment: p-value = 0.3185 (Not significant)\n",
      "Gini coefficient: p-value = 0.3532 (Not significant)\n",
      "Average years of schooling: p-value = 0.8382 (Not significant)\n",
      "Ladder of life (Wellbeing) (0-10): p-value = 0.9334 (Not significant)\n"
     ]
    }
   ],
   "source": [
    "#Breusch Pagan Test for each variables\n",
    "bp_results = {}\n",
    "for var in X_ori.columns:\n",
    "    if var != 'const': \n",
    "        X_single = sm.add_constant(X_ori[[var]])\n",
    "        bp_test = het_breuschpagan(model.resid, X_single)\n",
    "        bp_results[var] = bp_test[1]  # p-value\n",
    "\n",
    "sorted_bp = sorted(bp_results.items(), key=lambda x: x[1])\n",
    "for var, p_value in sorted_bp:\n",
    "    significance = \"Significant\" if p_value < 0.05 else \"Not significant\"\n",
    "    print(f\"{var}: p-value = {p_value:.4f} ({significance})\")"
   ]
  },
  {
   "cell_type": "code",
   "execution_count": 50,
   "id": "e506f5ee",
   "metadata": {
    "execution": {
     "iopub.execute_input": "2025-04-14T23:05:10.975974Z",
     "iopub.status.busy": "2025-04-14T23:05:10.975569Z",
     "iopub.status.idle": "2025-04-14T23:05:10.989465Z",
     "shell.execute_reply": "2025-04-14T23:05:10.988163Z"
    },
    "papermill": {
     "duration": 0.027713,
     "end_time": "2025-04-14T23:05:10.991353",
     "exception": false,
     "start_time": "2025-04-14T23:05:10.963640",
     "status": "completed"
    },
    "tags": []
   },
   "outputs": [
    {
     "name": "stdout",
     "output_type": "stream",
     "text": [
      "White Test:\n",
      "{'Test Statistic': 90.19974201370756, 'p-value': 9.855724147779936e-09, 'F-statistic': 5.65467351221673, 'F p-value': 1.2779633517703073e-12}\n",
      "Reject the null hypothesis of homoscedasticity\n"
     ]
    }
   ],
   "source": [
    "# White test; for significant level of 0.05 \n",
    "residuals = model.resid\n",
    "\n",
    "white_test = sm.stats.diagnostic.het_white(residuals, X_ori)\n",
    "labels = ['Test Statistic', 'p-value', 'F-statistic', 'F p-value']\n",
    "print('White Test:')\n",
    "print(dict(zip(labels, white_test)))\n",
    "if white_test[1] < 0.05:\n",
    "    print(\"Reject the null hypothesis of homoscedasticity\")"
   ]
  },
  {
   "cell_type": "markdown",
   "id": "f044ea12",
   "metadata": {
    "papermill": {
     "duration": 0.010024,
     "end_time": "2025-04-14T23:05:11.011836",
     "exception": false,
     "start_time": "2025-04-14T23:05:11.001812",
     "status": "completed"
    },
    "tags": []
   },
   "source": [
    "We have two ways to solve the heteroskedasticity\n",
    "\n",
    "**1. Robust Standard Errors**"
   ]
  },
  {
   "cell_type": "code",
   "execution_count": 51,
   "id": "28227419",
   "metadata": {
    "execution": {
     "iopub.execute_input": "2025-04-14T23:05:11.036184Z",
     "iopub.status.busy": "2025-04-14T23:05:11.035726Z",
     "iopub.status.idle": "2025-04-14T23:05:11.057201Z",
     "shell.execute_reply": "2025-04-14T23:05:11.055703Z"
    },
    "papermill": {
     "duration": 0.036867,
     "end_time": "2025-04-14T23:05:11.059195",
     "exception": false,
     "start_time": "2025-04-14T23:05:11.022328",
     "status": "completed"
    },
    "tags": []
   },
   "outputs": [
    {
     "name": "stdout",
     "output_type": "stream",
     "text": [
      "                            OLS Regression Results                            \n",
      "==============================================================================\n",
      "Dep. Variable:                    HPI   R-squared:                       0.631\n",
      "Model:                            OLS   Adj. R-squared:                  0.618\n",
      "Method:                 Least Squares   F-statistic:                     90.20\n",
      "Date:                Tue, 15 Apr 2025   Prob (F-statistic):           1.22e-50\n",
      "Time:                        09:01:38   Log-Likelihood:                -551.45\n",
      "No. Observations:                 180   AIC:                             1117.\n",
      "Df Residuals:                     173   BIC:                             1139.\n",
      "Df Model:                           6                                         \n",
      "Covariance Type:                  HC3                                         \n",
      "=====================================================================================================\n",
      "                                        coef    std err          z      P>|z|      [0.025      0.975]\n",
      "-----------------------------------------------------------------------------------------------------\n",
      "const                                 1.2048      5.417      0.222      0.824      -9.412      11.821\n",
      "Ladder of life (Wellbeing) (0-10)     9.5976      0.654     14.685      0.000       8.317      10.879\n",
      "GNI                               -2.941e-05      0.000     -0.079      0.937      -0.001       0.001\n",
      "Annual precipitation                  0.0029      0.001      4.723      0.000       0.002       0.004\n",
      "Average years of schooling           -0.6637      0.346     -1.918      0.055      -1.342       0.015\n",
      "Gini coefficient                    -27.2383      7.774     -3.504      0.000     -42.475     -12.001\n",
      "Unemployment                          0.2592      0.076      3.398      0.001       0.110       0.409\n",
      "==============================================================================\n",
      "Omnibus:                       11.638   Durbin-Watson:                   0.424\n",
      "Prob(Omnibus):                  0.003   Jarque-Bera (JB):               12.110\n",
      "Skew:                          -0.623   Prob(JB):                      0.00235\n",
      "Kurtosis:                       3.245   Cond. No.                     9.73e+04\n",
      "==============================================================================\n",
      "\n",
      "Notes:\n",
      "[1] Standard Errors are heteroscedasticity robust (HC3)\n",
      "[2] The condition number is large, 9.73e+04. This might indicate that there are\n",
      "strong multicollinearity or other numerical problems.\n"
     ]
    }
   ],
   "source": [
    "robust_model = sm.OLS(y, X_ori).fit(cov_type='HC3')\n",
    "print(robust_model.summary())"
   ]
  },
  {
   "cell_type": "markdown",
   "id": "4a16b6df",
   "metadata": {
    "papermill": {
     "duration": 0.010362,
     "end_time": "2025-04-14T23:05:11.080067",
     "exception": false,
     "start_time": "2025-04-14T23:05:11.069705",
     "status": "completed"
    },
    "tags": []
   },
   "source": [
    "## Interpret\n",
    "After applying robust standard errors to address heteroskedasticity:\n",
    "\n",
    "- Coefficients remain unchanged.\n",
    "- Standard errors changed, especially for Average years of schooling (increased).\n",
    "- P-value for Average years of schooling rose from 0.016 to 0.055 → lost significance at the 5% level.\n",
    "- Other variables’ significance mostly unchanged.\n",
    "\n",
    "This means, schooling may not have a clear direct impact on happiness (HPI); quality and access matter more. Thus, when designing policies, one should not assume that investing in education will directly and clearly improve HPI — factors like education quality and equal access should also be considered.\n",
    "\n",
    "**Conclusion**: Robust errors reveal that some effects (like education) are less certain than initially estimated."
   ]
  },
  {
   "cell_type": "code",
   "execution_count": 52,
   "id": "27d2193c",
   "metadata": {
    "execution": {
     "iopub.execute_input": "2025-04-14T23:05:11.103604Z",
     "iopub.status.busy": "2025-04-14T23:05:11.103225Z",
     "iopub.status.idle": "2025-04-14T23:05:11.518960Z",
     "shell.execute_reply": "2025-04-14T23:05:11.517694Z"
    },
    "papermill": {
     "duration": 0.429972,
     "end_time": "2025-04-14T23:05:11.520835",
     "exception": false,
     "start_time": "2025-04-14T23:05:11.090863",
     "status": "completed"
    },
    "tags": []
   },
   "outputs": [
    {
     "data": {
      "text/plain": [
       "Text(0.5, 1.0, 'Histogram')"
      ]
     },
     "execution_count": 52,
     "metadata": {},
     "output_type": "execute_result"
    },
    {
     "data": {
      "image/png": "[encoded data removed]",
      "text/plain": [
       "<Figure size 1200x1000 with 1 Axes>"
      ]
     },
     "metadata": {},
     "output_type": "display_data"
    }
   ],
   "source": [
    "\n",
    "# Histogram of residuals\n",
    "residuals = model.resid\n",
    "plt.figure(figsize=(12, 10))\n",
    "plt.subplot(221)\n",
    "sns.histplot(residuals, kde=True)\n",
    "plt.title(f'Histogram')"
   ]
  },
  {
   "cell_type": "markdown",
   "id": "e2202962",
   "metadata": {
    "papermill": {
     "duration": 0.011591,
     "end_time": "2025-04-14T23:05:11.544413",
     "exception": false,
     "start_time": "2025-04-14T23:05:11.532822",
     "status": "completed"
    },
    "tags": []
   },
   "source": [
    "**2. Remove variable and standard**"
   ]
  },
  {
   "cell_type": "code",
   "execution_count": 53,
   "id": "b15b73fb",
   "metadata": {
    "execution": {
     "iopub.execute_input": "2025-04-14T23:05:11.568855Z",
     "iopub.status.busy": "2025-04-14T23:05:11.568451Z",
     "iopub.status.idle": "2025-04-14T23:05:11.574836Z",
     "shell.execute_reply": "2025-04-14T23:05:11.573551Z"
    },
    "papermill": {
     "duration": 0.02103,
     "end_time": "2025-04-14T23:05:11.577119",
     "exception": false,
     "start_time": "2025-04-14T23:05:11.556089",
     "status": "completed"
    },
    "tags": []
   },
   "outputs": [],
   "source": [
    "df = pd.DataFrame(data)\n",
    "df = df[(df['GNI'] <= 6500)] "
   ]
  },
  {
   "cell_type": "code",
   "execution_count": 54,
   "id": "ccf50f8f",
   "metadata": {
    "execution": {
     "iopub.execute_input": "2025-04-14T23:05:11.601180Z",
     "iopub.status.busy": "2025-04-14T23:05:11.600782Z",
     "iopub.status.idle": "2025-04-14T23:05:11.628192Z",
     "shell.execute_reply": "2025-04-14T23:05:11.626647Z"
    },
    "papermill": {
     "duration": 0.041972,
     "end_time": "2025-04-14T23:05:11.630385",
     "exception": false,
     "start_time": "2025-04-14T23:05:11.588413",
     "status": "completed"
    },
    "tags": []
   },
   "outputs": [
    {
     "name": "stdout",
     "output_type": "stream",
     "text": [
      "                            OLS Regression Results                            \n",
      "==============================================================================\n",
      "Dep. Variable:                 ln_HPI   R-squared:                       0.538\n",
      "Model:                            OLS   Adj. R-squared:                  0.527\n",
      "Method:                 Least Squares   F-statistic:                     50.89\n",
      "Date:                Tue, 15 Apr 2025   Prob (F-statistic):           2.30e-28\n",
      "Time:                        09:01:38   Log-Likelihood:                 82.775\n",
      "No. Observations:                 180   AIC:                            -155.6\n",
      "Df Residuals:                     175   BIC:                            -139.6\n",
      "Df Model:                           4                                         \n",
      "Covariance Type:            nonrobust                                         \n",
      "=====================================================================================================\n",
      "                                        coef    std err          t      P>|t|      [0.025      0.975]\n",
      "-----------------------------------------------------------------------------------------------------\n",
      "const                                 1.9889      0.222      8.972      0.000       1.551       2.426\n",
      "Ladder of life (Wellbeing) (0-10)     0.2022      0.020      9.975      0.000       0.162       0.242\n",
      "ln_GNI                                0.1077      0.038      2.865      0.005       0.033       0.182\n",
      "Average years of schooling           -0.0149      0.008     -1.829      0.069      -0.031       0.001\n",
      "Gini coefficient                     -0.2713      0.198     -1.367      0.173      -0.663       0.120\n",
      "==============================================================================\n",
      "Omnibus:                       61.820   Durbin-Watson:                   0.482\n",
      "Prob(Omnibus):                  0.000   Jarque-Bera (JB):              164.314\n",
      "Skew:                          -1.456   Prob(JB):                     2.09e-36\n",
      "Kurtosis:                       6.664   Cond. No.                         264.\n",
      "==============================================================================\n",
      "\n",
      "Notes:\n",
      "[1] Standard Errors assume that the covariance matrix of the errors is correctly specified.\n"
     ]
    }
   ],
   "source": [
    "df[\"ln_Annual precipitation\"]= np.log(df[\"Annual precipitation\"])\n",
    "df['ln_GNI'] = np.log(df['GNI'])\n",
    "df['ln_HPI'] = np.log(df['HPI'])\n",
    "\n",
    "X = df[['Ladder of life (Wellbeing) (0-10)','ln_GNI', 'Average years of schooling', 'Gini coefficient']]\n",
    "y = df[\"ln_HPI\"]\n",
    "X = sm.add_constant(X)\n",
    "model_wls = sm.OLS(y, X).fit()\n",
    "print(model_wls.summary())"
   ]
  },
  {
   "cell_type": "markdown",
   "id": "b56fe547",
   "metadata": {
    "papermill": {
     "duration": 0.01064,
     "end_time": "2025-04-14T23:05:11.652407",
     "exception": false,
     "start_time": "2025-04-14T23:05:11.641767",
     "status": "completed"
    },
    "tags": []
   },
   "source": [
    "## Model summary:\n",
    "- R_squared = 0.538: About 53.8% of the variation in the log of the Happy Planet Index (ln_HPI) is explained by the independent variables in the model.\n",
    "- F-statistic = 50.89 (p < 0.0001): The model is statistically significant overall, meaning that at least one predictor has a meaningful impact on ln_HPI."
   ]
  },
  {
   "cell_type": "markdown",
   "id": "f634624f",
   "metadata": {
    "papermill": {
     "duration": 0.010718,
     "end_time": "2025-04-14T23:05:11.674377",
     "exception": false,
     "start_time": "2025-04-14T23:05:11.663659",
     "status": "completed"
    },
    "tags": []
   },
   "source": [
    "## Interpret each variables:\n",
    "### 1. Ladder of life (Wellbeing) (0–10): \n",
    "- Coefficient: 0.2022, p-value: 0.000\n",
    "- When individual happiness increases by 1 point, HPI increases by approximately 20.23%, ceris paribus (since HPI is log-transformed). \n",
    "- This indicates that people's life satisfaction plays an important role in sustainable development.\n",
    "  \n",
    "### 2. ln_GNI (log of Gross National Income per capita)\n",
    "- Coefficient: 0.1067, p_value = 0.005\n",
    "-  A 1% increase in GNI leads to an approximate 0.1062% increase in HPI, ceris paribus. \n",
    "- This suggests that wealthier nations tend to achieve higher HPI, though the impact is not particularly large.\n",
    "- Income has a positive but relatively smaller impact on happiness compared to wellbeing. This aligns with the idea that income contributes to happiness, but isn't the main driver.\n",
    "\n",
    "### 3. Average years of schooling\n",
    "- Coefficient: -0.0149, p-value: 0.07\n",
    "- Although the direction is negative (higher education → lower HPI), there's insufficient statistical evidence to confirm the effect( ceris paribus).\n",
    "\n",
    "### 4. Gini\n",
    "- Coefficient: -0.0275, p_value: 0.168\n",
    "- Although the direction is negative (higher inequality → lower HPI), there's insufficient statistical evidence to confirm the effect(ceris paribus)."
   ]
  },
  {
   "cell_type": "markdown",
   "id": "f86b4e0d",
   "metadata": {
    "papermill": {
     "duration": 0.010765,
     "end_time": "2025-04-14T23:05:11.696215",
     "exception": false,
     "start_time": "2025-04-14T23:05:11.685450",
     "status": "completed"
    },
    "tags": []
   },
   "source": [
    "# **Variable Insight**\n",
    "1. Wellbeing (Ladder of Life): Strong positive and significant in both models.\n",
    "\n",
    "2. GNI:\n",
    "\n",
    "- HC3: p = 0.937 → not significant\n",
    "\n",
    "- Log model: p = 0.005 → significant\n",
    "→ Income has a clearer impact when outliers are removed and log is applied.\n",
    "\n",
    "3. Schooling: Remains borderline; no strong evidence in either.\n",
    "\n",
    "4. Gini:\n",
    "\n",
    "- HC3: very significant\n",
    "\n",
    "- Log model: becomes insignificant\n",
    "→ Gini’s effect may be driven by high-income countries.\n",
    "\n",
    "\n",
    "**Conclusion**:  Income matters more in mid-range economies; Gini less so after controlling for extreme values. This means, preprocessing (log, outlier removal) clarifies true drivers of happiness."
   ]
  },
  {
   "cell_type": "code",
   "execution_count": 55,
   "id": "4c4ce51a",
   "metadata": {
    "execution": {
     "iopub.execute_input": "2025-04-14T23:05:11.720796Z",
     "iopub.status.busy": "2025-04-14T23:05:11.720390Z",
     "iopub.status.idle": "2025-04-14T23:05:11.735698Z",
     "shell.execute_reply": "2025-04-14T23:05:11.734439Z"
    },
    "papermill": {
     "duration": 0.030023,
     "end_time": "2025-04-14T23:05:11.737657",
     "exception": false,
     "start_time": "2025-04-14T23:05:11.707634",
     "status": "completed"
    },
    "tags": []
   },
   "outputs": [
    {
     "name": "stdout",
     "output_type": "stream",
     "text": [
      "                            Variable         VIF\n",
      "0                              const  368.416774\n",
      "1  Ladder of life (Wellbeing) (0-10)    1.520755\n",
      "2                             ln_GNI    2.253683\n",
      "3         Average years of schooling    2.471039\n",
      "4                   Gini coefficient    1.782262\n"
     ]
    }
   ],
   "source": [
    "from statsmodels.stats.outliers_influence import variance_inflation_factor\n",
    "vif_data = pd.DataFrame()\n",
    "vif_data[\"Variable\"] = X.columns\n",
    "vif_data[\"VIF\"] = [variance_inflation_factor(X.values, i)\n",
    "                   for i in range(X.shape[1])]\n",
    "\n",
    "print(vif_data)"
   ]
  },
  {
   "cell_type": "code",
   "execution_count": 56,
   "id": "8cdcfe9f",
   "metadata": {
    "execution": {
     "iopub.execute_input": "2025-04-14T23:05:11.762516Z",
     "iopub.status.busy": "2025-04-14T23:05:11.762148Z",
     "iopub.status.idle": "2025-04-14T23:05:11.771498Z",
     "shell.execute_reply": "2025-04-14T23:05:11.770347Z"
    },
    "papermill": {
     "duration": 0.023967,
     "end_time": "2025-04-14T23:05:11.773512",
     "exception": false,
     "start_time": "2025-04-14T23:05:11.749545",
     "status": "completed"
    },
    "tags": []
   },
   "outputs": [
    {
     "name": "stdout",
     "output_type": "stream",
     "text": [
      "Breusch-Pagan test:\n",
      "{'Lagrange multiplier statistic': 5.4863844027108915, 'p-value': 0.24092889652130683, 'f-value': 1.3754188565578598, 'f p-value': 0.2443604966296758}\n"
     ]
    }
   ],
   "source": [
    "#Breuch-Pagan test; for significant level of 0.05\n",
    "\n",
    "bp_test = sm.stats.diagnostic.het_breuschpagan(model_wls.resid, model_wls.model.exog) #p_value có tăng so với không chia data\n",
    "labels = ['Lagrange multiplier statistic', 'p-value', 'f-value', 'f p-value']\n",
    "print(\"Breusch-Pagan test:\")\n",
    "bp_results = [float(value) for value in bp_test]\n",
    "res = dict(zip(labels, bp_results))\n",
    "\n",
    "print(res)\n",
    "if res['p-value'] < 0.05:\n",
    "    print(\"Reject the null hypothesis of homoscedasticity\")"
   ]
  },
  {
   "cell_type": "code",
   "execution_count": 57,
   "id": "977b3f01",
   "metadata": {
    "execution": {
     "iopub.execute_input": "2025-04-14T23:05:11.798463Z",
     "iopub.status.busy": "2025-04-14T23:05:11.797878Z",
     "iopub.status.idle": "2025-04-14T23:05:11.808682Z",
     "shell.execute_reply": "2025-04-14T23:05:11.807333Z"
    },
    "papermill": {
     "duration": 0.024978,
     "end_time": "2025-04-14T23:05:11.810530",
     "exception": false,
     "start_time": "2025-04-14T23:05:11.785552",
     "status": "completed"
    },
    "tags": []
   },
   "outputs": [
    {
     "name": "stdout",
     "output_type": "stream",
     "text": [
      "White Test:\n",
      "{'Test Statistic': 15.893089107615788, 'p-value': 0.3199467559199396, 'F-statistic': 1.141398654823196, 'F p-value': 0.32583859328935794}\n"
     ]
    }
   ],
   "source": [
    "# White test; for significant level of 0.05 \n",
    "import statsmodels.stats.diagnostic as smd\n",
    "residuals = model_wls.resid\n",
    "\n",
    "white_test = smd.het_white(residuals, X)\n",
    "labels = ['Test Statistic', 'p-value', 'F-statistic', 'F p-value']\n",
    "print('White Test:')\n",
    "white_results = [float(value) for value in white_test]\n",
    "print(dict(zip(labels, white_results)))\n",
    "if white_test[1] < 0.05:\n",
    "    print(\"Reject the null hypothesis of homoscedasticity\")"
   ]
  },
  {
   "cell_type": "markdown",
   "id": "f130cd2e",
   "metadata": {},
   "source": [
    "#  **Result model**\n",
    "### ln(HPI) = 1.9889 + 0,2022.WB + 0,1077.ln(GNI) + ε"
   ]
  },
  {
   "cell_type": "markdown",
   "id": "9d983159",
   "metadata": {
    "papermill": {
     "duration": 0.011462,
     "end_time": "2025-04-14T23:05:11.836688",
     "exception": false,
     "start_time": "2025-04-14T23:05:11.825226",
     "status": "completed"
    },
    "tags": []
   },
   "source": [
    "# Middle income countries"
   ]
  },
  {
   "cell_type": "code",
   "execution_count": 58,
   "id": "c68c05ec",
   "metadata": {
    "execution": {
     "iopub.execute_input": "2025-04-14T23:05:11.861302Z",
     "iopub.status.busy": "2025-04-14T23:05:11.860849Z",
     "iopub.status.idle": "2025-04-14T23:05:11.868150Z",
     "shell.execute_reply": "2025-04-14T23:05:11.866633Z"
    },
    "papermill": {
     "duration": 0.021996,
     "end_time": "2025-04-14T23:05:11.870324",
     "exception": false,
     "start_time": "2025-04-14T23:05:11.848328",
     "status": "completed"
    },
    "tags": []
   },
   "outputs": [],
   "source": [
    "df = pd.DataFrame(data)\n",
    "df = df[(df['GNI'] >= 6500) & (df['GNI'] <=31000)]"
   ]
  },
  {
   "cell_type": "code",
   "execution_count": 59,
   "id": "c3110d88",
   "metadata": {
    "execution": {
     "iopub.execute_input": "2025-04-14T23:05:11.896153Z",
     "iopub.status.busy": "2025-04-14T23:05:11.895812Z",
     "iopub.status.idle": "2025-04-14T23:05:11.922370Z",
     "shell.execute_reply": "2025-04-14T23:05:11.921044Z"
    },
    "papermill": {
     "duration": 0.041448,
     "end_time": "2025-04-14T23:05:11.924209",
     "exception": false,
     "start_time": "2025-04-14T23:05:11.882761",
     "status": "completed"
    },
    "tags": []
   },
   "outputs": [
    {
     "name": "stdout",
     "output_type": "stream",
     "text": [
      "                            OLS Regression Results                            \n",
      "==============================================================================\n",
      "Dep. Variable:                    HPI   R-squared:                       0.741\n",
      "Model:                            OLS   Adj. R-squared:                  0.736\n",
      "Method:                 Least Squares   F-statistic:                     144.1\n",
      "Date:                Tue, 15 Apr 2025   Prob (F-statistic):           8.65e-72\n",
      "Time:                        09:01:38   Log-Likelihood:                -734.76\n",
      "No. Observations:                 258   AIC:                             1482.\n",
      "Df Residuals:                     252   BIC:                             1503.\n",
      "Df Model:                           5                                         \n",
      "Covariance Type:            nonrobust                                         \n",
      "=====================================================================================================\n",
      "                                        coef    std err          t      P>|t|      [0.025      0.975]\n",
      "-----------------------------------------------------------------------------------------------------\n",
      "const                               -15.0488      5.086     -2.959      0.003     -25.065      -5.033\n",
      "Ladder of life (Wellbeing) (0-10)     6.8049      0.494     13.782      0.000       5.832       7.777\n",
      "Average years of schooling           -1.5082      0.208     -7.265      0.000      -1.917      -1.099\n",
      "ln_Annual precipitation               4.8835      0.600      8.139      0.000       3.702       6.065\n",
      "stan_gini                            -0.4044      0.614     -0.659      0.511      -1.614       0.805\n",
      "Unemployment                          0.1489      0.052      2.879      0.004       0.047       0.251\n",
      "==============================================================================\n",
      "Omnibus:                       17.750   Durbin-Watson:                   0.333\n",
      "Prob(Omnibus):                  0.000   Jarque-Bera (JB):               20.141\n",
      "Skew:                          -0.678   Prob(JB):                     4.23e-05\n",
      "Kurtosis:                       2.815   Cond. No.                         341.\n",
      "==============================================================================\n",
      "\n",
      "Notes:\n",
      "[1] Standard Errors assume that the covariance matrix of the errors is correctly specified.\n"
     ]
    }
   ],
   "source": [
    "df[\"ln_Annual precipitation\"]= np.log(df[\"Annual precipitation\"])\n",
    "df['ln_GNI'] = np.log(df['GNI'])\n",
    "df['stan_gini'] = df['Gini coefficient'] * 10\n",
    "df['ln_HPI'] = np.log(df['HPI'])\n",
    "X_ori = df[['Ladder of life (Wellbeing) (0-10)','Average years of schooling','ln_Annual precipitation', 'stan_gini','Unemployment']]\n",
    "y = df[\"HPI\"]\n",
    "X_ori = sm.add_constant(X_ori)\n",
    "model = sm.OLS(y, X_ori).fit()\n",
    "print(model.summary())"
   ]
  },
  {
   "cell_type": "markdown",
   "id": "5a7dd627",
   "metadata": {
    "papermill": {
     "duration": 0.011483,
     "end_time": "2025-04-14T23:05:11.947534",
     "exception": false,
     "start_time": "2025-04-14T23:05:11.936051",
     "status": "completed"
    },
    "tags": []
   },
   "source": [
    "## Model Summary:\n",
    "- R-squared = 0.741 → The model explains 74.1% of the variation in the Happiness Index (HPI).\n",
    "- Data is filtered for middle-income countries (GNI between 6,500 and 31,000), with log-transformed and standardized variables to handle heteroskedasticity."
   ]
  },
  {
   "cell_type": "markdown",
   "id": "2341134b",
   "metadata": {
    "papermill": {
     "duration": 0.01136,
     "end_time": "2025-04-14T23:05:11.970535",
     "exception": false,
     "start_time": "2025-04-14T23:05:11.959175",
     "status": "completed"
    },
    "tags": []
   },
   "source": [
    "## Interpretation of each variable:\n",
    "1. Ladder of life (Wellbeing)\n",
    "- Coefficient: 6.804, p-value: 0.000 (significant)\n",
    "- A 1-point increase in self-perceived wellbeing increases HPI by 6.8 points, ceris paribus. This is a strong, direct, and highly significant relationship.\n",
    "- Thus, policymakers should prioritize improving subjective wellbeing (e.g., mental health support, life satisfaction programs), as it's the most influential driver of happiness.\n",
    "\n",
    "2. Average years of schooling\n",
    "- Coefficient: -1.582, p-value: 0.000 (significant)\n",
    "- Surprisingly, more years of schooling are associated with a decrease in HPI, ceris paribus. This may indicate that longer education can lead to academic pressure, stress, or inequality of opportunity.\n",
    "- Investing in education should go beyond just quantity (more years) and focus on quality, mental wellbeing in schools, and equal access to avoid unintended negative impacts on happiness.\n",
    "\n",
    "3. ln_Annual precipitation\n",
    "- Coefficient: 4.883, p-value: 0.000 (significant)\n",
    "- A 1-unit increase in log precipitation (approx. 2.7x increase in actual rainfall) correlates with a 4.88-point increase in HPI, ceris paribus. This suggests a positive link between climate/environmental conditions and happiness.\n",
    "- Countries with favorable climates may have an environmental advantage for wellbeing. Urban planning, climate adaptation, and green infrastructure should be considered in happiness-oriented development.\n",
    "\n",
    "4. stan_gini (Standardized Gini coefficient)\n",
    "- Coefficient: -0.850, p-value: 0.511 (not significant)\n",
    "- Although inequality shows a negative effect, it's not statistically significant in this model, ceris paribus. Inequality might not strongly affect happiness in middle-income contexts, or the effect may be masked by other factors.\n",
    "\n",
    "5. Unemployment\n",
    "- Coefficient: 0.1489, p-value: 0.004 (significant)\n",
    "- Unexpectedly, higher unemployment is associated with higher HPI. This might reflect confounding factors, such as strong social safety nets, cultural attitudes, or informal labor markets (ceris paribus)\n",
    "- Be cautious when interpreting this variable. Unemployment support, quality of work, and job security might be more relevant than just unemployment rate itself. Further model refinement is advised."
   ]
  },
  {
   "cell_type": "code",
   "execution_count": 60,
   "id": "c761741c",
   "metadata": {
    "execution": {
     "iopub.execute_input": "2025-04-14T23:05:11.995584Z",
     "iopub.status.busy": "2025-04-14T23:05:11.995123Z",
     "iopub.status.idle": "2025-04-14T23:05:12.010471Z",
     "shell.execute_reply": "2025-04-14T23:05:12.009012Z"
    },
    "papermill": {
     "duration": 0.030126,
     "end_time": "2025-04-14T23:05:12.012459",
     "exception": false,
     "start_time": "2025-04-14T23:05:11.982333",
     "status": "completed"
    },
    "tags": []
   },
   "outputs": [
    {
     "name": "stdout",
     "output_type": "stream",
     "text": [
      "                            Variable         VIF\n",
      "0                              const  374.041710\n",
      "1  Ladder of life (Wellbeing) (0-10)    1.306062\n",
      "2         Average years of schooling    1.993526\n",
      "3            ln_Annual precipitation    1.910967\n",
      "4                          stan_gini    3.001063\n",
      "5                       Unemployment    1.098305\n"
     ]
    }
   ],
   "source": [
    "\n",
    "vif_data = pd.DataFrame()\n",
    "\n",
    "vif_data[\"Variable\"] = X_ori.columns\n",
    "vif_data[\"VIF\"] = [variance_inflation_factor(X_ori.values, i)\n",
    "                   for i in range(X_ori.shape[1])]\n",
    "\n",
    "print(vif_data)"
   ]
  },
  {
   "cell_type": "code",
   "execution_count": 61,
   "id": "789bc146",
   "metadata": {
    "execution": {
     "iopub.execute_input": "2025-04-14T23:05:12.039478Z",
     "iopub.status.busy": "2025-04-14T23:05:12.039084Z",
     "iopub.status.idle": "2025-04-14T23:05:12.374000Z",
     "shell.execute_reply": "2025-04-14T23:05:12.372690Z"
    },
    "papermill": {
     "duration": 0.351462,
     "end_time": "2025-04-14T23:05:12.376006",
     "exception": false,
     "start_time": "2025-04-14T23:05:12.024544",
     "status": "completed"
    },
    "tags": []
   },
   "outputs": [
    {
     "data": {
      "image/png": "[encoded data removed]",
      "text/plain": [
       "<Figure size 1000x600 with 1 Axes>"
      ]
     },
     "metadata": {},
     "output_type": "display_data"
    }
   ],
   "source": [
    "plt.figure(figsize=(10, 6))\n",
    "plt.scatter(model.fittedvalues, model.resid)\n",
    "plt.axhline(y=0, color='r', linestyle='--')\n",
    "plt.xlabel('Fitted values')\n",
    "plt.ylabel('Residuals')\n",
    "plt.title('Residuals vs Fitted Values')\n",
    "plt.show()"
   ]
  },
  {
   "cell_type": "code",
   "execution_count": 62,
   "id": "8de46e60",
   "metadata": {
    "execution": {
     "iopub.execute_input": "2025-04-14T23:05:12.403786Z",
     "iopub.status.busy": "2025-04-14T23:05:12.403434Z",
     "iopub.status.idle": "2025-04-14T23:05:12.418570Z",
     "shell.execute_reply": "2025-04-14T23:05:12.417365Z"
    },
    "papermill": {
     "duration": 0.031237,
     "end_time": "2025-04-14T23:05:12.420442",
     "exception": false,
     "start_time": "2025-04-14T23:05:12.389205",
     "status": "completed"
    },
    "tags": []
   },
   "outputs": [
    {
     "name": "stdout",
     "output_type": "stream",
     "text": [
      "Ladder of life (Wellbeing) (0-10): 0.1445\n",
      "Unemployment: -0.1321\n",
      "Average years of schooling: -0.1225\n",
      "stan_gini: -0.0553\n",
      "ln_Annual precipitation: 0.0079\n"
     ]
    }
   ],
   "source": [
    "residual_analysis = pd.DataFrame()\n",
    "residual_analysis['resid_squared'] = model.resid**2\n",
    "\n",
    "correlations = {}\n",
    "for var in X_ori.columns:\n",
    "    if var != 'const':  \n",
    "        residual_analysis[var] = df[var]\n",
    "        corr = residual_analysis['resid_squared'].corr(residual_analysis[var])\n",
    "        correlations[var] = corr\n",
    "\n",
    "sorted_correlations = sorted(correlations.items(), key=lambda x: abs(x[1]), reverse=True)\n",
    "for var, corr in sorted_correlations:\n",
    "    print(f\"{var}: {corr:.4f}\")"
   ]
  },
  {
   "cell_type": "code",
   "execution_count": 63,
   "id": "276b45f6",
   "metadata": {
    "execution": {
     "iopub.execute_input": "2025-04-14T23:05:12.447692Z",
     "iopub.status.busy": "2025-04-14T23:05:12.447235Z",
     "iopub.status.idle": "2025-04-14T23:05:12.457502Z",
     "shell.execute_reply": "2025-04-14T23:05:12.456236Z"
    },
    "papermill": {
     "duration": 0.026174,
     "end_time": "2025-04-14T23:05:12.459389",
     "exception": false,
     "start_time": "2025-04-14T23:05:12.433215",
     "status": "completed"
    },
    "tags": []
   },
   "outputs": [
    {
     "name": "stdout",
     "output_type": "stream",
     "text": [
      "Breusch-Pagan test:\n",
      "{'Lagrange multiplier statistic': 25.4258767917208, 'p-value': 0.00011527815259341873, 'f-value': 5.5099173228103595, 'f p-value': 7.807308155918699e-05}\n",
      "Reject the null hypothesis of homoscedasticity\n"
     ]
    }
   ],
   "source": [
    "#Breuch-Pagan test; for significant level of 0.05\n",
    "bp_test = sm.stats.diagnostic.het_breuschpagan(model.resid, model.model.exog)\n",
    "labels = ['Lagrange multiplier statistic', 'p-value', 'f-value', 'f p-value']\n",
    "print(\"Breusch-Pagan test:\")\n",
    "res = dict(zip(labels, bp_test))\n",
    "print(res)\n",
    "if res['p-value'] < 0.05:\n",
    "    print(\"Reject the null hypothesis of homoscedasticity\")"
   ]
  },
  {
   "cell_type": "code",
   "execution_count": 64,
   "id": "77be5dde",
   "metadata": {
    "execution": {
     "iopub.execute_input": "2025-04-14T23:05:12.489063Z",
     "iopub.status.busy": "2025-04-14T23:05:12.488658Z",
     "iopub.status.idle": "2025-04-14T23:05:12.513704Z",
     "shell.execute_reply": "2025-04-14T23:05:12.512567Z"
    },
    "papermill": {
     "duration": 0.041279,
     "end_time": "2025-04-14T23:05:12.515691",
     "exception": false,
     "start_time": "2025-04-14T23:05:12.474412",
     "status": "completed"
    },
    "tags": []
   },
   "outputs": [
    {
     "name": "stdout",
     "output_type": "stream",
     "text": [
      "Ladder of life (Wellbeing) (0-10): p-value = 0.0203 (Significant)\n",
      "Unemployment: p-value = 0.0339 (Significant)\n",
      "Average years of schooling: p-value = 0.0491 (Significant)\n",
      "stan_gini: p-value = 0.3747 (Not significant)\n",
      "ln_Annual precipitation: p-value = 0.8992 (Not significant)\n"
     ]
    }
   ],
   "source": [
    "#Breusch Pagan Test for each variables\n",
    "bp_results = {}\n",
    "for var in X_ori.columns:\n",
    "    if var != 'const': \n",
    "        X_single = sm.add_constant(X_ori[[var]])\n",
    "        bp_test = het_breuschpagan(model.resid, X_single)\n",
    "        bp_results[var] = bp_test[1]  # p-value\n",
    "\n",
    "# Hiển thị kết quả theo thứ tự tăng dần của p-value\n",
    "sorted_bp = sorted(bp_results.items(), key=lambda x: x[1])\n",
    "for var, p_value in sorted_bp:\n",
    "    significance = \"Significant\" if p_value < 0.05 else \"Not significant\"\n",
    "    print(f\"{var}: p-value = {p_value:.4f} ({significance})\")"
   ]
  },
  {
   "cell_type": "code",
   "execution_count": 65,
   "id": "3b8d096f",
   "metadata": {
    "execution": {
     "iopub.execute_input": "2025-04-14T23:05:12.543824Z",
     "iopub.status.busy": "2025-04-14T23:05:12.543468Z",
     "iopub.status.idle": "2025-04-14T23:05:12.553577Z",
     "shell.execute_reply": "2025-04-14T23:05:12.552488Z"
    },
    "papermill": {
     "duration": 0.0264,
     "end_time": "2025-04-14T23:05:12.555278",
     "exception": false,
     "start_time": "2025-04-14T23:05:12.528878",
     "status": "completed"
    },
    "tags": []
   },
   "outputs": [
    {
     "name": "stdout",
     "output_type": "stream",
     "text": [
      "White Test:\n",
      "{'Test Statistic': 130.34391602191585, 'p-value': 3.3598061931384307e-18, 'F-statistic': 12.09950483147261, 'F p-value': 2.6155718188966304e-26}\n",
      "Reject the null hypothesis of homoscedasticity\n"
     ]
    }
   ],
   "source": [
    "# White test; for significant level of 0.05 \n",
    "residuals = model.resid\n",
    "\n",
    "white_test = sm.stats.diagnostic.het_white(residuals, X_ori)\n",
    "labels = ['Test Statistic', 'p-value', 'F-statistic', 'F p-value']\n",
    "print('White Test:')\n",
    "print(dict(zip(labels, white_test)))\n",
    "if white_test[1] < 0.05:\n",
    "    print(\"Reject the null hypothesis of homoscedasticity\")"
   ]
  },
  {
   "cell_type": "markdown",
   "id": "b45e55e2",
   "metadata": {
    "papermill": {
     "duration": 0.012922,
     "end_time": "2025-04-14T23:05:12.584313",
     "exception": false,
     "start_time": "2025-04-14T23:05:12.571391",
     "status": "completed"
    },
    "tags": []
   },
   "source": [
    "We employed various weighting strategies to address heteroskedasticity; however, none proved effective."
   ]
  },
  {
   "cell_type": "code",
   "execution_count": 66,
   "id": "100e00bb",
   "metadata": {
    "execution": {
     "iopub.execute_input": "2025-04-14T23:05:12.611334Z",
     "iopub.status.busy": "2025-04-14T23:05:12.610895Z",
     "iopub.status.idle": "2025-04-14T23:05:12.632849Z",
     "shell.execute_reply": "2025-04-14T23:05:12.631478Z"
    },
    "papermill": {
     "duration": 0.03795,
     "end_time": "2025-04-14T23:05:12.634955",
     "exception": false,
     "start_time": "2025-04-14T23:05:12.597005",
     "status": "completed"
    },
    "tags": []
   },
   "outputs": [
    {
     "name": "stdout",
     "output_type": "stream",
     "text": [
      "                            OLS Regression Results                            \n",
      "==============================================================================\n",
      "Dep. Variable:                    HPI   R-squared:                       0.741\n",
      "Model:                            OLS   Adj. R-squared:                  0.736\n",
      "Method:                 Least Squares   F-statistic:                     182.6\n",
      "Date:                Tue, 15 Apr 2025   Prob (F-statistic):           1.25e-81\n",
      "Time:                        09:01:39   Log-Likelihood:                -734.76\n",
      "No. Observations:                 258   AIC:                             1482.\n",
      "Df Residuals:                     252   BIC:                             1503.\n",
      "Df Model:                           5                                         \n",
      "Covariance Type:                  HC3                                         \n",
      "=====================================================================================================\n",
      "                                        coef    std err          z      P>|z|      [0.025      0.975]\n",
      "-----------------------------------------------------------------------------------------------------\n",
      "const                               -15.0488      4.540     -3.315      0.001     -23.948      -6.150\n",
      "Ladder of life (Wellbeing) (0-10)     6.8049      0.486     14.011      0.000       5.853       7.757\n",
      "Average years of schooling           -1.5082      0.191     -7.917      0.000      -1.882      -1.135\n",
      "ln_Annual precipitation               4.8835      0.638      7.651      0.000       3.633       6.135\n",
      "stan_gini                            -0.4044      0.467     -0.866      0.386      -1.319       0.511\n",
      "Unemployment                          0.1489      0.048      3.100      0.002       0.055       0.243\n",
      "==============================================================================\n",
      "Omnibus:                       17.750   Durbin-Watson:                   0.333\n",
      "Prob(Omnibus):                  0.000   Jarque-Bera (JB):               20.141\n",
      "Skew:                          -0.678   Prob(JB):                     4.23e-05\n",
      "Kurtosis:                       2.815   Cond. No.                         341.\n",
      "==============================================================================\n",
      "\n",
      "Notes:\n",
      "[1] Standard Errors are heteroscedasticity robust (HC3)\n"
     ]
    }
   ],
   "source": [
    "robust_model = sm.OLS(y, X_ori).fit(cov_type='HC3')\n",
    "print(robust_model.summary())"
   ]
  },
  {
   "cell_type": "markdown",
   "id": "a3e49ac4",
   "metadata": {
    "papermill": {
     "duration": 0.012905,
     "end_time": "2025-04-14T23:05:12.661193",
     "exception": false,
     "start_time": "2025-04-14T23:05:12.648288",
     "status": "completed"
    },
    "tags": []
   },
   "source": [
    "## Interpretation\n",
    "After correcting for heteroskedasticity, most results remain stable:\n",
    "\n",
    "1. Wellbeing: Strong positive impact on HPI (coef ≈ 6.8, p < 0.001). This means, higher life satisfaction leads to higher happiness index.\n",
    "2. Schooling years: Significant negative effect (coef ≈ -1.58, p < 0.001). Meaning that more schooling may reduce happiness, possibly due to stress or inequality.\n",
    "3. Log precipitation: Positive and significant (coef ≈ 4.88, p < 0.001). Better natural conditions are linked to higher well-being.\n",
    "4. Gini (income inequality): Not significant before or after (p > 0.3). No clear link with happiness.\n",
    "5. Unemployment: Positive and significant (coef ≈ 0.15, p ≈ 0.002). This is unexpected results; may reflect stronger welfare systems or hidden effects.\n",
    "\n",
    "**Conclusion**: Main results are robust; heteroskedasticity correction improves reliability but doesn't change key interpretations."
   ]
  },
  {
   "cell_type": "code",
   "execution_count": 67,
   "id": "a1124cd4",
   "metadata": {},
   "outputs": [
    {
     "data": {
      "text/plain": [
       "Text(0.5, 1.0, 'Histogram')"
      ]
     },
     "execution_count": 67,
     "metadata": {},
     "output_type": "execute_result"
    },
    {
     "data": {
      "image/png": "[encoded data removed]",
      "text/plain": [
       "<Figure size 1200x1000 with 1 Axes>"
      ]
     },
     "metadata": {},
     "output_type": "display_data"
    }
   ],
   "source": [
    "# Histogram of residuals\n",
    "residuals = model.resid\n",
    "plt.figure(figsize=(12, 10))\n",
    "plt.subplot(221)\n",
    "sns.histplot(residuals, kde=True)\n",
    "plt.title(f'Histogram')"
   ]
  },
  {
   "cell_type": "markdown",
   "id": "efca22a4",
   "metadata": {},
   "source": [
    "# **Result model**\n",
    "### HPI = -15,0488 + 6,8049.WB - 1,5082.AYS + 4,8835.ln(Annpre) + 0,1489.Umemploy + ε"
   ]
  },
  {
   "cell_type": "markdown",
   "id": "e9a7ceb5",
   "metadata": {},
   "source": [
    "# High income countries"
   ]
  },
  {
   "cell_type": "code",
   "execution_count": 68,
   "id": "69c1f4ba",
   "metadata": {},
   "outputs": [],
   "source": [
    "df = pd.DataFrame(data)\n",
    "df = df[(df['GNI'] >= 31000)]"
   ]
  },
  {
   "cell_type": "markdown",
   "id": "0635a0d6",
   "metadata": {},
   "source": [
    "**OLS Regression**"
   ]
  },
  {
   "cell_type": "code",
   "execution_count": 69,
   "id": "5eba7023",
   "metadata": {},
   "outputs": [
    {
     "name": "stdout",
     "output_type": "stream",
     "text": [
      "                            OLS Regression Results                            \n",
      "==============================================================================\n",
      "Dep. Variable:                 ln_HPI   R-squared:                       0.953\n",
      "Model:                            OLS   Adj. R-squared:                  0.952\n",
      "Method:                 Least Squares   F-statistic:                     889.2\n",
      "Date:                Tue, 15 Apr 2025   Prob (F-statistic):          5.50e-116\n",
      "Time:                        09:01:39   Log-Likelihood:                 315.57\n",
      "No. Observations:                 182   AIC:                            -621.1\n",
      "Df Residuals:                     177   BIC:                            -605.1\n",
      "Df Model:                           4                                         \n",
      "Covariance Type:            nonrobust                                         \n",
      "============================================================================================\n",
      "                               coef    std err          t      P>|t|      [0.025      0.975]\n",
      "--------------------------------------------------------------------------------------------\n",
      "const                        4.2994      0.051     83.907      0.000       4.198       4.401\n",
      "Carbon Footprint (tCO2e)    -0.0304      0.001    -41.003      0.000      -0.032      -0.029\n",
      "GDP per capita ($)        1.434e-06   3.08e-07      4.663      0.000    8.27e-07    2.04e-06\n",
      "ln_Annual precipitation     -0.0179      0.008     -2.284      0.024      -0.033      -0.002\n",
      "Unemployment                -0.0065      0.001     -4.978      0.000      -0.009      -0.004\n",
      "==============================================================================\n",
      "Omnibus:                        4.927   Durbin-Watson:                   0.518\n",
      "Prob(Omnibus):                  0.085   Jarque-Bera (JB):                5.008\n",
      "Skew:                          -0.382   Prob(JB):                       0.0818\n",
      "Kurtosis:                       2.724   Cond. No.                     9.37e+05\n",
      "==============================================================================\n",
      "\n",
      "Notes:\n",
      "[1] Standard Errors assume that the covariance matrix of the errors is correctly specified.\n",
      "[2] The condition number is large, 9.37e+05. This might indicate that there are\n",
      "strong multicollinearity or other numerical problems.\n"
     ]
    }
   ],
   "source": [
    "#for better estimation, we standardize some variables that has the large range of value as bellow\n",
    "df[\"ln_Annual precipitation\"]= np.log(df[\"Annual precipitation\"])\n",
    "df['ln_GNI'] = np.log(df['GNI'])\n",
    "df['ln_HPI'] = np.log(df['HPI'])\n",
    "x_beg = df[['Carbon Footprint (tCO2e)','GDP per capita ($)', 'ln_Annual precipitation','Unemployment']]\n",
    "y = df['ln_HPI']\n",
    "x_beg = sm.add_constant(x_beg)\n",
    "model = sm.OLS(y, x_beg).fit()\n",
    "print(model.summary())"
   ]
  },
  {
   "cell_type": "markdown",
   "id": "a4ad58fd",
   "metadata": {},
   "source": [
    "# Model Summary\n",
    "- R-squared = 0.953 and Adjusted R-squared = 0.952 → The model explains 95.2% of the variation in ln_HPI. This indicates an excellent model fit.\n",
    "- F-statistic = 889.2, and P-value = 5.50e-116 → The regression model is statistically significant."
   ]
  },
  {
   "cell_type": "markdown",
   "id": "df02a9bd",
   "metadata": {},
   "source": [
    "# Interpretation of each variable:\n",
    "1. Carbon Footprint (tCO2e)\n",
    "- Coefficient = -0.0304, p-value = 0.000\n",
    "- A 1-ton increase in CO₂ emissions per capita is associated with approximately a 3.04% decrease in HPI, ceris paribus.\n",
    "- This suggests that higher carbon emissions negatively impact sustainable well-being.\n",
    "- Countries with higher carbon emissions often suffer from environmental issues such as pollution and climate change, which reduce the quality of life and health, ultimately lowering the HPI.\n",
    "\n",
    "2. GDP per capita ($)\n",
    "- Coefficient = 1.434e-06, p-value = 0.000\n",
    "- A $1 increase in GDP per capita leads to an estimated 0.0001434% increase in HPI, ceris paribus. While the effect is statistically significant, its magnitude is very small.\n",
    "- Although higher income can improve living standards, it doesn’t necessarily lead to higher happiness or well-being. This reflects the idea that economic growth alone is not enough to improve sustainable happiness.\n",
    "\n",
    "3. ln_Annual precipitation (log of annual rainfall)\n",
    "- Coefficient = -0.0179, p-value = 0.024\n",
    "- A 1% increase in annual precipitation is associated with a 0.0179% decrease in HPI, ceris paribus.\n",
    "- Excessive rainfall or extreme weather may cause natural disasters (flooding, landslides), disrupt agriculture, or lower daily living conditions — leading to a decline in well-being and reduced life satisfaction, thus lowering HPI.\n",
    "\n",
    "4. Unemployment\n",
    "- Coefficient = -0.0065, p-value = 0.000\n",
    "-  A 1 percentage point increase in the unemployment rate leads to a 0.65% decrease in HPI, ceris paribus. This indicates a clear negative social impact.\n",
    "- Unemployment not only reduces income but also increases mental stress and reduces life satisfaction. It undermines both physical and mental health, leading to lower happy life years and ultimately reducing HPI."
   ]
  },
  {
   "cell_type": "code",
   "execution_count": 70,
   "id": "5f77a1ea",
   "metadata": {},
   "outputs": [
    {
     "name": "stdout",
     "output_type": "stream",
     "text": [
      "                   Variable         VIF\n",
      "0                     const  254.503221\n",
      "1  Carbon Footprint (tCO2e)    2.599892\n",
      "2        GDP per capita ($)    2.907730\n",
      "3   ln_Annual precipitation    1.228740\n",
      "4              Unemployment    1.079677\n"
     ]
    }
   ],
   "source": [
    "\n",
    "vif_data = pd.DataFrame()\n",
    "#X = X_ori.drop('const', axis=1)\n",
    "vif_data[\"Variable\"] = x_beg.columns\n",
    "vif_data[\"VIF\"] = [variance_inflation_factor(x_beg.values, i)\n",
    "                   for i in range(x_beg.shape[1])]\n",
    "\n",
    "print(vif_data)"
   ]
  },
  {
   "cell_type": "code",
   "execution_count": 71,
   "id": "c73da46d",
   "metadata": {},
   "outputs": [
    {
     "name": "stdout",
     "output_type": "stream",
     "text": [
      "F-statistic: 0.5922919684040548\n",
      "p-value: 0.44256585990918595\n"
     ]
    }
   ],
   "source": [
    "# Ramsey test\n",
    "reset_test = linear_reset(model, power=2, use_f=True)\n",
    "print(\"F-statistic:\", reset_test.fvalue)\n",
    "print(\"p-value:\", reset_test.pvalue)"
   ]
  },
  {
   "cell_type": "code",
   "execution_count": 72,
   "id": "12271586",
   "metadata": {},
   "outputs": [
    {
     "name": "stdout",
     "output_type": "stream",
     "text": [
      "No error, no omitted variable\n"
     ]
    }
   ],
   "source": [
    "threshold = 0.05\n",
    "if reset_test.pvalue > threshold:\n",
    "  print(\"No error, no omitted variable\")\n",
    "else:\n",
    "  print(\"There's an error and one or many omitted variables\")"
   ]
  },
  {
   "cell_type": "code",
   "execution_count": 73,
   "id": "75a578e8",
   "metadata": {},
   "outputs": [
    {
     "data": {
      "image/png": "[encoded data removed]",
      "text/plain": [
       "<Figure size 1000x600 with 1 Axes>"
      ]
     },
     "metadata": {},
     "output_type": "display_data"
    }
   ],
   "source": [
    "# 1. Visual inspection of residuals\n",
    "plt.figure(figsize=(10, 6))\n",
    "plt.scatter(model.fittedvalues, model.resid)\n",
    "plt.axhline(y=0, color='r', linestyle='--')\n",
    "plt.xlabel('Fitted values')\n",
    "plt.ylabel('Residuals')\n",
    "plt.title('Residuals vs Fitted Values')\n",
    "plt.show()"
   ]
  },
  {
   "cell_type": "markdown",
   "id": "b39f0f64",
   "metadata": {},
   "source": [
    "**Correlation values between each independent variable and the squared residuals**"
   ]
  },
  {
   "cell_type": "code",
   "execution_count": 74,
   "id": "637bd711",
   "metadata": {},
   "outputs": [
    {
     "name": "stdout",
     "output_type": "stream",
     "text": [
      "Unemployment: 0.1711\n",
      "Carbon Footprint (tCO2e): -0.1694\n",
      "GDP per capita ($): -0.0809\n",
      "ln_Annual precipitation: 0.0145\n"
     ]
    }
   ],
   "source": [
    "# Tạo DataFrame chứa bình phương phần dư và các biến độc lập\n",
    "residual_analysis = pd.DataFrame()\n",
    "residual_analysis['resid_squared'] = model.resid**2\n",
    "\n",
    "# Tính hệ số tương quan\n",
    "correlations = {}\n",
    "for var in x_beg.columns:\n",
    "    if var != 'const':  \n",
    "        residual_analysis[var] = df[var]\n",
    "        corr = residual_analysis['resid_squared'].corr(residual_analysis[var])\n",
    "        correlations[var] = corr\n",
    "\n",
    "\n",
    "# Hiển thị kết quả tương quan\n",
    "sorted_correlations = sorted(correlations.items(), key=lambda x: abs(x[1]), reverse=True)\n",
    "for var, corr in sorted_correlations:\n",
    "    print(f\"{var}: {corr:.4f}\")\n"
   ]
  },
  {
   "cell_type": "markdown",
   "id": "72c9222f",
   "metadata": {},
   "source": [
    "Absolute correlation close to 0 means less siginficant impact on heteroskedasticity\n",
    "\n",
    "**Carbon Footprint**, **GNI** are more likely to contribute to heteroskedasticity."
   ]
  },
  {
   "cell_type": "code",
   "execution_count": 75,
   "id": "7f384fed",
   "metadata": {},
   "outputs": [
    {
     "name": "stdout",
     "output_type": "stream",
     "text": [
      "Breusch-Pagan test:\n",
      "{'Lagrange multiplier statistic': 10.873077516936325, 'p-value': 0.02802809657830415, 'f-value': 2.8115604087489516, 'f p-value': 0.026965680720129982}\n",
      "Reject the null hypothesis of homoscedasticity\n"
     ]
    }
   ],
   "source": [
    "#Breuch-Pagan test; for significant level of 0.05\n",
    "\n",
    "bp_test = sm.stats.diagnostic.het_breuschpagan(model.resid, model.model.exog) #p_value có tăng so với không chia data\n",
    "labels = ['Lagrange multiplier statistic', 'p-value', 'f-value', 'f p-value']\n",
    "print(\"Breusch-Pagan test:\")\n",
    "bp_results = [float(value) for value in bp_test]\n",
    "res = dict(zip(labels, bp_results))\n",
    "\n",
    "print(res)\n",
    "if res['p-value'] < 0.05:\n",
    "    print(\"Reject the null hypothesis of homoscedasticity\")"
   ]
  },
  {
   "cell_type": "code",
   "execution_count": 76,
   "id": "2e8c5fe4",
   "metadata": {},
   "outputs": [
    {
     "name": "stdout",
     "output_type": "stream",
     "text": [
      "Unemployment: p-value = 0.0210 (Significant)\n",
      "Carbon Footprint (tCO2e): p-value = 0.0223 (Significant)\n",
      "GDP per capita ($): p-value = 0.2748 (Not significant)\n",
      "ln_Annual precipitation: p-value = 0.8451 (Not significant)\n"
     ]
    }
   ],
   "source": [
    "#Breusch Pagan Test\n",
    "from statsmodels.stats.diagnostic import het_breuschpagan\n",
    "import numpy as np\n",
    "\n",
    "# Kiểm định riêng lẻ cho từng biến. Với mỗi biến var, tạo một mô hình hồi quy đơn biến để test:\n",
    "bp_results = {}\n",
    "for var in x_beg.columns:\n",
    "    if var != 'const': \n",
    "        X_single = sm.add_constant(df[[var]])\n",
    "        bp_test = het_breuschpagan(model.resid, X_single)\n",
    "        bp_results[var] = bp_test[1]  # p-value\n",
    "\n",
    "# Hiển thị kết quả theo thứ tự tăng dần của p-value\n",
    "sorted_bp = sorted(bp_results.items(), key=lambda x: x[1])\n",
    "for var, p_value in sorted_bp:\n",
    "    significance = \"Significant\" if p_value < 0.05 else \"Not significant\"\n",
    "    print(f\"{var}: p-value = {p_value:.4f} ({significance})\")"
   ]
  },
  {
   "cell_type": "markdown",
   "id": "9f67fdf2",
   "metadata": {},
   "source": [
    "p-value Analysis for Heteroskedasticity:\n",
    "\n",
    "If p-value < 0.05: This indicates the presence of heteroskedasticity (result: \"Significant\").\n",
    "\n",
    "If p-value ≥ 0.05: There is not enough evidence to reject the null hypothesis (result: \"Not significant\").\n",
    "\n",
    "**Analysis Conclusion:**\n",
    "The analysis shows that variables **Carbon Footprint, GNI** have a significant impact on heteroskedasticity. "
   ]
  },
  {
   "cell_type": "code",
   "execution_count": 77,
   "id": "7a0a682c",
   "metadata": {},
   "outputs": [
    {
     "name": "stdout",
     "output_type": "stream",
     "text": [
      "White Test:\n",
      "{'Test Statistic': 46.65445243331981, 'p-value': 2.1905814264341037e-05, 'F-statistic': 4.111852796912762, 'F p-value': 3.867073523880241e-06}\n",
      "Reject the null hypothesis of homoscedasticity\n"
     ]
    }
   ],
   "source": [
    "residuals = model.resid\n",
    "\n",
    "white_test = smd.het_white(residuals, x_beg)\n",
    "labels = ['Test Statistic', 'p-value', 'F-statistic', 'F p-value']\n",
    "print('White Test:')\n",
    "white_results = [float(value) for value in white_test]\n",
    "print(dict(zip(labels, white_results)))\n",
    "if white_test[1] < 0.05:\n",
    "    print(\"Reject the null hypothesis of homoscedasticity\")"
   ]
  },
  {
   "cell_type": "code",
   "execution_count": 78,
   "id": "936ecff8",
   "metadata": {},
   "outputs": [
    {
     "name": "stdout",
     "output_type": "stream",
     "text": [
      "                            OLS Regression Results                            \n",
      "==============================================================================\n",
      "Dep. Variable:                 ln_HPI   R-squared:                       0.953\n",
      "Model:                            OLS   Adj. R-squared:                  0.952\n",
      "Method:                 Least Squares   F-statistic:                     1904.\n",
      "Date:                Tue, 15 Apr 2025   Prob (F-statistic):          3.01e-144\n",
      "Time:                        09:01:39   Log-Likelihood:                 315.57\n",
      "No. Observations:                 182   AIC:                            -621.1\n",
      "Df Residuals:                     177   BIC:                            -605.1\n",
      "Df Model:                           4                                         \n",
      "Covariance Type:                  HC3                                         \n",
      "============================================================================================\n",
      "                               coef    std err          z      P>|z|      [0.025      0.975]\n",
      "--------------------------------------------------------------------------------------------\n",
      "const                        4.2994      0.036    118.150      0.000       4.228       4.371\n",
      "Carbon Footprint (tCO2e)    -0.0304      0.001    -31.400      0.000      -0.032      -0.028\n",
      "GDP per capita ($)        1.434e-06   4.43e-07      3.237      0.001    5.66e-07     2.3e-06\n",
      "ln_Annual precipitation     -0.0179      0.006     -2.783      0.005      -0.031      -0.005\n",
      "Unemployment                -0.0065      0.002     -4.194      0.000      -0.010      -0.003\n",
      "==============================================================================\n",
      "Omnibus:                        4.927   Durbin-Watson:                   0.518\n",
      "Prob(Omnibus):                  0.085   Jarque-Bera (JB):                5.008\n",
      "Skew:                          -0.382   Prob(JB):                       0.0818\n",
      "Kurtosis:                       2.724   Cond. No.                     9.37e+05\n",
      "==============================================================================\n",
      "\n",
      "Notes:\n",
      "[1] Standard Errors are heteroscedasticity robust (HC3)\n",
      "[2] The condition number is large, 9.37e+05. This might indicate that there are\n",
      "strong multicollinearity or other numerical problems.\n"
     ]
    }
   ],
   "source": [
    "robust_model = sm.OLS(y, x_beg).fit(cov_type='HC3')\n",
    "print(robust_model.summary())"
   ]
  },
  {
   "cell_type": "markdown",
   "id": "ae4ae8a8",
   "metadata": {},
   "source": [
    "# Interpretation:\n",
    "- After correcting for heteroskedasticity using robust standard errors, the coefficients remain unchanged, but standard errors increased slightly. All variables stay statistically significant.\n",
    "- Carbon Footprint: More emissions reduce happiness.\n",
    "- GDP per capita: Higher income slightly improves well-being.\n",
    "- Annual Precipitation (log): More rain lowers happiness, possibly due to discomfort or floods.\n",
    "- Unemployment: Higher unemployment significantly reduces happiness.\n",
    "\n",
    "**Conclusion**: Robust results confirm the model’s reliability and improve the accuracy of statistical inference."
   ]
  },
  {
   "cell_type": "code",
   "execution_count": 79,
   "id": "668b51c2",
   "metadata": {},
   "outputs": [
    {
     "data": {
      "text/plain": [
       "Text(0.5, 1.0, 'Histogram')"
      ]
     },
     "execution_count": 79,
     "metadata": {},
     "output_type": "execute_result"
    },
    {
     "data": {
      "image/png": "[encoded data removed]",
      "text/plain": [
       "<Figure size 1200x1000 with 1 Axes>"
      ]
     },
     "metadata": {},
     "output_type": "display_data"
    }
   ],
   "source": [
    "# Histogram of residuals\n",
    "residuals = model.resid\n",
    "plt.figure(figsize=(12, 10))\n",
    "plt.subplot(221)\n",
    "sns.histplot(residuals, kde=True)\n",
    "plt.title(f'Histogram')"
   ]
  },
  {
   "cell_type": "markdown",
   "id": "0b4b7f07",
   "metadata": {},
   "source": [
    "# **Result model**\n",
    "### ln(HPI) = 4,2994 - 0,0304.FB + (1,434e-06).GDP - 0,0179.ln(Annpre) - 0,0065.Umemploy + ε"
   ]
  }
 ],
 "metadata": {
  "kaggle": {
   "accelerator": "none",
   "dataSources": [
    {
     "datasetId": 7079044,
     "sourceId": 11317332,
     "sourceType": "datasetVersion"
    },
    {
     "datasetId": 7082194,
     "sourceId": 11323020,
     "sourceType": "datasetVersion"
    }
   ],
   "dockerImageVersionId": 30918,
   "isGpuEnabled": false,
   "isInternetEnabled": false,
   "language": "python",
   "sourceType": "notebook"
  },
  "kernelspec": {
   "display_name": "Python 3",
   "language": "python",
   "name": "python3"
  },
  "language_info": {
   "codemirror_mode": {
    "name": "ipython",
    "version": 3
   },
   "file_extension": ".py",
   "mimetype": "text/x-python",
   "name": "python",
   "nbconvert_exporter": "python",
   "pygments_lexer": "ipython3",
   "version": "3.12.4"
  },
  "papermill": {
   "default_parameters": {},
   "duration": 14.037927,
   "end_time": "2025-04-14T23:05:13.596592",
   "environment_variables": {},
   "exception": null,
   "input_path": "__notebook__.ipynb",
   "output_path": "__notebook__.ipynb",
   "parameters": {},
   "start_time": "2025-04-14T23:04:59.558665",
   "version": "2.6.0"
  }
 },
 "nbformat": 4,
 "nbformat_minor": 5
}
