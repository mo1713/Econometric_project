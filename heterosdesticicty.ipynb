{
 "cells": [
  {
   "cell_type": "markdown",
   "metadata": {},
   "source": [
    "**Heteroskedasticity Testing, WLS:**  \n",
    "   This part involves testing for heteroskedasticity to assess whether there's variance inconsistency in the model. Additionally, we employed Weighted Least Squares (WLS) to address this issue."
   ]
  },
  {
   "cell_type": "markdown",
   "metadata": {},
   "source": [
    "## Heteroskedasticity"
   ]
  },
  {
   "cell_type": "code",
   "execution_count": null,
   "metadata": {},
   "outputs": [],
   "source": [
    "\n",
    "pip install statsmodels numpy pandas matplotlib seaborn\n"
   ]
  },
  {
   "cell_type": "code",
   "execution_count": null,
   "metadata": {},
   "outputs": [],
   "source": [
    "import numpy as np\n",
    "import pandas as pd\n",
    "import statsmodels.api as sm\n",
    "import matplotlib.pyplot as plt\n",
    "import seaborn as sns\n",
    "from statsmodels.stats.diagnostic import het_breuschpagan, het_white\n",
    "from statsmodels.formula.api import ols\n",
    "\n",
    "sns.set(style=\"whitegrid\")"
   ]
  },
  {
   "cell_type": "code",
   "execution_count": null,
   "metadata": {},
   "outputs": [],
   "source": [
    "pip install openpyxl"
   ]
  },
  {
   "cell_type": "markdown",
   "metadata": {},
   "source": [
    "**Importing dataset**"
   ]
  },
  {
   "cell_type": "code",
   "execution_count": null,
   "metadata": {},
   "outputs": [
    {
     "data": {
      "text/html": [
       "<div>\n",
       "<style scoped>\n",
       "    .dataframe tbody tr th:only-of-type {\n",
       "        vertical-align: middle;\n",
       "    }\n",
       "\n",
       "    .dataframe tbody tr th {\n",
       "        vertical-align: top;\n",
       "    }\n",
       "\n",
       "    .dataframe thead th {\n",
       "        text-align: right;\n",
       "    }\n",
       "</style>\n",
       "<table border=\"1\" class=\"dataframe\">\n",
       "  <thead>\n",
       "    <tr style=\"text-align: right;\">\n",
       "      <th></th>\n",
       "      <th>Country Name</th>\n",
       "      <th>ISO</th>\n",
       "      <th>Year</th>\n",
       "      <th>Continent</th>\n",
       "      <th>Population (thousands)</th>\n",
       "      <th>Life Expectancy (years)</th>\n",
       "      <th>Ladder of life (Wellbeing) (0-10)</th>\n",
       "      <th>Carbon Footprint (tCO2e)</th>\n",
       "      <th>HPI</th>\n",
       "      <th>GDP per capita ($)</th>\n",
       "      <th>Annual precipitation</th>\n",
       "      <th>Average years of schooling</th>\n",
       "      <th>Gini coefficient</th>\n",
       "      <th>GNI</th>\n",
       "      <th>Unemployment</th>\n",
       "    </tr>\n",
       "  </thead>\n",
       "  <tbody>\n",
       "    <tr>\n",
       "      <th>0</th>\n",
       "      <td>Algeria</td>\n",
       "      <td>DZA</td>\n",
       "      <td>2011</td>\n",
       "      <td>Africa</td>\n",
       "      <td>36543.5</td>\n",
       "      <td>74.1</td>\n",
       "      <td>5.32</td>\n",
       "      <td>2.75</td>\n",
       "      <td>48.0</td>\n",
       "      <td>11114</td>\n",
       "      <td>82.46702</td>\n",
       "      <td>7.286604</td>\n",
       "      <td>0.276157</td>\n",
       "      <td>5050</td>\n",
       "      <td>9.96</td>\n",
       "    </tr>\n",
       "    <tr>\n",
       "      <th>1</th>\n",
       "      <td>Armenia</td>\n",
       "      <td>ARM</td>\n",
       "      <td>2011</td>\n",
       "      <td>Asia</td>\n",
       "      <td>2929.0</td>\n",
       "      <td>73.3</td>\n",
       "      <td>4.26</td>\n",
       "      <td>3.22</td>\n",
       "      <td>37.3</td>\n",
       "      <td>9551</td>\n",
       "      <td>953.70953</td>\n",
       "      <td>11.194550</td>\n",
       "      <td>0.293529</td>\n",
       "      <td>3360</td>\n",
       "      <td>18.44</td>\n",
       "    </tr>\n",
       "    <tr>\n",
       "      <th>2</th>\n",
       "      <td>Austria</td>\n",
       "      <td>AUT</td>\n",
       "      <td>2011</td>\n",
       "      <td>Europe</td>\n",
       "      <td>8391.2</td>\n",
       "      <td>80.8</td>\n",
       "      <td>7.47</td>\n",
       "      <td>14.52</td>\n",
       "      <td>44.1</td>\n",
       "      <td>53179</td>\n",
       "      <td>1024.22410</td>\n",
       "      <td>11.711150</td>\n",
       "      <td>0.308010</td>\n",
       "      <td>50700</td>\n",
       "      <td>4.56</td>\n",
       "    </tr>\n",
       "    <tr>\n",
       "      <th>3</th>\n",
       "      <td>Belarus</td>\n",
       "      <td>BLR</td>\n",
       "      <td>2011</td>\n",
       "      <td>Europe</td>\n",
       "      <td>9707.0</td>\n",
       "      <td>71.5</td>\n",
       "      <td>5.23</td>\n",
       "      <td>5.39</td>\n",
       "      <td>38.5</td>\n",
       "      <td>18274</td>\n",
       "      <td>635.04770</td>\n",
       "      <td>11.380924</td>\n",
       "      <td>0.271525</td>\n",
       "      <td>6350</td>\n",
       "      <td>6.17</td>\n",
       "    </tr>\n",
       "    <tr>\n",
       "      <th>4</th>\n",
       "      <td>Belgium</td>\n",
       "      <td>BEL</td>\n",
       "      <td>2011</td>\n",
       "      <td>Europe</td>\n",
       "      <td>10955.7</td>\n",
       "      <td>80.4</td>\n",
       "      <td>7.11</td>\n",
       "      <td>20.59</td>\n",
       "      <td>34.4</td>\n",
       "      <td>48155</td>\n",
       "      <td>788.48303</td>\n",
       "      <td>11.469870</td>\n",
       "      <td>0.280604</td>\n",
       "      <td>46370</td>\n",
       "      <td>7.14</td>\n",
       "    </tr>\n",
       "  </tbody>\n",
       "</table>\n",
       "</div>"
      ],
      "text/plain": [
       "  Country Name  ISO  Year Continent  Population (thousands)  \\\n",
       "0      Algeria  DZA  2011    Africa                 36543.5   \n",
       "1      Armenia  ARM  2011      Asia                  2929.0   \n",
       "2      Austria  AUT  2011    Europe                  8391.2   \n",
       "3      Belarus  BLR  2011    Europe                  9707.0   \n",
       "4      Belgium  BEL  2011    Europe                 10955.7   \n",
       "\n",
       "   Life Expectancy (years)  Ladder of life (Wellbeing) (0-10)  \\\n",
       "0                     74.1                               5.32   \n",
       "1                     73.3                               4.26   \n",
       "2                     80.8                               7.47   \n",
       "3                     71.5                               5.23   \n",
       "4                     80.4                               7.11   \n",
       "\n",
       "   Carbon Footprint (tCO2e)   HPI  GDP per capita ($)  Annual precipitation  \\\n",
       "0                      2.75  48.0               11114              82.46702   \n",
       "1                      3.22  37.3                9551             953.70953   \n",
       "2                     14.52  44.1               53179            1024.22410   \n",
       "3                      5.39  38.5               18274             635.04770   \n",
       "4                     20.59  34.4               48155             788.48303   \n",
       "\n",
       "   Average years of schooling  Gini coefficient    GNI  Unemployment  \n",
       "0                    7.286604          0.276157   5050          9.96  \n",
       "1                   11.194550          0.293529   3360         18.44  \n",
       "2                   11.711150          0.308010  50700          4.56  \n",
       "3                   11.380924          0.271525   6350          6.17  \n",
       "4                   11.469870          0.280604  46370          7.14  "
      ]
     },
     "execution_count": 13,
     "metadata": {},
     "output_type": "execute_result"
    }
   ],
   "source": [
    "#Read data\n",
    "file_path = r\"C:\\Users\\ADMIN\\Documents\\FINAL-DATA.xlsx\"\n",
    "df = pd.read_excel(file_path)\n",
    "df.head()"
   ]
  },
  {
   "cell_type": "markdown",
   "metadata": {},
   "source": [
    "**Data Cleaning** "
   ]
  },
  {
   "cell_type": "code",
   "execution_count": 14,
   "metadata": {},
   "outputs": [
    {
     "data": {
      "text/plain": [
       "(619, 15)"
      ]
     },
     "execution_count": 14,
     "metadata": {},
     "output_type": "execute_result"
    }
   ],
   "source": [
    "df = df.drop_duplicates()\n",
    "df.shape"
   ]
  },
  {
   "cell_type": "code",
   "execution_count": 15,
   "metadata": {},
   "outputs": [
    {
     "data": {
      "text/plain": [
       "Country Name                         0\n",
       "ISO                                  0\n",
       "Year                                 0\n",
       "Continent                            0\n",
       "Population (thousands)               0\n",
       "Life Expectancy (years)              0\n",
       "Ladder of life (Wellbeing) (0-10)    0\n",
       "Carbon Footprint (tCO2e)             0\n",
       "HPI                                  0\n",
       "GDP per capita ($)                   0\n",
       "Annual precipitation                 0\n",
       "Average years of schooling           0\n",
       "Gini coefficient                     0\n",
       "GNI                                  0\n",
       "Unemployment                         0\n",
       "dtype: int64"
      ]
     },
     "execution_count": 15,
     "metadata": {},
     "output_type": "execute_result"
    }
   ],
   "source": [
    "df.isnull().sum()"
   ]
  },
  {
   "cell_type": "markdown",
   "metadata": {},
   "source": [
    "**OLS Regression**"
   ]
  },
  {
   "cell_type": "code",
   "execution_count": 22,
   "metadata": {},
   "outputs": [
    {
     "name": "stdout",
     "output_type": "stream",
     "text": [
      "                            OLS Regression Results                            \n",
      "==============================================================================\n",
      "Dep. Variable:                    HPI   R-squared:                       0.925\n",
      "Model:                            OLS   Adj. R-squared:                  0.924\n",
      "Method:                 Least Squares   F-statistic:                     941.5\n",
      "Date:                Sun, 06 Apr 2025   Prob (F-statistic):               0.00\n",
      "Time:                        17:24:07   Log-Likelihood:                -1368.9\n",
      "No. Observations:                 619   AIC:                             2756.\n",
      "Df Residuals:                     610   BIC:                             2796.\n",
      "Df Model:                           8                                         \n",
      "Covariance Type:            nonrobust                                         \n",
      "=====================================================================================================\n",
      "                                        coef    std err          t      P>|t|      [0.025      0.975]\n",
      "-----------------------------------------------------------------------------------------------------\n",
      "const                               -28.5834      2.226    -12.838      0.000     -32.956     -24.211\n",
      "Population (thousands)            -1.618e-06   4.22e-07     -3.829      0.000   -2.45e-06   -7.88e-07\n",
      "Life Expectancy (years)               0.6370      0.031     20.436      0.000       0.576       0.698\n",
      "Ladder of life (Wellbeing) (0-10)     5.7757      0.148     39.125      0.000       5.486       6.066\n",
      "Carbon Footprint (tCO2e)             -1.2752      0.027    -46.478      0.000      -1.329      -1.221\n",
      "GDP per capita ($)                  3.78e-05   1.06e-05      3.565      0.000     1.7e-05    5.86e-05\n",
      "Annual precipitation                  0.0009      0.000      5.812      0.000       0.001       0.001\n",
      "Average years of schooling           -0.4781      0.070     -6.796      0.000      -0.616      -0.340\n",
      "Gini coefficient                      4.8532      1.900      2.554      0.011       1.122       8.585\n",
      "==============================================================================\n",
      "Omnibus:                      159.206   Durbin-Watson:                   2.107\n",
      "Prob(Omnibus):                  0.000   Jarque-Bera (JB):              577.304\n",
      "Skew:                           1.163   Prob(JB):                    4.37e-126\n",
      "Kurtosis:                       7.120   Cond. No.                     6.69e+06\n",
      "==============================================================================\n",
      "\n",
      "Notes:\n",
      "[1] Standard Errors assume that the covariance matrix of the errors is correctly specified.\n",
      "[2] The condition number is large, 6.69e+06. This might indicate that there are\n",
      "strong multicollinearity or other numerical problems.\n"
     ]
    }
   ],
   "source": [
    "#Fit OLS model\n",
    "X_vars = ['Population (thousands)', 'Life Expectancy (years)', \n",
    "          'Ladder of life (Wellbeing) (0-10)', 'Carbon Footprint (tCO2e)',\n",
    "          'GDP per capita ($)', 'Annual precipitation', \n",
    "          'Average years of schooling', 'Gini coefficient']\n",
    "\n",
    "X = df[X_vars]\n",
    "X = sm.add_constant(X)\n",
    "y = df['HPI']\n",
    "\n",
    "model = sm.OLS(y, X).fit()\n",
    "print(model.summary())"
   ]
  },
  {
   "cell_type": "code",
   "execution_count": null,
   "metadata": {},
   "outputs": [
    {
     "data": {
      "image/png": "[encoded data removed]",
      "text/plain": [
       "<Figure size 1000x600 with 1 Axes>"
      ]
     },
     "metadata": {},
     "output_type": "display_data"
    }
   ],
   "source": [
    "# 1. Visual inspection of residuals\n",
    "plt.figure(figsize=(10, 6))\n",
    "plt.scatter(model.fittedvalues, model.resid)\n",
    "plt.axhline(y=0, color='r', linestyle='--')\n",
    "plt.xlabel('Fitted values')\n",
    "plt.ylabel('Residuals')\n",
    "plt.title('Residuals vs Fitted Values')\n",
    "plt.show()"
   ]
  },
  {
   "cell_type": "markdown",
   "metadata": {},
   "source": [
    "**Correlation values between each independent variable and the squared residuals**"
   ]
  },
  {
   "cell_type": "code",
   "execution_count": null,
   "metadata": {},
   "outputs": [
    {
     "name": "stdout",
     "output_type": "stream",
     "text": [
      "Carbon Footprint (tCO2e): 0.3176\n",
      "GDP per capita ($): 0.2359\n",
      "Life Expectancy (years): -0.1721\n",
      "Population (thousands): -0.0870\n",
      "Average years of schooling: -0.0751\n",
      "Ladder of life (Wellbeing) (0-10): 0.0312\n",
      "Gini coefficient: -0.0281\n",
      "Annual precipitation: -0.0154\n"
     ]
    }
   ],
   "source": [
    "# Tạo DataFrame chứa bình phương phần dư và các biến độc lập\n",
    "residual_analysis = pd.DataFrame()\n",
    "residual_analysis['resid_squared'] = model.resid**2\n",
    "\n",
    "# Tính hệ số tương quan\n",
    "correlations = {}\n",
    "for var in X_vars:\n",
    "    residual_analysis[var] = df[var]\n",
    "    corr = residual_analysis['resid_squared'].corr(residual_analysis[var])\n",
    "    correlations[var] = corr\n",
    "\n",
    "# Hiển thị kết quả tương quan\n",
    "sorted_correlations = sorted(correlations.items(), key=lambda x: abs(x[1]), reverse=True)\n",
    "for var, corr in sorted_correlations:\n",
    "    print(f\"{var}: {corr:.4f}\")\n"
   ]
  },
  {
   "cell_type": "markdown",
   "metadata": {},
   "source": [
    "The final table presents the correlation values between each independent variable and the squared residuals. These values indicate the extent to which each variable contributes to heteroskedasticity in the model:\n",
    "\n",
    "__1. Most Influential Variable:__\n",
    "- Carbon Footprint: With the highest positive correlation coefficient (0.3176), this suggests that as the carbon footprint increases, the variance of errors also increases, contributing to the presence of heteroskedasticity.\n",
    "\n",
    "__2. Moderately Influential Variables:__\n",
    "- GDP per capita: A positive correlation of 0.2359 indicates that an increase in GDP may lead to greater variability in the errors, though this effect is weaker than that of Carbon Footprint.\n",
    "\n",
    "__3. Weak or Opposite Influence:__\n",
    "- Life Expectancy : Have negative correlation coefficients, indicating that an increase in life expectancy or population may reduce the variability in errors, suggesting these variables counteract heteroskedasticity.\n",
    "\n",
    "__4. Other Variables:__\n",
    "- These variables have minimal influence on heteroskedasticity, with correlation coefficients close to zero.\n",
    "\n",
    "The **Carbon Footprint** and **GDP per capita** are the most notable variables that may increase heteroskedasticity in the model."
   ]
  },
  {
   "cell_type": "code",
   "execution_count": null,
   "metadata": {},
   "outputs": [
    {
     "name": "stdout",
     "output_type": "stream",
     "text": [
      "Breusch-Pagan test:\n",
      "{'Lagrange multiplier statistic': np.float64(244.20438489119164), 'p-value': np.float64(2.9135611523628114e-48), 'f-value': np.float64(49.681969578399546), 'f p-value': np.float64(1.0463412024906488e-61)}\n",
      "Reject the null hypothesis of homoscedasticity\n"
     ]
    }
   ],
   "source": [
    "#Breuch-Pagan test; for significant level of 0.05 \n",
    "bp_test = sm.stats.diagnostic.het_breuschpagan(model.resid, model.model.exog)\n",
    "labels = ['Lagrange multiplier statistic', 'p-value', 'f-value', 'f p-value']\n",
    "print(\"Breusch-Pagan test:\")\n",
    "res = dict(zip(labels, bp_test))\n",
    "print(res)\n",
    "if res['p-value'] < 0.05:\n",
    "    print(\"Reject the null hypothesis of homoscedasticity\")"
   ]
  },
  {
   "cell_type": "code",
   "execution_count": null,
   "metadata": {},
   "outputs": [
    {
     "name": "stdout",
     "output_type": "stream",
     "text": [
      "Carbon Footprint (tCO2e): p-value = 0.0000 (Significant)\n",
      "GDP per capita ($): p-value = 0.0000 (Significant)\n",
      "Life Expectancy (years): p-value = 0.0000 (Significant)\n",
      "Population (thousands): p-value = 0.0303 (Significant)\n",
      "Average years of schooling: p-value = 0.0618 (Not significant)\n",
      "Ladder of life (Wellbeing) (0-10): p-value = 0.4371 (Not significant)\n",
      "Gini coefficient: p-value = 0.4840 (Not significant)\n",
      "Annual precipitation: p-value = 0.7018 (Not significant)\n"
     ]
    }
   ],
   "source": [
    "#Breusch Pagan Test\n",
    "from statsmodels.stats.diagnostic import het_breuschpagan\n",
    "import numpy as np\n",
    "\n",
    "# Kiểm định riêng lẻ cho từng biến\n",
    "bp_results = {}\n",
    "for var in X_vars:\n",
    "    X_single = sm.add_constant(df[[var]])\n",
    "    bp_test = het_breuschpagan(model.resid, X_single)\n",
    "    bp_results[var] = bp_test[1]  # p-value\n",
    "\n",
    "# Hiển thị kết quả theo thứ tự tăng dần của p-value\n",
    "sorted_bp = sorted(bp_results.items(), key=lambda x: x[1])\n",
    "for var, p_value in sorted_bp:\n",
    "    significance = \"Significant\" if p_value < 0.05 else \"Not significant\"\n",
    "    print(f\"{var}: p-value = {p_value:.4f} ({significance})\")"
   ]
  },
  {
   "cell_type": "markdown",
   "metadata": {},
   "source": [
    "p-value Analysis for Heteroskedasticity:\n",
    "\n",
    "If p-value < 0.05: This indicates the presence of heteroskedasticity (result: \"Significant\").\n",
    "\n",
    "If p-value ≥ 0.05: There is not enough evidence to reject the null hypothesis (result: \"Not significant\").\n",
    "\n",
    "**Analysis Conclusion:**\n",
    "The analysis shows that variables such as Carbon Footprint, GDP per capita, Life Expectancy, and Population have a significant impact on heteroskedasticity. In contrast, other variables do not show a noticeable effect on the model."
   ]
  },
  {
   "cell_type": "code",
   "execution_count": null,
   "metadata": {},
   "outputs": [],
   "source": [
    "#White test; for significant level of 0.05 \n",
    "white_test = sm.stats.diagnostic.het_white(model.resid,  model.model.exog)\n",
    "labels = ['Lagrange multiplier statistic', 'p-value', 'f-value', 'f p-value']\n",
    "print(\"\\nWhite test:\")\n",
    "res = dict(zip(labels, white_test))\n",
    "print(res)\n",
    "if res['p-value'] < 0.05:\n",
    "    print(\"Reject the null hypothesis of homoscedasticity\")\n",
    "else: \n",
    "    print(\"Reject the null hypothesis of homoscedasticity\")"
   ]
  },
  {
   "cell_type": "markdown",
   "metadata": {},
   "source": [
    "không thể chạy While test do perfect multicolinearity"
   ]
  },
  {
   "cell_type": "code",
   "execution_count": 122,
   "metadata": {},
   "outputs": [
    {
     "name": "stdout",
     "output_type": "stream",
     "text": [
      "\n",
      "Goldfeld-Quandt test:\n",
      "{'F statistic': np.float64(0.9137766291828495), 'p-value': np.float64(0.7825020972222678)}\n"
     ]
    }
   ],
   "source": [
    "#Goldfeld-Quandt test; for significant level of 0.05\n",
    "gq_test = sm.stats.diagnostic.het_goldfeldquandt(model.resid, model.model.exog)\n",
    "labels = ['F statistic', 'p-value']\n",
    "print(\"\\nGoldfeld-Quandt test:\")\n",
    "res = dict(zip(labels, gq_test))\n",
    "print(res)\n",
    "if res['p-value'] < 0.05:\n",
    "    print(\"Reject the null hypothesis of homoscedasticity\")"
   ]
  },
  {
   "cell_type": "code",
   "execution_count": null,
   "metadata": {},
   "outputs": [
    {
     "name": "stdout",
     "output_type": "stream",
     "text": [
      "Carbon Footprint (tCO2e): Variance ratio = 7.7717\n",
      "Average years of schooling: Variance ratio = 6.1705\n",
      "Ladder of life (Wellbeing) (0-10): Variance ratio = 2.7842\n",
      "Population (thousands): Variance ratio = 0.1110\n",
      "Annual precipitation: Variance ratio = 0.1416\n",
      "Gini coefficient: Variance ratio = 0.1475\n",
      "GDP per capita ($): Variance ratio = 1.3212\n",
      "Life Expectancy (years): Variance ratio = 1.2355\n"
     ]
    }
   ],
   "source": [
    "#Goldfeld-Quandt Test\n",
    "from statsmodels.stats.diagnostic import het_goldfeldquandt\n",
    "\n",
    "# Kiểm định Goldfeld-Quandt cho từng biến\n",
    "gq_results = {}\n",
    "for var in X_vars:\n",
    "    # Sắp xếp dữ liệu theo biến đang xét\n",
    "    sorted_data = df.sort_values(by=var)\n",
    "    # Chia dữ liệu thành hai phần bỏ qua phần giữa\n",
    "    n = len(sorted_data)\n",
    "    subset_size = n // 3\n",
    "    X1 = sm.add_constant(sorted_data[X_vars].iloc[:subset_size])\n",
    "    X2 = sm.add_constant(sorted_data[X_vars].iloc[-subset_size:])\n",
    "    y1 = sorted_data['HPI'].iloc[:subset_size]\n",
    "    y2 = sorted_data['HPI'].iloc[-subset_size:]\n",
    "    \n",
    "    # Chạy hồi quy trên hai tập con\n",
    "    model1 = sm.OLS(y1, X1).fit()\n",
    "    model2 = sm.OLS(y2, X2).fit()\n",
    "    \n",
    "    # Tính tỷ lệ phương sai\n",
    "    variance_ratio = np.var(model2.resid) / np.var(model1.resid)\n",
    "    gq_results[var] = variance_ratio\n",
    "\n",
    "# Hiển thị kết quả theo thứ tự tăng dần của variance ratio\n",
    "sorted_gq = sorted(gq_results.items(), key=lambda x: abs(x[1]-1), reverse=True)\n",
    "for var, ratio in sorted_gq:\n",
    "    print(f\"{var}: Variance ratio = {ratio:.4f}\")"
   ]
  },
  {
   "cell_type": "markdown",
   "metadata": {},
   "source": [
    "**Interpretation of the Variance Ratios**\n",
    "\n",
    "__1. High Variance Ratios (Indicating Potential Heteroskedasticity):__\n",
    "\n",
    "- Carbon Footprint (tCO₂e): Variance ratio = 7.7717\n",
    "\n",
    "- Average Years of Schooling: Variance ratio = 6.1705\n",
    "\n",
    "- These two variables have notably high variance ratios (both above 6), indicating that they likely contribute to heteroskedasticity in the model. This means the variance of errors increases significantly with changes in these variables, which could lead to inefficient and biased parameter estimates if not addressed.\n",
    "\n",
    "__2. Moderate Variance Ratio (Some Heteroskedasticity):__\n",
    "\n",
    "- Ladder of Life (Well-being) (0-10): Variance ratio = 2.7842\n",
    "This variable shows a moderate variance ratio, suggesting that while it does contribute to heteroskedasticity, its effect is not as pronounced as Carbon Footprint or Average Years of Schooling. The level of heteroskedasticity here is present but weaker.\n",
    "\n",
    "__3. Low Variance Ratios (Minimal or No Heteroskedasticity):__\n",
    "\n",
    "- Other variables have low variance ratios (all under 2), indicating that they have little to no impact on heteroskedasticity in the model. The error variance remains relatively stable across different levels of these variables."
   ]
  },
  {
   "cell_type": "code",
   "execution_count": 87,
   "metadata": {},
   "outputs": [
    {
     "data": {
      "text/html": [
       "<div>\n",
       "<style scoped>\n",
       "    .dataframe tbody tr th:only-of-type {\n",
       "        vertical-align: middle;\n",
       "    }\n",
       "\n",
       "    .dataframe tbody tr th {\n",
       "        vertical-align: top;\n",
       "    }\n",
       "\n",
       "    .dataframe thead th {\n",
       "        text-align: right;\n",
       "    }\n",
       "</style>\n",
       "<table border=\"1\" class=\"dataframe\">\n",
       "  <thead>\n",
       "    <tr style=\"text-align: right;\">\n",
       "      <th></th>\n",
       "      <th>Variable</th>\n",
       "      <th>Correlation with Squared Residuals</th>\n",
       "      <th>Breusch-Pagan p-value</th>\n",
       "      <th>Goldfeld-Quandt Variance Ratio</th>\n",
       "    </tr>\n",
       "  </thead>\n",
       "  <tbody>\n",
       "    <tr>\n",
       "      <th>0</th>\n",
       "      <td>Population (thousands)</td>\n",
       "      <td>-0.0870</td>\n",
       "      <td>0.0303</td>\n",
       "      <td>0.1110</td>\n",
       "    </tr>\n",
       "    <tr>\n",
       "      <th>1</th>\n",
       "      <td>Life Expectancy (years)</td>\n",
       "      <td>-0.1721</td>\n",
       "      <td>0.0000</td>\n",
       "      <td>1.2355</td>\n",
       "    </tr>\n",
       "    <tr>\n",
       "      <th>2</th>\n",
       "      <td>Ladder of life (Wellbeing) (0-10)</td>\n",
       "      <td>0.0312</td>\n",
       "      <td>0.4371</td>\n",
       "      <td>2.7842</td>\n",
       "    </tr>\n",
       "    <tr>\n",
       "      <th>3</th>\n",
       "      <td>Carbon Footprint (tCO2e)</td>\n",
       "      <td>0.3176</td>\n",
       "      <td>0.0000</td>\n",
       "      <td>7.7717</td>\n",
       "    </tr>\n",
       "    <tr>\n",
       "      <th>4</th>\n",
       "      <td>GDP per capita ($)</td>\n",
       "      <td>0.2359</td>\n",
       "      <td>0.0000</td>\n",
       "      <td>1.3212</td>\n",
       "    </tr>\n",
       "    <tr>\n",
       "      <th>5</th>\n",
       "      <td>Annual precipitation</td>\n",
       "      <td>-0.0154</td>\n",
       "      <td>0.7018</td>\n",
       "      <td>0.1416</td>\n",
       "    </tr>\n",
       "    <tr>\n",
       "      <th>6</th>\n",
       "      <td>Average years of schooling</td>\n",
       "      <td>-0.0751</td>\n",
       "      <td>0.0618</td>\n",
       "      <td>6.1705</td>\n",
       "    </tr>\n",
       "    <tr>\n",
       "      <th>7</th>\n",
       "      <td>Gini coefficient</td>\n",
       "      <td>-0.0281</td>\n",
       "      <td>0.4840</td>\n",
       "      <td>0.1475</td>\n",
       "    </tr>\n",
       "  </tbody>\n",
       "</table>\n",
       "</div>"
      ],
      "text/plain": [
       "                            Variable Correlation with Squared Residuals  \\\n",
       "0             Population (thousands)                            -0.0870   \n",
       "1            Life Expectancy (years)                            -0.1721   \n",
       "2  Ladder of life (Wellbeing) (0-10)                             0.0312   \n",
       "3           Carbon Footprint (tCO2e)                             0.3176   \n",
       "4                 GDP per capita ($)                             0.2359   \n",
       "5               Annual precipitation                            -0.0154   \n",
       "6         Average years of schooling                            -0.0751   \n",
       "7                   Gini coefficient                            -0.0281   \n",
       "\n",
       "  Breusch-Pagan p-value Goldfeld-Quandt Variance Ratio  \n",
       "0                0.0303                         0.1110  \n",
       "1                0.0000                         1.2355  \n",
       "2                0.4371                         2.7842  \n",
       "3                0.0000                         7.7717  \n",
       "4                0.0000                         1.3212  \n",
       "5                0.7018                         0.1416  \n",
       "6                0.0618                         6.1705  \n",
       "7                0.4840                         0.1475  "
      ]
     },
     "execution_count": 87,
     "metadata": {},
     "output_type": "execute_result"
    }
   ],
   "source": [
    "correlation_values = [correlations[var] for var in X_vars]\n",
    "p_values = [bp_results[var] for var in X_vars]\n",
    "ratios = [gq_results[var] for var in X_vars]\n",
    "table1 = {\n",
    "    'Variable': X_vars,\n",
    "    'Correlation with Squared Residuals': [f\"{corr:.4f}\" for corr in correlation_values],\n",
    "    'Breusch-Pagan p-value': [f\"{p_value:.4f}\" for p_value in p_values],\n",
    "    'Goldfeld-Quandt Variance Ratio': [f\"{variance_ratio:.4f}\" for variance_ratio in ratios]\n",
    "}\n",
    "\n",
    "# Create DataFrame\n",
    "df = pd.DataFrame(table1)\n",
    "df"
   ]
  },
  {
   "cell_type": "markdown",
   "metadata": {},
   "source": [
    "**Conclusion**"
   ]
  },
  {
   "cell_type": "markdown",
   "metadata": {},
   "source": [
    "Variables likely causing heteroskedasticity:\n",
    "\n",
    "__1. Carbon Footprint (tCO₂e):__\n",
    "\n",
    "Reason: It has the highest correlation with squared residuals, a significant p-value in the Breusch-Pagan test, and the highest variance ratio in the Goldfeld-Quandt test. This suggests that increasing carbon footprint increases the error variance, which creates heteroskedasticity.\n",
    "\n",
    "__2. GDP per capita ($):__\n",
    "\n",
    "Reason: This variable also shows a moderate correlation with squared residuals, a significant p-value, and a higher variance ratio. This suggests that increasing GDP per capita might contribute to varying error variance, indicating heteroskedasticity.\n",
    "\n",
    "__3. Life Expectancy (years) and Population (thousands):__(?)\n",
    "\n",
    "Reason: Both show significant results in the Breusch-Pagan test and have higher variance ratios, indicating they contribute moderately to heteroskedasticity.\n",
    "\n",
    "To mitigate heteroskedasticity, consider addressing Carbon Footprint and GDP per capita through techniques like weighted least squares or transforming the variables. Since Life Expectancy and Population show moderate effects, it may be worth exploring potential adjustments for them as well."
   ]
  },
  {
   "cell_type": "markdown",
   "metadata": {},
   "source": [
    "## WLS "
   ]
  },
  {
   "cell_type": "code",
   "execution_count": 136,
   "metadata": {},
   "outputs": [
    {
     "name": "stdout",
     "output_type": "stream",
     "text": [
      "                            WLS Regression Results                            \n",
      "==============================================================================\n",
      "Dep. Variable:                    HPI   R-squared:                       0.941\n",
      "Model:                            WLS   Adj. R-squared:                  0.940\n",
      "Method:                 Least Squares   F-statistic:                     1207.\n",
      "Date:                Sun, 06 Apr 2025   Prob (F-statistic):               0.00\n",
      "Time:                        21:51:23   Log-Likelihood:                -1270.8\n",
      "No. Observations:                 619   AIC:                             2560.\n",
      "Df Residuals:                     610   BIC:                             2599.\n",
      "Df Model:                           8                                         \n",
      "Covariance Type:            nonrobust                                         \n",
      "=====================================================================================================\n",
      "                                        coef    std err          t      P>|t|      [0.025      0.975]\n",
      "-----------------------------------------------------------------------------------------------------\n",
      "const                               -34.3174      2.025    -16.948      0.000     -38.294     -30.341\n",
      "Population (thousands)            -1.615e-06   3.78e-07     -4.268      0.000   -2.36e-06   -8.72e-07\n",
      "Life Expectancy (years)               0.7018      0.027     25.590      0.000       0.648       0.756\n",
      "Ladder of life (Wellbeing) (0-10)     6.3348      0.130     48.668      0.000       6.079       6.590\n",
      "Carbon Footprint (tCO2e)             -1.4315      0.026    -55.540      0.000      -1.482      -1.381\n",
      "GDP per capita ($)                -1.072e-06   9.44e-06     -0.114      0.910   -1.96e-05    1.75e-05\n",
      "Annual precipitation                  0.0007      0.000      5.604      0.000       0.000       0.001\n",
      "Average years of schooling           -0.3946      0.061     -6.433      0.000      -0.515      -0.274\n",
      "Gini coefficient                      2.4062      1.609      1.496      0.135      -0.753       5.565\n",
      "==============================================================================\n",
      "Omnibus:                      270.525   Durbin-Watson:                   2.062\n",
      "Prob(Omnibus):                  0.000   Jarque-Bera (JB):             1563.692\n",
      "Skew:                           1.873   Prob(JB):                         0.00\n",
      "Kurtosis:                       9.826   Cond. No.                     6.56e+06\n",
      "==============================================================================\n",
      "\n",
      "Notes:\n",
      "[1] Standard Errors assume that the covariance matrix of the errors is correctly specified.\n",
      "[2] The condition number is large, 6.56e+06. This might indicate that there are\n",
      "strong multicollinearity or other numerical problems.\n",
      "Breusch-Pagan test:\n",
      "{'Lagrange multiplier statistic': np.float64(385.35925170842023), 'p-value': np.float64(2.531845085035017e-78), 'f-value': np.float64(125.76420490699998), 'f p-value': np.float64(1.0233877559607164e-123)}\n",
      "Reject the null hypothesis of homoscedasticity\n"
     ]
    }
   ],
   "source": [
    "## add a intercept point\n",
    "w1 = model.fittedvalues\n",
    "\n",
    "model_wls_1 = sm.WLS(y, X, weights = w1) \n",
    "mod_res_1 = model_wls_1.fit() \n",
    "print(mod_res_1.summary())\n",
    "\n",
    "residuals = mod_res_1.resid\n",
    "bp_test = sm.stats.diagnostic.het_breuschpagan(residuals, mod_res_1.model.exog)\n",
    "labels = ['Lagrange multiplier statistic', 'p-value', 'f-value', 'f p-value']\n",
    "print(\"Breusch-Pagan test:\")\n",
    "res = dict(zip(labels, bp_test))\n",
    "print(res)\n",
    "if res['p-value'] < 0.05:\n",
    "    print(\"Reject the null hypothesis of homoscedasticity\")"
   ]
  },
  {
   "cell_type": "code",
   "execution_count": 98,
   "metadata": {},
   "outputs": [
    {
     "data": {
      "image/png": "[encoded data removed]",
      "text/plain": [
       "<Figure size 1000x600 with 1 Axes>"
      ]
     },
     "metadata": {},
     "output_type": "display_data"
    }
   ],
   "source": [
    "#Outlier detection \n",
    "# Calculate the z-scores of the residuals\n",
    "import scipy.stats as stats\n",
    "residuals = model.resid \n",
    "fitted = model.fittedvalues\n",
    "z_scores = np.abs(stats.zscore(residuals))\n",
    "\n",
    "# Define a threshold for outliers\n",
    "threshold = 3\n",
    "\n",
    "# Create a boolean mask for the outliers\n",
    "outliers = z_scores > threshold\n",
    "\n",
    "# Draw a plot\n",
    "plt.figure(figsize=(10,6))\n",
    "plt.scatter(fitted, residuals, alpha=0.5, label='Data points')\n",
    "plt.scatter(fitted[outliers], residuals[outliers], color='r', label='Outliers')\n",
    "plt.plot([fitted.min(), fitted.max()], [0, 0], 'r-')\n",
    "plt.xlabel('Fitted values')\n",
    "plt.ylabel('Residuals')\n",
    "plt.title('Residuals vs Fitted values')\n",
    "plt.legend()\n",
    "plt.show()"
   ]
  },
  {
   "cell_type": "code",
   "execution_count": 135,
   "metadata": {},
   "outputs": [
    {
     "data": {
      "text/plain": [
       "8"
      ]
     },
     "execution_count": 135,
     "metadata": {},
     "output_type": "execute_result"
    }
   ],
   "source": [
    "#Creating a new df with removed outliers \n",
    "\n",
    "df['residuals'] = model.resid \n",
    "df_new = df.copy()\n",
    "df_new['z_scores'] = np.abs(stats.zscore(df_new['residuals']))\n",
    "df_new = df_new[df_new['z_scores'] < 3]\n",
    "df_new = df_new.drop(columns = ['z_scores'])\n",
    "len(df_new)"
   ]
  },
  {
   "cell_type": "code",
   "execution_count": 134,
   "metadata": {},
   "outputs": [
    {
     "name": "stdout",
     "output_type": "stream",
     "text": [
      "                            Variable Correlation with Squared Residuals  \\\n",
      "0             Population (thousands)                            -0.0870   \n",
      "1            Life Expectancy (years)                            -0.1721   \n",
      "2  Ladder of life (Wellbeing) (0-10)                             0.0312   \n",
      "3           Carbon Footprint (tCO2e)                             0.3176   \n",
      "4                 GDP per capita ($)                             0.2359   \n",
      "5               Annual precipitation                            -0.0154   \n",
      "6         Average years of schooling                            -0.0751   \n",
      "7                   Gini coefficient                            -0.0281   \n",
      "\n",
      "  Breusch-Pagan p-value Goldfeld-Quandt Variance Ratio  residuals      temp  \n",
      "0                0.0303                         0.1110   3.871253  3.871253  \n",
      "1                0.0000                         1.2355   1.429164  1.429164  \n",
      "2                0.4371                         2.7842  -2.204432  2.204432  \n",
      "3                0.0000                         7.7717   1.096233  1.096233  \n",
      "4                0.0000                         1.3212  -1.412158  1.412158  \n",
      "5                0.7018                         0.1416  -2.074181  2.074181  \n",
      "6                0.0618                         6.1705   0.762225  0.762225  \n",
      "7                0.4840                         0.1475  -1.289346  1.289346  \n"
     ]
    }
   ],
   "source": [
    "print(df_new)"
   ]
  },
  {
   "cell_type": "code",
   "execution_count": null,
   "metadata": {},
   "outputs": [],
   "source": [
    "#Fitting the new df \n",
    "X = df_new[X_vars]\n",
    "X = sm.add_constant(X) \n",
    "y = df_new['HPI'] \n",
    "model_new = sm.OLS(y, X).fit()\n",
    "print(model_new.summary())"
   ]
  },
  {
   "cell_type": "code",
   "execution_count": 128,
   "metadata": {},
   "outputs": [
    {
     "name": "stdout",
     "output_type": "stream",
     "text": [
      "Breusch-Pagan test:\n",
      "{'Lagrange multiplier statistic': np.float64(244.20438489119164), 'p-value': np.float64(2.9135611523628114e-48), 'f-value': np.float64(49.681969578399546), 'f p-value': np.float64(1.0463412024906488e-61)}\n",
      "Reject the null hypothesis of homoscedasticity\n"
     ]
    }
   ],
   "source": [
    "#Using the new model summary, we test again: \n",
    "bp_test = sm.stats.diagnostic.het_breuschpagan(model.resid, model.model.exog)\n",
    "labels = ['Lagrange multiplier statistic', 'p-value', 'f-value', 'f p-value']\n",
    "print(\"Breusch-Pagan test:\")\n",
    "res = dict(zip(labels, bp_test))\n",
    "print(res)\n",
    "if res['p-value'] < 0.05:\n",
    "    print(\"Reject the null hypothesis of homoscedasticity\")"
   ]
  }
 ],
 "metadata": {
  "kernelspec": {
   "display_name": "Python 3",
   "language": "python",
   "name": "python3"
  },
  "language_info": {
   "codemirror_mode": {
    "name": "ipython",
    "version": 3
   },
   "file_extension": ".py",
   "mimetype": "text/x-python",
   "name": "python",
   "nbconvert_exporter": "python",
   "pygments_lexer": "ipython3",
   "version": "3.13.0"
  }
 },
 "nbformat": 4,
 "nbformat_minor": 2
}
