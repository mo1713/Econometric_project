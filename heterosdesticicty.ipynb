{
 "cells": [
  {
   "cell_type": "markdown",
   "metadata": {},
   "source": [
    "**Heteroskedasticity Testing and solve problem:**  \n",
    "   This part involves testing for heteroskedasticity to assess whether there's variance inconsistency in the model. Additionally, we employed Weighted Least Squares (WLS) to address this issue."
   ]
  },
  {
   "cell_type": "markdown",
   "metadata": {},
   "source": [
    "## Heteroskedasticity"
   ]
  },
  {
   "cell_type": "code",
   "execution_count": null,
   "metadata": {},
   "outputs": [],
   "source": [
    "\n",
    "pip install statsmodels numpy pandas matplotlib seaborn\n"
   ]
  },
  {
   "cell_type": "code",
   "execution_count": 3,
   "metadata": {},
   "outputs": [],
   "source": [
    "import numpy as np\n",
    "import pandas as pd\n",
    "import statsmodels.api as sm\n",
    "import matplotlib.pyplot as plt\n",
    "import seaborn as sns\n",
    "from statsmodels.stats.diagnostic import het_breuschpagan, het_white\n",
    "from statsmodels.formula.api import ols\n",
    "\n",
    "sns.set(style=\"whitegrid\")"
   ]
  },
  {
   "cell_type": "code",
   "execution_count": null,
   "metadata": {},
   "outputs": [],
   "source": [
    "pip install openpyxl"
   ]
  },
  {
   "cell_type": "markdown",
   "metadata": {},
   "source": [
    "**Importing dataset**"
   ]
  },
  {
   "cell_type": "code",
   "execution_count": 34,
   "metadata": {},
   "outputs": [
    {
     "data": {
      "text/html": [
       "<div>\n",
       "<style scoped>\n",
       "    .dataframe tbody tr th:only-of-type {\n",
       "        vertical-align: middle;\n",
       "    }\n",
       "\n",
       "    .dataframe tbody tr th {\n",
       "        vertical-align: top;\n",
       "    }\n",
       "\n",
       "    .dataframe thead th {\n",
       "        text-align: right;\n",
       "    }\n",
       "</style>\n",
       "<table border=\"1\" class=\"dataframe\">\n",
       "  <thead>\n",
       "    <tr style=\"text-align: right;\">\n",
       "      <th></th>\n",
       "      <th>Country Name</th>\n",
       "      <th>ISO</th>\n",
       "      <th>Year</th>\n",
       "      <th>Continent</th>\n",
       "      <th>Population (thousands)</th>\n",
       "      <th>Life Expectancy (years)</th>\n",
       "      <th>Ladder of life (Wellbeing) (0-10)</th>\n",
       "      <th>Carbon Footprint (tCO2e)</th>\n",
       "      <th>HPI</th>\n",
       "      <th>GDP per capita ($)</th>\n",
       "      <th>Annual precipitation</th>\n",
       "      <th>Average years of schooling</th>\n",
       "      <th>Gini coefficient</th>\n",
       "      <th>GNI</th>\n",
       "      <th>Unemployment</th>\n",
       "    </tr>\n",
       "  </thead>\n",
       "  <tbody>\n",
       "    <tr>\n",
       "      <th>0</th>\n",
       "      <td>Algeria</td>\n",
       "      <td>DZA</td>\n",
       "      <td>2011</td>\n",
       "      <td>Africa</td>\n",
       "      <td>36543.5</td>\n",
       "      <td>74.1</td>\n",
       "      <td>5.32</td>\n",
       "      <td>2.75</td>\n",
       "      <td>48.0</td>\n",
       "      <td>11114</td>\n",
       "      <td>82.46702</td>\n",
       "      <td>7.286604</td>\n",
       "      <td>0.276157</td>\n",
       "      <td>5050</td>\n",
       "      <td>9.96</td>\n",
       "    </tr>\n",
       "    <tr>\n",
       "      <th>1</th>\n",
       "      <td>Armenia</td>\n",
       "      <td>ARM</td>\n",
       "      <td>2011</td>\n",
       "      <td>Asia</td>\n",
       "      <td>2929.0</td>\n",
       "      <td>73.3</td>\n",
       "      <td>4.26</td>\n",
       "      <td>3.22</td>\n",
       "      <td>37.3</td>\n",
       "      <td>9551</td>\n",
       "      <td>953.70953</td>\n",
       "      <td>11.194550</td>\n",
       "      <td>0.293529</td>\n",
       "      <td>3360</td>\n",
       "      <td>18.44</td>\n",
       "    </tr>\n",
       "    <tr>\n",
       "      <th>2</th>\n",
       "      <td>Austria</td>\n",
       "      <td>AUT</td>\n",
       "      <td>2011</td>\n",
       "      <td>Europe</td>\n",
       "      <td>8391.2</td>\n",
       "      <td>80.8</td>\n",
       "      <td>7.47</td>\n",
       "      <td>14.52</td>\n",
       "      <td>44.1</td>\n",
       "      <td>53179</td>\n",
       "      <td>1024.22410</td>\n",
       "      <td>11.711150</td>\n",
       "      <td>0.308010</td>\n",
       "      <td>50700</td>\n",
       "      <td>4.56</td>\n",
       "    </tr>\n",
       "    <tr>\n",
       "      <th>3</th>\n",
       "      <td>Belarus</td>\n",
       "      <td>BLR</td>\n",
       "      <td>2011</td>\n",
       "      <td>Europe</td>\n",
       "      <td>9707.0</td>\n",
       "      <td>71.5</td>\n",
       "      <td>5.23</td>\n",
       "      <td>5.39</td>\n",
       "      <td>38.5</td>\n",
       "      <td>18274</td>\n",
       "      <td>635.04770</td>\n",
       "      <td>11.380924</td>\n",
       "      <td>0.271525</td>\n",
       "      <td>6350</td>\n",
       "      <td>6.17</td>\n",
       "    </tr>\n",
       "    <tr>\n",
       "      <th>4</th>\n",
       "      <td>Belgium</td>\n",
       "      <td>BEL</td>\n",
       "      <td>2011</td>\n",
       "      <td>Europe</td>\n",
       "      <td>10955.7</td>\n",
       "      <td>80.4</td>\n",
       "      <td>7.11</td>\n",
       "      <td>20.59</td>\n",
       "      <td>34.4</td>\n",
       "      <td>48155</td>\n",
       "      <td>788.48303</td>\n",
       "      <td>11.469870</td>\n",
       "      <td>0.280604</td>\n",
       "      <td>46370</td>\n",
       "      <td>7.14</td>\n",
       "    </tr>\n",
       "  </tbody>\n",
       "</table>\n",
       "</div>"
      ],
      "text/plain": [
       "  Country Name  ISO  Year Continent  Population (thousands)  \\\n",
       "0      Algeria  DZA  2011    Africa                 36543.5   \n",
       "1      Armenia  ARM  2011      Asia                  2929.0   \n",
       "2      Austria  AUT  2011    Europe                  8391.2   \n",
       "3      Belarus  BLR  2011    Europe                  9707.0   \n",
       "4      Belgium  BEL  2011    Europe                 10955.7   \n",
       "\n",
       "   Life Expectancy (years)  Ladder of life (Wellbeing) (0-10)  \\\n",
       "0                     74.1                               5.32   \n",
       "1                     73.3                               4.26   \n",
       "2                     80.8                               7.47   \n",
       "3                     71.5                               5.23   \n",
       "4                     80.4                               7.11   \n",
       "\n",
       "   Carbon Footprint (tCO2e)   HPI  GDP per capita ($)  Annual precipitation  \\\n",
       "0                      2.75  48.0               11114              82.46702   \n",
       "1                      3.22  37.3                9551             953.70953   \n",
       "2                     14.52  44.1               53179            1024.22410   \n",
       "3                      5.39  38.5               18274             635.04770   \n",
       "4                     20.59  34.4               48155             788.48303   \n",
       "\n",
       "   Average years of schooling  Gini coefficient    GNI  Unemployment  \n",
       "0                    7.286604          0.276157   5050          9.96  \n",
       "1                   11.194550          0.293529   3360         18.44  \n",
       "2                   11.711150          0.308010  50700          4.56  \n",
       "3                   11.380924          0.271525   6350          6.17  \n",
       "4                   11.469870          0.280604  46370          7.14  "
      ]
     },
     "execution_count": 34,
     "metadata": {},
     "output_type": "execute_result"
    }
   ],
   "source": [
    "#Read data\n",
    "file_path = r\"C:\\Users\\ADMIN\\Documents\\FINAL-DATA.xlsx\"\n",
    "data = pd.read_excel(file_path)\n",
    "df = pd.DataFrame(data)\n",
    "df.head()"
   ]
  },
  {
   "cell_type": "markdown",
   "metadata": {},
   "source": [
    "**Data Cleaning** "
   ]
  },
  {
   "cell_type": "code",
   "execution_count": 35,
   "metadata": {},
   "outputs": [
    {
     "data": {
      "text/plain": [
       "(619, 15)"
      ]
     },
     "execution_count": 35,
     "metadata": {},
     "output_type": "execute_result"
    }
   ],
   "source": [
    "df = df.drop_duplicates()\n",
    "df.shape"
   ]
  },
  {
   "cell_type": "code",
   "execution_count": 36,
   "metadata": {},
   "outputs": [
    {
     "data": {
      "text/plain": [
       "Country Name                         0\n",
       "ISO                                  0\n",
       "Year                                 0\n",
       "Continent                            0\n",
       "Population (thousands)               0\n",
       "Life Expectancy (years)              0\n",
       "Ladder of life (Wellbeing) (0-10)    0\n",
       "Carbon Footprint (tCO2e)             0\n",
       "HPI                                  0\n",
       "GDP per capita ($)                   0\n",
       "Annual precipitation                 0\n",
       "Average years of schooling           0\n",
       "Gini coefficient                     0\n",
       "GNI                                  0\n",
       "Unemployment                         0\n",
       "dtype: int64"
      ]
     },
     "execution_count": 36,
     "metadata": {},
     "output_type": "execute_result"
    }
   ],
   "source": [
    "df.isnull().sum()"
   ]
  },
  {
   "cell_type": "code",
   "execution_count": 53,
   "metadata": {},
   "outputs": [],
   "source": [
    "df = pd.DataFrame(data)\n",
    "df = df[(df['GNI'] <= 6500)] \n",
    "#đây là nhóm nước GNI thấp, trung bình: 6500<=GNI<= 31000, cao là GNI>31000"
   ]
  },
  {
   "cell_type": "markdown",
   "metadata": {},
   "source": [
    "**OLS Regression**"
   ]
  },
  {
   "cell_type": "code",
   "execution_count": 54,
   "metadata": {},
   "outputs": [
    {
     "name": "stdout",
     "output_type": "stream",
     "text": [
      "                            OLS Regression Results                            \n",
      "==============================================================================\n",
      "Dep. Variable:                    HPI   R-squared:                       0.894\n",
      "Model:                            OLS   Adj. R-squared:                  0.889\n",
      "Method:                 Least Squares   F-statistic:                     206.5\n",
      "Date:                Mon, 07 Apr 2025   Prob (F-statistic):           3.22e-80\n",
      "Time:                        22:19:10   Log-Likelihood:                -439.53\n",
      "No. Observations:                 180   AIC:                             895.1\n",
      "Df Residuals:                     172   BIC:                             920.6\n",
      "Df Model:                           7                                         \n",
      "Covariance Type:            nonrobust                                         \n",
      "=====================================================================================================\n",
      "                                        coef    std err          t      P>|t|      [0.025      0.975]\n",
      "-----------------------------------------------------------------------------------------------------\n",
      "const                               -32.1780      4.299     -7.485      0.000     -40.663     -23.693\n",
      "Ladder of life (Wellbeing) (0-10)     8.1742      0.427     19.145      0.000       7.331       9.017\n",
      "Carbon Footprint (tCO2e)             -1.6555      0.087    -19.011      0.000      -1.827      -1.484\n",
      "ln_GNI                                5.0430      0.745      6.769      0.000       3.572       6.514\n",
      "ln_Annual precipitation               0.4988      0.487      1.025      0.307      -0.462       1.460\n",
      "Average years of schooling           -0.3548      0.161     -2.204      0.029      -0.672      -0.037\n",
      "stan_gini                            -0.1183      0.044     -2.697      0.008      -0.205      -0.032\n",
      "Unemployment                          0.1133      0.044      2.570      0.011       0.026       0.200\n",
      "==============================================================================\n",
      "Omnibus:                       11.887   Durbin-Watson:                   1.603\n",
      "Prob(Omnibus):                  0.003   Jarque-Bera (JB):               24.615\n",
      "Skew:                           0.232   Prob(JB):                     4.52e-06\n",
      "Kurtosis:                       4.751   Cond. No.                         872.\n",
      "==============================================================================\n",
      "\n",
      "Notes:\n",
      "[1] Standard Errors assume that the covariance matrix of the errors is correctly specified.\n"
     ]
    }
   ],
   "source": [
    "import statsmodels.api as sm\n",
    "df[\"ln_Annual precipitation\"]= np.log(df[\"Annual precipitation\"])\n",
    "df['ln_GNI'] = np.log(df['GNI'])\n",
    "df['stan_gini'] = df['Gini coefficient'] * 100\n",
    "X = df[['Ladder of life (Wellbeing) (0-10)','Carbon Footprint (tCO2e)','ln_GNI','ln_Annual precipitation', 'Average years of schooling', 'stan_gini','Unemployment']]\n",
    "X = sm.add_constant(X)\n",
    "y = df[\"HPI\"]\n",
    "model = sm.OLS(y, X).fit()\n",
    "print(model.summary())\n"
   ]
  },
  {
   "cell_type": "code",
   "execution_count": 55,
   "metadata": {},
   "outputs": [
    {
     "data": {
      "image/png": "[encoded data removed]",
      "text/plain": [
       "<Figure size 1000x600 with 1 Axes>"
      ]
     },
     "metadata": {},
     "output_type": "display_data"
    }
   ],
   "source": [
    "# 1. Visual inspection of residuals\n",
    "plt.figure(figsize=(10, 6))\n",
    "plt.scatter(model.fittedvalues, model.resid)\n",
    "plt.axhline(y=0, color='r', linestyle='--')\n",
    "plt.xlabel('Fitted values')\n",
    "plt.ylabel('Residuals')\n",
    "plt.title('Residuals vs Fitted Values')\n",
    "plt.show()"
   ]
  },
  {
   "cell_type": "markdown",
   "metadata": {},
   "source": [
    "Biểu đồ hình quạt => Phương sai không đồng nhất"
   ]
  },
  {
   "cell_type": "markdown",
   "metadata": {},
   "source": [
    "**Correlation values between each independent variable and the squared residuals**\n",
    "\n",
    "Để check đâu là nguyên nhân chính gây ra heterosdasticity"
   ]
  },
  {
   "cell_type": "code",
   "execution_count": 56,
   "metadata": {},
   "outputs": [
    {
     "name": "stdout",
     "output_type": "stream",
     "text": [
      "Carbon Footprint (tCO2e): 0.3686\n",
      "ln_GNI: -0.2210\n",
      "Average years of schooling: -0.1158\n",
      "Unemployment: -0.1024\n",
      "ln_Annual precipitation: -0.0786\n",
      "stan_gini: 0.0769\n",
      "Ladder of life (Wellbeing) (0-10): 0.0127\n"
     ]
    }
   ],
   "source": [
    "# Tạo DataFrame chứa bình phương phần dư và các biến độc lập\n",
    "residual_analysis = pd.DataFrame()\n",
    "residual_analysis['resid_squared'] = model.resid**2\n",
    "\n",
    "# Tính hệ số tương quan\n",
    "correlations = {}\n",
    "for var in X.columns:\n",
    "    if var != 'const':  \n",
    "        residual_analysis[var] = df[var]\n",
    "        corr = residual_analysis['resid_squared'].corr(residual_analysis[var])\n",
    "        correlations[var] = corr\n",
    "\n",
    "# Hiển thị kết quả tương quan\n",
    "sorted_correlations = sorted(correlations.items(), key=lambda x: abs(x[1]), reverse=True)\n",
    "for var, corr in sorted_correlations:\n",
    "    print(f\"{var}: {corr:.4f}\")\n"
   ]
  },
  {
   "cell_type": "markdown",
   "metadata": {},
   "source": [
    "Absolute correlation close to 0 means less siginficant impact on heteroskedasticity\n",
    "\n",
    "**Carbon Footprint**, **GNI** are more likely to contribute to heteroskedasticity."
   ]
  },
  {
   "cell_type": "code",
   "execution_count": 73,
   "metadata": {},
   "outputs": [
    {
     "name": "stdout",
     "output_type": "stream",
     "text": [
      "Breusch-Pagan test:\n",
      "{'Lagrange multiplier statistic': np.float64(56.8842415699014), 'p-value': np.float64(6.3028823960983e-10), 'f-value': np.float64(11.352950234784991), 'f p-value': np.float64(8.443048381731617e-12)}\n",
      "Reject the null hypothesis of homoscedasticity\n"
     ]
    }
   ],
   "source": [
    "#Breuch-Pagan test; for significant level of 0.05 \n",
    "\n",
    "bp_test = sm.stats.diagnostic.het_breuschpagan(model.resid, model.model.exog) #p_value có tăng so với không chia data\n",
    "labels = ['Lagrange multiplier statistic', 'p-value', 'f-value', 'f p-value']\n",
    "print(\"Breusch-Pagan test:\")\n",
    "res = dict(zip(labels, bp_test))\n",
    "print(res)\n",
    "if res['p-value'] < 0.05:\n",
    "    print(\"Reject the null hypothesis of homoscedasticity\")"
   ]
  },
  {
   "cell_type": "code",
   "execution_count": 61,
   "metadata": {},
   "outputs": [
    {
     "name": "stdout",
     "output_type": "stream",
     "text": [
      "Carbon Footprint (tCO2e): p-value = 0.0000 (Significant)\n",
      "ln_GNI: p-value = 0.0030 (Significant)\n",
      "Average years of schooling: p-value = 0.1204 (Not significant)\n",
      "Unemployment: p-value = 0.1695 (Not significant)\n",
      "ln_Annual precipitation: p-value = 0.2916 (Not significant)\n",
      "stan_gini: p-value = 0.3021 (Not significant)\n",
      "Ladder of life (Wellbeing) (0-10): p-value = 0.8651 (Not significant)\n"
     ]
    }
   ],
   "source": [
    "#Breusch Pagan Test\n",
    "from statsmodels.stats.diagnostic import het_breuschpagan\n",
    "import numpy as np\n",
    "\n",
    "# Kiểm định riêng lẻ cho từng biến. Với mỗi biến var, tạo một mô hình hồi quy đơn biến để test:\n",
    "bp_results = {}\n",
    "for var in X.columns:\n",
    "    if var != 'const': \n",
    "        X_single = sm.add_constant(df[[var]])\n",
    "        bp_test = het_breuschpagan(model.resid, X_single)\n",
    "        bp_results[var] = bp_test[1]  # p-value\n",
    "\n",
    "# Hiển thị kết quả theo thứ tự tăng dần của p-value\n",
    "sorted_bp = sorted(bp_results.items(), key=lambda x: x[1])\n",
    "for var, p_value in sorted_bp:\n",
    "    significance = \"Significant\" if p_value < 0.05 else \"Not significant\"\n",
    "    print(f\"{var}: p-value = {p_value:.4f} ({significance})\")"
   ]
  },
  {
   "cell_type": "markdown",
   "metadata": {},
   "source": [
    "p-value Analysis for Heteroskedasticity:\n",
    "\n",
    "If p-value < 0.05: This indicates the presence of heteroskedasticity (result: \"Significant\").\n",
    "\n",
    "If p-value ≥ 0.05: There is not enough evidence to reject the null hypothesis (result: \"Not significant\").\n",
    "\n",
    "**Analysis Conclusion:**\n",
    "The analysis shows that variables **Carbon Footprint, GNI** have a significant impact on heteroskedasticity. "
   ]
  },
  {
   "cell_type": "code",
   "execution_count": 62,
   "metadata": {},
   "outputs": [
    {
     "name": "stdout",
     "output_type": "stream",
     "text": [
      "White Test:\n",
      "{'Test Statistic': np.float64(147.1862695024755), 'p-value': np.float64(1.0404576614107724e-15), 'F-statistic': np.float64(18.45466384868148), 'F p-value': np.float64(7.573643688141309e-38)}\n",
      "Reject the null hypothesis of homoscedasticity\n"
     ]
    }
   ],
   "source": [
    "# White test; for significant level of 0.05 \n",
    "import statsmodels.stats.diagnostic as smd\n",
    "residuals = model.resid\n",
    "\n",
    "white_test = smd.het_white(residuals, X)\n",
    "labels = ['Test Statistic', 'p-value', 'F-statistic', 'F p-value']\n",
    "print('White Test:')\n",
    "print(dict(zip(labels, white_test)))\n",
    "if white_test[1] < 0.05:\n",
    "    print(\"Reject the null hypothesis of homoscedasticity\")"
   ]
  },
  {
   "cell_type": "markdown",
   "metadata": {},
   "source": [
    "## Solve Heteroskedasticity"
   ]
  },
  {
   "cell_type": "code",
   "execution_count": 63,
   "metadata": {},
   "outputs": [
    {
     "data": {
      "image/png": "[encoded data removed]",
      "text/plain": [
       "<Figure size 1000x600 with 1 Axes>"
      ]
     },
     "metadata": {},
     "output_type": "display_data"
    }
   ],
   "source": [
    "#Outlier detection \n",
    "# Calculate the z-scores of the residuals\n",
    "import scipy.stats as stats\n",
    "residuals = model.resid \n",
    "fitted = model.fittedvalues\n",
    "z_scores = np.abs(stats.zscore(residuals))\n",
    "\n",
    "# Define a threshold for outliers\n",
    "threshold = 3\n",
    "\n",
    "# Create a boolean mask for the outliers\n",
    "outliers = z_scores > threshold\n",
    "\n",
    "# Draw a plot\n",
    "plt.figure(figsize=(10,6))\n",
    "plt.scatter(fitted, residuals, alpha=0.5, label='Data points')\n",
    "plt.scatter(fitted[outliers], residuals[outliers], color='r', label='Outliers')\n",
    "plt.plot([fitted.min(), fitted.max()], [0, 0], 'r-')\n",
    "plt.xlabel('Fitted values')\n",
    "plt.ylabel('Residuals')\n",
    "plt.title('Residuals vs Fitted values')\n",
    "plt.legend()\n",
    "plt.show()"
   ]
  },
  {
   "cell_type": "markdown",
   "metadata": {},
   "source": [
    "Remove ouliers để giảm chênh lệch giữa y và fitted value"
   ]
  },
  {
   "cell_type": "code",
   "execution_count": 64,
   "metadata": {},
   "outputs": [
    {
     "data": {
      "text/plain": [
       "178"
      ]
     },
     "execution_count": 64,
     "metadata": {},
     "output_type": "execute_result"
    }
   ],
   "source": [
    "#Creating a new df with removed outliers \n",
    "\n",
    "df['residuals'] = model.resid \n",
    "df_new = df.copy()\n",
    "df_new['z_scores'] = np.abs(stats.zscore(df_new['residuals']))\n",
    "df_new = df_new[df_new['z_scores'] < 3]\n",
    "df_new = df_new.drop(columns = ['z_scores'])\n",
    "len(df_new)"
   ]
  },
  {
   "cell_type": "code",
   "execution_count": 65,
   "metadata": {},
   "outputs": [
    {
     "name": "stdout",
     "output_type": "stream",
     "text": [
      "    Country Name  ISO  Year      Continent  Population (thousands)  \\\n",
      "0        Algeria  DZA  2011         Africa                 36543.5   \n",
      "1        Armenia  ARM  2011           Asia                  2929.0   \n",
      "3        Belarus  BLR  2011         Europe                  9707.0   \n",
      "5        Bolivia  BOL  2011  South America                 10396.2   \n",
      "10         China  CHN  2011  North America               1357095.5   \n",
      "..           ...  ...   ...            ...                     ...   \n",
      "592    Indonesia  IDN  2021           Asia                273753.2   \n",
      "601         Mali  MLI  2021         Africa                 21905.0   \n",
      "602      Moldova  MDA  2021         Europe                  3061.5   \n",
      "606     Paraguay  PRY  2021  South America                  6703.8   \n",
      "616         Togo  TGO  2021           Asia                  8644.8   \n",
      "\n",
      "     Life Expectancy (years)  Ladder of life (Wellbeing) (0-10)  \\\n",
      "0                       74.1                               5.32   \n",
      "1                       73.3                               4.26   \n",
      "3                       71.5                               5.23   \n",
      "5                       66.5                               5.78   \n",
      "10                      75.9                               5.04   \n",
      "..                       ...                                ...   \n",
      "592                     67.6                               5.43   \n",
      "601                     58.9                               4.11   \n",
      "602                     68.8                               5.96   \n",
      "606                     70.3                               5.58   \n",
      "616                     61.6                               4.04   \n",
      "\n",
      "     Carbon Footprint (tCO2e)   HPI  GDP per capita ($)  Annual precipitation  \\\n",
      "0                        2.75  48.0               11114              82.46702   \n",
      "1                        3.22  37.3                9551             953.70953   \n",
      "3                        5.39  38.5               18274             635.04770   \n",
      "5                        4.68  39.1                6724            1491.41630   \n",
      "10                       7.15  37.6                9680             699.62490   \n",
      "..                        ...   ...                 ...                   ...   \n",
      "592                      3.19  40.1               11859            3506.87600   \n",
      "601                      3.76  22.2                2121             189.68820   \n",
      "602                      1.29  50.9               13602             627.96576   \n",
      "606                      8.27  33.9               13676            1007.79236   \n",
      "616                      2.16  26.3                2137            1074.55210   \n",
      "\n",
      "     Average years of schooling  Gini coefficient   GNI  Unemployment  \\\n",
      "0                      7.286604          0.276157  5050          9.96   \n",
      "1                     11.194550          0.293529  3360         18.44   \n",
      "3                     11.380924          0.271525  6350          6.17   \n",
      "5                      7.943080          0.460803  1970          2.25   \n",
      "10                     6.862735          0.424092  5040          4.55   \n",
      "..                          ...               ...   ...           ...   \n",
      "592                    8.556510          0.355048  4130          4.41   \n",
      "601                    1.626710          0.356536   800          7.72   \n",
      "602                   11.833816          0.257316  5270          3.96   \n",
      "606                    8.861840          0.429051  5750          7.21   \n",
      "616                    5.590314          0.378580   920          4.00   \n",
      "\n",
      "     ln_Annual precipitation    ln_GNI  stan_gini  residuals  \n",
      "0                   4.412398  8.527144  27.615732   0.763610  \n",
      "1                   6.860359  8.119696  29.352945   0.971146  \n",
      "3                   6.453700  8.756210  27.152550  -3.976191  \n",
      "5                   7.307481  7.585789  46.080348  -2.107990  \n",
      "10                  6.550544  8.525161  42.409223   1.092352  \n",
      "..                       ...       ...        ...        ...  \n",
      "592                 8.162481  8.326033  35.504764  -6.151079  \n",
      "601                 5.245382  6.684612  35.653594  -5.400891  \n",
      "602                 6.442486  8.569786  25.731638  -3.142263  \n",
      "606                 6.915517  8.656955  42.905150  -5.547674  \n",
      "616                 6.979659  6.824374  37.858006  -2.858972  \n",
      "\n",
      "[178 rows x 19 columns]\n"
     ]
    }
   ],
   "source": [
    "print(df_new)"
   ]
  },
  {
   "cell_type": "code",
   "execution_count": 66,
   "metadata": {},
   "outputs": [
    {
     "name": "stdout",
     "output_type": "stream",
     "text": [
      "                            OLS Regression Results                            \n",
      "==============================================================================\n",
      "Dep. Variable:                    HPI   R-squared:                       0.913\n",
      "Model:                            OLS   Adj. R-squared:                  0.910\n",
      "Method:                 Least Squares   F-statistic:                     255.8\n",
      "Date:                Mon, 07 Apr 2025   Prob (F-statistic):           9.24e-87\n",
      "Time:                        22:28:09   Log-Likelihood:                -413.29\n",
      "No. Observations:                 178   AIC:                             842.6\n",
      "Df Residuals:                     170   BIC:                             868.0\n",
      "Df Model:                           7                                         \n",
      "Covariance Type:            nonrobust                                         \n",
      "=====================================================================================================\n",
      "                                        coef    std err          t      P>|t|      [0.025      0.975]\n",
      "-----------------------------------------------------------------------------------------------------\n",
      "const                               -34.4097      3.846     -8.947      0.000     -42.002     -26.817\n",
      "Ladder of life (Wellbeing) (0-10)     7.9846      0.383     20.856      0.000       7.229       8.740\n",
      "Carbon Footprint (tCO2e)             -1.9547      0.093    -20.967      0.000      -2.139      -1.771\n",
      "ln_GNI                                5.6563      0.680      8.313      0.000       4.313       6.999\n",
      "ln_Annual precipitation               0.1793      0.437      0.410      0.682      -0.684       1.042\n",
      "Average years of schooling           -0.2970      0.143     -2.074      0.040      -0.580      -0.014\n",
      "stan_gini                            -0.0861      0.039     -2.196      0.029      -0.164      -0.009\n",
      "Unemployment                          0.1133      0.039      2.895      0.004       0.036       0.191\n",
      "==============================================================================\n",
      "Omnibus:                        1.361   Durbin-Watson:                   1.522\n",
      "Prob(Omnibus):                  0.506   Jarque-Bera (JB):                1.233\n",
      "Skew:                          -0.044   Prob(JB):                        0.540\n",
      "Kurtosis:                       2.602   Cond. No.                         875.\n",
      "==============================================================================\n",
      "\n",
      "Notes:\n",
      "[1] Standard Errors assume that the covariance matrix of the errors is correctly specified.\n"
     ]
    }
   ],
   "source": [
    "#Fitting the new df \n",
    "X = df_new[['Ladder of life (Wellbeing) (0-10)','Carbon Footprint (tCO2e)','ln_GNI','ln_Annual precipitation', 'Average years of schooling', 'stan_gini','Unemployment']]\n",
    "X = sm.add_constant(X) \n",
    "y = df_new['HPI'] \n",
    "model_new = sm.OLS(y, X).fit()\n",
    "print(model_new.summary())"
   ]
  },
  {
   "cell_type": "code",
   "execution_count": 67,
   "metadata": {},
   "outputs": [
    {
     "name": "stdout",
     "output_type": "stream",
     "text": [
      "Breusch-Pagan test:\n",
      "{'Lagrange multiplier statistic': np.float64(56.8842415699014), 'p-value': np.float64(6.3028823960983e-10), 'f-value': np.float64(11.352950234784991), 'f p-value': np.float64(8.443048381731617e-12)}\n",
      "Reject the null hypothesis of homoscedasticity\n"
     ]
    }
   ],
   "source": [
    "#Using the new model summary, we test again: \n",
    "bp_test = sm.stats.diagnostic.het_breuschpagan(model.resid, model.model.exog)\n",
    "labels = ['Lagrange multiplier statistic', 'p-value', 'f-value', 'f p-value']\n",
    "print(\"Breusch-Pagan test:\")\n",
    "res = dict(zip(labels, bp_test))\n",
    "print(res)\n",
    "if res['p-value'] < 0.05:\n",
    "    print(\"Reject the null hypothesis of homoscedasticity\")"
   ]
  },
  {
   "cell_type": "markdown",
   "metadata": {},
   "source": [
    "This method do not eliminate heterokedascity. "
   ]
  },
  {
   "cell_type": "markdown",
   "metadata": {},
   "source": [
    "**WLS**"
   ]
  },
  {
   "cell_type": "code",
   "execution_count": 68,
   "metadata": {},
   "outputs": [],
   "source": [
    "y=df['HPI']\n",
    "x=df[['Ladder of life (Wellbeing) (0-10)','Carbon Footprint (tCO2e)','ln_GNI','ln_Annual precipitation', 'Average years of schooling', 'stan_gini','Unemployment']]\n",
    "x = sm.add_constant(x) \n",
    "\n",
    "model = sm.OLS(y, x).fit()"
   ]
  },
  {
   "cell_type": "markdown",
   "metadata": {},
   "source": [
    "Try 1. The weight is the fitted value, inverse of the fitted values, inverse of square fitted value  obtained from the OLS model."
   ]
  },
  {
   "cell_type": "code",
   "execution_count": 69,
   "metadata": {},
   "outputs": [
    {
     "name": "stdout",
     "output_type": "stream",
     "text": [
      "                            WLS Regression Results                            \n",
      "==============================================================================\n",
      "Dep. Variable:                    HPI   R-squared:                       0.932\n",
      "Model:                            WLS   Adj. R-squared:                  0.930\n",
      "Method:                 Least Squares   F-statistic:                     338.7\n",
      "Date:                Mon, 07 Apr 2025   Prob (F-statistic):           4.60e-97\n",
      "Time:                        22:28:18   Log-Likelihood:                -467.99\n",
      "No. Observations:                 180   AIC:                             952.0\n",
      "Df Residuals:                     172   BIC:                             977.5\n",
      "Df Model:                           7                                         \n",
      "Covariance Type:            nonrobust                                         \n",
      "=====================================================================================================\n",
      "                                        coef    std err          t      P>|t|      [0.025      0.975]\n",
      "-----------------------------------------------------------------------------------------------------\n",
      "const                               -34.3166      4.563     -7.520      0.000     -43.323     -25.310\n",
      "Ladder of life (Wellbeing) (0-10)     8.4462      0.466     18.108      0.000       7.526       9.367\n",
      "Carbon Footprint (tCO2e)             -1.0209      0.047    -21.633      0.000      -1.114      -0.928\n",
      "ln_GNI                                3.6985      0.811      4.563      0.000       2.099       5.298\n",
      "ln_Annual precipitation               2.2172      0.540      4.105      0.000       1.151       3.283\n",
      "Average years of schooling           -0.3472      0.180     -1.929      0.055      -0.702       0.008\n",
      "stan_gini                            -0.2147      0.050     -4.335      0.000      -0.312      -0.117\n",
      "Unemployment                          0.1322      0.049      2.685      0.008       0.035       0.229\n",
      "==============================================================================\n",
      "Omnibus:                        1.763   Durbin-Watson:                   1.860\n",
      "Prob(Omnibus):                  0.414   Jarque-Bera (JB):                1.553\n",
      "Skew:                          -0.097   Prob(JB):                        0.460\n",
      "Kurtosis:                       2.588   Cond. No.                         882.\n",
      "==============================================================================\n",
      "\n",
      "Notes:\n",
      "[1] Standard Errors assume that the covariance matrix of the errors is correctly specified.\n",
      "Breusch-Pagan test:\n",
      "{'Lagrange multiplier statistic': np.float64(30.125659740827743), 'p-value': np.float64(9.004976558491559e-05), 'f-value': np.float64(4.939007539308305), 'f p-value': np.float64(4.14494584466178e-05)}\n",
      "Reject the null hypothesis of homoscedasticity\n"
     ]
    }
   ],
   "source": [
    "\n",
    "## add a intercept point\n",
    "#w1 = model.fittedvalues\n",
    "w1 = 1 / (model.fittedvalues**2 + 1e-5) #p_value lớn nhất trng 3 cái\n",
    "#w1 = 1 / (model.fittedvalues + 1e-5)\n",
    "model_wls_1 = sm.WLS(y, x, weights = w1) \n",
    "mod_res_1 = model_wls_1.fit() \n",
    "print(mod_res_1.summary())\n",
    "\n",
    "residuals = mod_res_1.resid\n",
    "bp_test = sm.stats.diagnostic.het_breuschpagan(residuals, mod_res_1.model.exog)\n",
    "labels = ['Lagrange multiplier statistic', 'p-value', 'f-value', 'f p-value']\n",
    "print(\"Breusch-Pagan test:\")\n",
    "res = dict(zip(labels, bp_test))\n",
    "print(res)\n",
    "if res['p-value'] < 0.05:\n",
    "    print(\"Reject the null hypothesis of homoscedasticity\")"
   ]
  },
  {
   "cell_type": "markdown",
   "metadata": {},
   "source": [
    "Try 2. Ước lượng phương sai sai số dựa trên giá trị tuyệt đối của phần dư từ mô hình ban đầu. Bình phương các giá trị dự đoán này để tạo ra trọng số (weights) cho mô hình WLS."
   ]
  },
  {
   "cell_type": "code",
   "execution_count": 70,
   "metadata": {},
   "outputs": [
    {
     "name": "stdout",
     "output_type": "stream",
     "text": [
      "                            WLS Regression Results                            \n",
      "==============================================================================\n",
      "Dep. Variable:                    HPI   R-squared:                       0.889\n",
      "Model:                            WLS   Adj. R-squared:                  0.885\n",
      "Method:                 Least Squares   F-statistic:                     197.2\n",
      "Date:                Mon, 07 Apr 2025   Prob (F-statistic):           1.11e-78\n",
      "Time:                        22:28:24   Log-Likelihood:                -452.76\n",
      "No. Observations:                 180   AIC:                             921.5\n",
      "Df Residuals:                     172   BIC:                             947.1\n",
      "Df Model:                           7                                         \n",
      "Covariance Type:            nonrobust                                         \n",
      "=====================================================================================================\n",
      "                                        coef    std err          t      P>|t|      [0.025      0.975]\n",
      "-----------------------------------------------------------------------------------------------------\n",
      "const                               -32.8087      4.372     -7.505      0.000     -41.438     -24.180\n",
      "Ladder of life (Wellbeing) (0-10)     8.0637      0.451     17.888      0.000       7.174       8.953\n",
      "Carbon Footprint (tCO2e)             -1.4179      0.079    -17.973      0.000      -1.574      -1.262\n",
      "ln_GNI                                4.7007      0.774      6.069      0.000       3.172       6.229\n",
      "ln_Annual precipitation               1.0194      0.528      1.930      0.055      -0.023       2.062\n",
      "Average years of schooling           -0.3088      0.168     -1.835      0.068      -0.641       0.023\n",
      "stan_gini                            -0.1501      0.047     -3.228      0.001      -0.242      -0.058\n",
      "Unemployment                          0.1068      0.046      2.310      0.022       0.016       0.198\n",
      "==============================================================================\n",
      "Omnibus:                       11.684   Durbin-Watson:                   1.712\n",
      "Prob(Omnibus):                  0.003   Jarque-Bera (JB):               21.367\n",
      "Skew:                           0.288   Prob(JB):                     2.29e-05\n",
      "Kurtosis:                       4.587   Cond. No.                         835.\n",
      "==============================================================================\n",
      "\n",
      "Notes:\n",
      "[1] Standard Errors assume that the covariance matrix of the errors is correctly specified.\n",
      "Breusch-Pagan test:\n",
      "{'Lagrange multiplier statistic': np.float64(40.180252552628346), 'p-value': np.float64(1.1626412995359701e-06), 'f-value': np.float64(7.061135666480043), 'f p-value': np.float64(2.0777272912368863e-07)}\n",
      "Reject the null hypothesis of homoscedasticity\n"
     ]
    }
   ],
   "source": [
    "model_residuals = model.resid\n",
    "model_abs_resid = abs(model_residuals)\n",
    "df[\"temp\"] = model_abs_resid \n",
    "y_pred = model.fittedvalues\n",
    "\n",
    "model_abs_resid = sm.OLS(df[\"temp\"], sm.add_constant(y_pred)).fit()\n",
    "\n",
    "# Get the fitted values from the new model\n",
    "weights_2 = model_abs_resid.fittedvalues**2\n",
    "\n",
    "# Use the fitted values as weights in a WLS model\n",
    "model_wls_2 = sm.WLS(y, x, weights=weights_2)\n",
    "result_wls_2 = model_wls_2.fit()\n",
    "print(result_wls_2.summary())\n",
    "\n",
    "residuals = result_wls_2.resid\n",
    "bp_test = sm.stats.diagnostic.het_breuschpagan(residuals, result_wls_2.model.exog)\n",
    "labels = ['Lagrange multiplier statistic', 'p-value', 'f-value', 'f p-value']\n",
    "print(\"Breusch-Pagan test:\")\n",
    "res = dict(zip(labels, bp_test))\n",
    "print(res)\n",
    "if res['p-value'] < 0.05:\n",
    "    print(\"Reject the null hypothesis of homoscedasticity\")"
   ]
  },
  {
   "cell_type": "markdown",
   "metadata": {},
   "source": [
    "Try 3. Như phần trên nhưng trọng số được lấy trực tiếp từ các giá trị dự đoán của mô hình OLS, mà không bình phương chúng."
   ]
  },
  {
   "cell_type": "code",
   "execution_count": 72,
   "metadata": {},
   "outputs": [
    {
     "name": "stdout",
     "output_type": "stream",
     "text": [
      "                            WLS Regression Results                            \n",
      "==============================================================================\n",
      "Dep. Variable:                    HPI   R-squared:                       0.871\n",
      "Model:                            WLS   Adj. R-squared:                  0.866\n",
      "Method:                 Least Squares   F-statistic:                     166.6\n",
      "Date:                Mon, 07 Apr 2025   Prob (F-statistic):           3.73e-73\n",
      "Time:                        22:28:38   Log-Likelihood:                -470.21\n",
      "No. Observations:                 180   AIC:                             956.4\n",
      "Df Residuals:                     172   BIC:                             982.0\n",
      "Df Model:                           7                                         \n",
      "Covariance Type:            nonrobust                                         \n",
      "=====================================================================================================\n",
      "                                        coef    std err          t      P>|t|      [0.025      0.975]\n",
      "-----------------------------------------------------------------------------------------------------\n",
      "const                               -33.7639      4.420     -7.639      0.000     -42.488     -25.040\n",
      "Ladder of life (Wellbeing) (0-10)     7.5025      0.478     15.686      0.000       6.558       8.447\n",
      "Carbon Footprint (tCO2e)             -1.3107      0.079    -16.550      0.000      -1.467      -1.154\n",
      "ln_GNI                                4.7484      0.771      6.162      0.000       3.227       6.270\n",
      "ln_Annual precipitation               1.4034      0.553      2.538      0.012       0.312       2.495\n",
      "Average years of schooling           -0.2728      0.169     -1.614      0.108      -0.606       0.061\n",
      "stan_gini                            -0.1599      0.047     -3.403      0.001      -0.253      -0.067\n",
      "Unemployment                          0.1046      0.046      2.272      0.024       0.014       0.195\n",
      "==============================================================================\n",
      "Omnibus:                       11.454   Durbin-Watson:                   1.802\n",
      "Prob(Omnibus):                  0.003   Jarque-Bera (JB):               18.030\n",
      "Skew:                           0.346   Prob(JB):                     0.000122\n",
      "Kurtosis:                       4.388   Cond. No.                         835.\n",
      "==============================================================================\n",
      "\n",
      "Notes:\n",
      "[1] Standard Errors assume that the covariance matrix of the errors is correctly specified.\n",
      "Breusch-Pagan test:\n",
      "{'Lagrange multiplier statistic': np.float64(41.0093185755916), 'p-value': np.float64(8.062665133731132e-07), 'f-value': np.float64(7.249820864365888), 'f p-value': np.float64(1.3076560763910155e-07)}\n",
      "Reject the null hypothesis of homoscedasticity\n"
     ]
    }
   ],
   "source": [
    "df[\"temp\"] = model_residuals**2  \n",
    "y_pred = model.fittedvalues\n",
    "\n",
    "model_abs_resid = sm.OLS(df[\"temp\"], sm.add_constant(y_pred)).fit()\n",
    "\n",
    "# Get the fitted values from the new model\n",
    "weights_3 = model_abs_resid.fittedvalues\n",
    "\n",
    "# Use the fitted values as weights in a WLS model\n",
    "model_wls_2 = sm.WLS(y, x, weights=abs(weights_3))\n",
    "result_wls_2 = model_wls_2.fit()\n",
    "print(result_wls_2.summary())\n",
    "\n",
    "residuals = result_wls_2.resid\n",
    "bp_test = sm.stats.diagnostic.het_breuschpagan(residuals, result_wls_2.model.exog)\n",
    "labels = ['Lagrange multiplier statistic', 'p-value', 'f-value', 'f p-value']\n",
    "print(\"Breusch-Pagan test:\")\n",
    "res = dict(zip(labels, bp_test))\n",
    "print(res)\n",
    "if res['p-value'] < 0.05:\n",
    "    print(\"Reject the null hypothesis of homoscedasticity\")"
   ]
  },
  {
   "cell_type": "markdown",
   "metadata": {},
   "source": [
    "=> These methods of using weights do not eliminate heterokedascity. "
   ]
  }
 ],
 "metadata": {
  "kernelspec": {
   "display_name": "Python 3",
   "language": "python",
   "name": "python3"
  },
  "language_info": {
   "codemirror_mode": {
    "name": "ipython",
    "version": 3
   },
   "file_extension": ".py",
   "mimetype": "text/x-python",
   "name": "python",
   "nbconvert_exporter": "python",
   "pygments_lexer": "ipython3",
   "version": "3.13.0"
  }
 },
 "nbformat": 4,
 "nbformat_minor": 2
}
