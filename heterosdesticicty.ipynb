{
 "cells": [
  {
   "cell_type": "markdown",
   "metadata": {},
   "source": [
    "**Heteroskedasticity Testing and solve problem:**  \n",
    "   This part involves testing for heteroskedasticity to assess whether there's variance inconsistency in the model. Additionally, we employed Weighted Least Squares (WLS) to address this issue."
   ]
  },
  {
   "cell_type": "markdown",
   "metadata": {},
   "source": [
    "## Heteroskedasticity"
   ]
  },
  {
   "cell_type": "code",
   "execution_count": null,
   "metadata": {},
   "outputs": [],
   "source": [
    "\n",
    "pip install statsmodels numpy pandas matplotlib seaborn\n"
   ]
  },
  {
   "cell_type": "code",
   "execution_count": 32,
   "metadata": {},
   "outputs": [],
   "source": [
    "import numpy as np\n",
    "import pandas as pd\n",
    "import statsmodels.api as sm\n",
    "import matplotlib.pyplot as plt\n",
    "import seaborn as sns\n",
    "from statsmodels.stats.diagnostic import het_breuschpagan, het_white\n",
    "from statsmodels.formula.api import ols\n",
    "\n",
    "sns.set(style=\"whitegrid\")"
   ]
  },
  {
   "cell_type": "code",
   "execution_count": null,
   "metadata": {},
   "outputs": [],
   "source": [
    "pip install openpyxl"
   ]
  },
  {
   "cell_type": "markdown",
   "metadata": {},
   "source": [
    "**Importing dataset**"
   ]
  },
  {
   "cell_type": "code",
   "execution_count": 93,
   "metadata": {},
   "outputs": [
    {
     "data": {
      "text/html": [
       "<div>\n",
       "<style scoped>\n",
       "    .dataframe tbody tr th:only-of-type {\n",
       "        vertical-align: middle;\n",
       "    }\n",
       "\n",
       "    .dataframe tbody tr th {\n",
       "        vertical-align: top;\n",
       "    }\n",
       "\n",
       "    .dataframe thead th {\n",
       "        text-align: right;\n",
       "    }\n",
       "</style>\n",
       "<table border=\"1\" class=\"dataframe\">\n",
       "  <thead>\n",
       "    <tr style=\"text-align: right;\">\n",
       "      <th></th>\n",
       "      <th>Country Name</th>\n",
       "      <th>ISO</th>\n",
       "      <th>Year</th>\n",
       "      <th>Continent</th>\n",
       "      <th>Population (thousands)</th>\n",
       "      <th>Life Expectancy (years)</th>\n",
       "      <th>Ladder of life (Wellbeing) (0-10)</th>\n",
       "      <th>Carbon Footprint (tCO2e)</th>\n",
       "      <th>HPI</th>\n",
       "      <th>GDP per capita ($)</th>\n",
       "      <th>Annual precipitation</th>\n",
       "      <th>Average years of schooling</th>\n",
       "      <th>Gini coefficient</th>\n",
       "      <th>GNI</th>\n",
       "      <th>Unemployment</th>\n",
       "    </tr>\n",
       "  </thead>\n",
       "  <tbody>\n",
       "    <tr>\n",
       "      <th>0</th>\n",
       "      <td>Algeria</td>\n",
       "      <td>DZA</td>\n",
       "      <td>2011</td>\n",
       "      <td>Africa</td>\n",
       "      <td>36543.5</td>\n",
       "      <td>74.1</td>\n",
       "      <td>5.32</td>\n",
       "      <td>2.75</td>\n",
       "      <td>48.0</td>\n",
       "      <td>11114</td>\n",
       "      <td>82.46702</td>\n",
       "      <td>7.286604</td>\n",
       "      <td>0.276157</td>\n",
       "      <td>5050</td>\n",
       "      <td>9.96</td>\n",
       "    </tr>\n",
       "    <tr>\n",
       "      <th>1</th>\n",
       "      <td>Armenia</td>\n",
       "      <td>ARM</td>\n",
       "      <td>2011</td>\n",
       "      <td>Asia</td>\n",
       "      <td>2929.0</td>\n",
       "      <td>73.3</td>\n",
       "      <td>4.26</td>\n",
       "      <td>3.22</td>\n",
       "      <td>37.3</td>\n",
       "      <td>9551</td>\n",
       "      <td>953.70953</td>\n",
       "      <td>11.194550</td>\n",
       "      <td>0.293529</td>\n",
       "      <td>3360</td>\n",
       "      <td>18.44</td>\n",
       "    </tr>\n",
       "    <tr>\n",
       "      <th>2</th>\n",
       "      <td>Austria</td>\n",
       "      <td>AUT</td>\n",
       "      <td>2011</td>\n",
       "      <td>Europe</td>\n",
       "      <td>8391.2</td>\n",
       "      <td>80.8</td>\n",
       "      <td>7.47</td>\n",
       "      <td>14.52</td>\n",
       "      <td>44.1</td>\n",
       "      <td>53179</td>\n",
       "      <td>1024.22410</td>\n",
       "      <td>11.711150</td>\n",
       "      <td>0.308010</td>\n",
       "      <td>50700</td>\n",
       "      <td>4.56</td>\n",
       "    </tr>\n",
       "    <tr>\n",
       "      <th>3</th>\n",
       "      <td>Belarus</td>\n",
       "      <td>BLR</td>\n",
       "      <td>2011</td>\n",
       "      <td>Europe</td>\n",
       "      <td>9707.0</td>\n",
       "      <td>71.5</td>\n",
       "      <td>5.23</td>\n",
       "      <td>5.39</td>\n",
       "      <td>38.5</td>\n",
       "      <td>18274</td>\n",
       "      <td>635.04770</td>\n",
       "      <td>11.380924</td>\n",
       "      <td>0.271525</td>\n",
       "      <td>6350</td>\n",
       "      <td>6.17</td>\n",
       "    </tr>\n",
       "    <tr>\n",
       "      <th>4</th>\n",
       "      <td>Belgium</td>\n",
       "      <td>BEL</td>\n",
       "      <td>2011</td>\n",
       "      <td>Europe</td>\n",
       "      <td>10955.7</td>\n",
       "      <td>80.4</td>\n",
       "      <td>7.11</td>\n",
       "      <td>20.59</td>\n",
       "      <td>34.4</td>\n",
       "      <td>48155</td>\n",
       "      <td>788.48303</td>\n",
       "      <td>11.469870</td>\n",
       "      <td>0.280604</td>\n",
       "      <td>46370</td>\n",
       "      <td>7.14</td>\n",
       "    </tr>\n",
       "  </tbody>\n",
       "</table>\n",
       "</div>"
      ],
      "text/plain": [
       "  Country Name  ISO  Year Continent  Population (thousands)  \\\n",
       "0      Algeria  DZA  2011    Africa                 36543.5   \n",
       "1      Armenia  ARM  2011      Asia                  2929.0   \n",
       "2      Austria  AUT  2011    Europe                  8391.2   \n",
       "3      Belarus  BLR  2011    Europe                  9707.0   \n",
       "4      Belgium  BEL  2011    Europe                 10955.7   \n",
       "\n",
       "   Life Expectancy (years)  Ladder of life (Wellbeing) (0-10)  \\\n",
       "0                     74.1                               5.32   \n",
       "1                     73.3                               4.26   \n",
       "2                     80.8                               7.47   \n",
       "3                     71.5                               5.23   \n",
       "4                     80.4                               7.11   \n",
       "\n",
       "   Carbon Footprint (tCO2e)   HPI  GDP per capita ($)  Annual precipitation  \\\n",
       "0                      2.75  48.0               11114              82.46702   \n",
       "1                      3.22  37.3                9551             953.70953   \n",
       "2                     14.52  44.1               53179            1024.22410   \n",
       "3                      5.39  38.5               18274             635.04770   \n",
       "4                     20.59  34.4               48155             788.48303   \n",
       "\n",
       "   Average years of schooling  Gini coefficient    GNI  Unemployment  \n",
       "0                    7.286604          0.276157   5050          9.96  \n",
       "1                   11.194550          0.293529   3360         18.44  \n",
       "2                   11.711150          0.308010  50700          4.56  \n",
       "3                   11.380924          0.271525   6350          6.17  \n",
       "4                   11.469870          0.280604  46370          7.14  "
      ]
     },
     "execution_count": 93,
     "metadata": {},
     "output_type": "execute_result"
    }
   ],
   "source": [
    "#Read data\n",
    "file_path = r\"C:\\Users\\ADMIN\\Documents\\FINAL-DATA.xlsx\"\n",
    "df = pd.read_excel(file_path)\n",
    "df.head()"
   ]
  },
  {
   "cell_type": "markdown",
   "metadata": {},
   "source": [
    "**Data Cleaning** "
   ]
  },
  {
   "cell_type": "code",
   "execution_count": 94,
   "metadata": {},
   "outputs": [
    {
     "data": {
      "text/plain": [
       "(619, 15)"
      ]
     },
     "execution_count": 94,
     "metadata": {},
     "output_type": "execute_result"
    }
   ],
   "source": [
    "df = df.drop_duplicates()\n",
    "df.shape"
   ]
  },
  {
   "cell_type": "code",
   "execution_count": 95,
   "metadata": {},
   "outputs": [
    {
     "data": {
      "text/plain": [
       "Country Name                         0\n",
       "ISO                                  0\n",
       "Year                                 0\n",
       "Continent                            0\n",
       "Population (thousands)               0\n",
       "Life Expectancy (years)              0\n",
       "Ladder of life (Wellbeing) (0-10)    0\n",
       "Carbon Footprint (tCO2e)             0\n",
       "HPI                                  0\n",
       "GDP per capita ($)                   0\n",
       "Annual precipitation                 0\n",
       "Average years of schooling           0\n",
       "Gini coefficient                     0\n",
       "GNI                                  0\n",
       "Unemployment                         0\n",
       "dtype: int64"
      ]
     },
     "execution_count": 95,
     "metadata": {},
     "output_type": "execute_result"
    }
   ],
   "source": [
    "df.isnull().sum()"
   ]
  },
  {
   "cell_type": "markdown",
   "metadata": {},
   "source": [
    "**OLS Regression**"
   ]
  },
  {
   "cell_type": "code",
   "execution_count": 107,
   "metadata": {},
   "outputs": [
    {
     "name": "stdout",
     "output_type": "stream",
     "text": [
      "                            OLS Regression Results                            \n",
      "==============================================================================\n",
      "Dep. Variable:                    HPI   R-squared:                       0.877\n",
      "Model:                            OLS   Adj. R-squared:                  0.875\n",
      "Method:                 Least Squares   F-statistic:                     619.5\n",
      "Date:                Mon, 07 Apr 2025   Prob (F-statistic):          1.12e-272\n",
      "Time:                        00:31:47   Log-Likelihood:                -1523.5\n",
      "No. Observations:                 619   AIC:                             3063.\n",
      "Df Residuals:                     611   BIC:                             3098.\n",
      "Df Model:                           7                                         \n",
      "Covariance Type:            nonrobust                                         \n",
      "=====================================================================================================\n",
      "                                        coef    std err          t      P>|t|      [0.025      0.975]\n",
      "-----------------------------------------------------------------------------------------------------\n",
      "const                               -12.1168      2.170     -5.583      0.000     -16.379      -7.855\n",
      "Ladder of life (Wellbeing) (0-10)     7.0848      0.243     29.194      0.000       6.608       7.561\n",
      "Carbon Footprint (tCO2e)             -1.2125      0.028    -43.945      0.000      -1.267      -1.158\n",
      "ln_GNI                                1.5086      0.257      5.871      0.000       1.004       2.013\n",
      "ln_Annual precipitation               1.4591      0.236      6.178      0.000       0.995       1.923\n",
      "Average years of schooling           -0.3705      0.087     -4.257      0.000      -0.541      -0.200\n",
      "stan_gini                             0.0268      0.023      1.165      0.244      -0.018       0.072\n",
      "Unemployment                          0.1568      0.026      6.107      0.000       0.106       0.207\n",
      "==============================================================================\n",
      "Omnibus:                       24.844   Durbin-Watson:                   2.021\n",
      "Prob(Omnibus):                  0.000   Jarque-Bera (JB):               61.794\n",
      "Skew:                           0.108   Prob(JB):                     3.82e-14\n",
      "Kurtosis:                       4.533   Cond. No.                         795.\n",
      "==============================================================================\n",
      "\n",
      "Notes:\n",
      "[1] Standard Errors assume that the covariance matrix of the errors is correctly specified.\n"
     ]
    }
   ],
   "source": [
    "import statsmodels.api as sm\n",
    "df[\"ln_Annual precipitation\"]= np.log(df[\"Annual precipitation\"])\n",
    "df['ln_GNI'] = np.log(df['GNI'])\n",
    "df['stan_gini'] = df['Gini coefficient'] * 100\n",
    "X = df[['Ladder of life (Wellbeing) (0-10)','Carbon Footprint (tCO2e)','ln_GNI','ln_Annual precipitation', 'Average years of schooling', 'stan_gini','Unemployment']]\n",
    "X = sm.add_constant(X)\n",
    "y = df[\"HPI\"]\n",
    "model = sm.OLS(y, X).fit()\n",
    "print(model.summary())\n"
   ]
  },
  {
   "cell_type": "code",
   "execution_count": 104,
   "metadata": {},
   "outputs": [
    {
     "data": {
      "image/png": "[encoded data removed]",
      "text/plain": [
       "<Figure size 1000x600 with 1 Axes>"
      ]
     },
     "metadata": {},
     "output_type": "display_data"
    }
   ],
   "source": [
    "# 1. Visual inspection of residuals\n",
    "plt.figure(figsize=(10, 6))\n",
    "plt.scatter(model.fittedvalues, model.resid)\n",
    "plt.axhline(y=0, color='r', linestyle='--')\n",
    "plt.xlabel('Fitted values')\n",
    "plt.ylabel('Residuals')\n",
    "plt.title('Residuals vs Fitted Values')\n",
    "plt.show()"
   ]
  },
  {
   "cell_type": "markdown",
   "metadata": {},
   "source": [
    "Biểu đồ hình quạt => Phương sai không đồng nhất"
   ]
  },
  {
   "cell_type": "markdown",
   "metadata": {},
   "source": [
    "**Correlation values between each independent variable and the squared residuals**\n",
    "\n",
    "Để check đâu là nguyên nhân chính gây ra heterosdasticity"
   ]
  },
  {
   "cell_type": "code",
   "execution_count": 109,
   "metadata": {},
   "outputs": [
    {
     "name": "stdout",
     "output_type": "stream",
     "text": [
      "Average years of schooling: -0.2322\n",
      "Carbon Footprint (tCO2e): 0.2210\n",
      "ln_GNI: -0.1761\n",
      "Unemployment: -0.1463\n",
      "stan_gini: 0.0823\n",
      "Ladder of life (Wellbeing) (0-10): -0.0626\n",
      "ln_Annual precipitation: 0.0290\n"
     ]
    }
   ],
   "source": [
    "# Tạo DataFrame chứa bình phương phần dư và các biến độc lập\n",
    "residual_analysis = pd.DataFrame()\n",
    "residual_analysis['resid_squared'] = model.resid**2\n",
    "\n",
    "# Tính hệ số tương quan\n",
    "correlations = {}\n",
    "for var in X.columns:\n",
    "    if var != 'const':  \n",
    "        residual_analysis[var] = df[var]\n",
    "        corr = residual_analysis['resid_squared'].corr(residual_analysis[var])\n",
    "        correlations[var] = corr\n",
    "\n",
    "# Hiển thị kết quả tương quan\n",
    "sorted_correlations = sorted(correlations.items(), key=lambda x: abs(x[1]), reverse=True)\n",
    "for var, corr in sorted_correlations:\n",
    "    print(f\"{var}: {corr:.4f}\")\n"
   ]
  },
  {
   "cell_type": "markdown",
   "metadata": {},
   "source": [
    "Absolute correlation close to 0 means less siginficant impact on heteroskedasticity\n",
    "\n",
    "**Average years of schooling**, **Carbon Footprint**, and **GNI** are more likely to contribute to heteroskedasticity."
   ]
  },
  {
   "cell_type": "code",
   "execution_count": 127,
   "metadata": {},
   "outputs": [
    {
     "name": "stdout",
     "output_type": "stream",
     "text": [
      "Breusch-Pagan test:\n",
      "{'Lagrange multiplier statistic': np.float64(215.1140941678755), 'p-value': np.float64(7.18135028418952e-43), 'f-value': np.float64(46.489335456463884), 'f p-value': np.float64(8.068564143333179e-53)}\n",
      "Reject the null hypothesis of homoscedasticity\n"
     ]
    }
   ],
   "source": [
    "#Breuch-Pagan test; for significant level of 0.05 \n",
    "\n",
    "bp_test = sm.stats.diagnostic.het_breuschpagan(model.resid, model.model.exog)\n",
    "labels = ['Lagrange multiplier statistic', 'p-value', 'f-value', 'f p-value']\n",
    "print(\"Breusch-Pagan test:\")\n",
    "res = dict(zip(labels, bp_test))\n",
    "print(res)\n",
    "if res['p-value'] < 0.05:\n",
    "    print(\"Reject the null hypothesis of homoscedasticity\")"
   ]
  },
  {
   "cell_type": "code",
   "execution_count": 132,
   "metadata": {},
   "outputs": [
    {
     "name": "stdout",
     "output_type": "stream",
     "text": [
      "Average years of schooling: p-value = 0.0000 (Significant)\n",
      "Carbon Footprint (tCO2e): p-value = 0.0000 (Significant)\n",
      "ln_GNI: p-value = 0.0000 (Significant)\n",
      "Unemployment: p-value = 0.0003 (Significant)\n",
      "stan_gini: p-value = 0.0406 (Significant)\n",
      "Ladder of life (Wellbeing) (0-10): p-value = 0.1196 (Not significant)\n",
      "ln_Annual precipitation: p-value = 0.4711 (Not significant)\n"
     ]
    }
   ],
   "source": [
    "#Breusch Pagan Test\n",
    "from statsmodels.stats.diagnostic import het_breuschpagan\n",
    "import numpy as np\n",
    "\n",
    "# Kiểm định riêng lẻ cho từng biến. Với mỗi biến var, tạo một mô hình hồi quy đơn biến để test:\n",
    "bp_results = {}\n",
    "for var in X.columns:\n",
    "    if var != 'const': \n",
    "        X_single = sm.add_constant(df[[var]])\n",
    "        bp_test = het_breuschpagan(model.resid, X_single)\n",
    "        bp_results[var] = bp_test[1]  # p-value\n",
    "\n",
    "# Hiển thị kết quả theo thứ tự tăng dần của p-value\n",
    "sorted_bp = sorted(bp_results.items(), key=lambda x: x[1])\n",
    "for var, p_value in sorted_bp:\n",
    "    significance = \"Significant\" if p_value < 0.05 else \"Not significant\"\n",
    "    print(f\"{var}: p-value = {p_value:.4f} ({significance})\")"
   ]
  },
  {
   "cell_type": "markdown",
   "metadata": {},
   "source": [
    "p-value Analysis for Heteroskedasticity:\n",
    "\n",
    "If p-value < 0.05: This indicates the presence of heteroskedasticity (result: \"Significant\").\n",
    "\n",
    "If p-value ≥ 0.05: There is not enough evidence to reject the null hypothesis (result: \"Not significant\").\n",
    "\n",
    "**Analysis Conclusion:**\n",
    "The analysis shows that variables **Average years of schooling, Carbon Footprint, GNI, Unemployment, Gini** have a significant impact on heteroskedasticity. "
   ]
  },
  {
   "cell_type": "code",
   "execution_count": 128,
   "metadata": {},
   "outputs": [
    {
     "name": "stdout",
     "output_type": "stream",
     "text": [
      "White Test:\n",
      "{'Test Statistic': np.float64(408.7224719227261), 'p-value': np.float64(2.9670712798012315e-65), 'F-statistic': np.float64(32.37696707771604), 'F p-value': np.float64(1.993682552805044e-113)}\n",
      "Reject the null hypothesis of homoscedasticity\n"
     ]
    }
   ],
   "source": [
    "# White test; for significant level of 0.05 \n",
    "import statsmodels.stats.diagnostic as smd\n",
    "residuals = model.resid\n",
    "\n",
    "white_test = smd.het_white(residuals, X)\n",
    "labels = ['Test Statistic', 'p-value', 'F-statistic', 'F p-value']\n",
    "print('White Test:')\n",
    "print(dict(zip(labels, white_test)))\n",
    "if white_test[1] < 0.05:\n",
    "    print(\"Reject the null hypothesis of homoscedasticity\")"
   ]
  },
  {
   "cell_type": "markdown",
   "metadata": {},
   "source": [
    "## Solve Heteroskedasticity"
   ]
  },
  {
   "cell_type": "code",
   "execution_count": 146,
   "metadata": {},
   "outputs": [
    {
     "data": {
      "image/png": "[encoded data removed]",
      "text/plain": [
       "<Figure size 1000x600 with 1 Axes>"
      ]
     },
     "metadata": {},
     "output_type": "display_data"
    }
   ],
   "source": [
    "#Outlier detection \n",
    "# Calculate the z-scores of the residuals\n",
    "import scipy.stats as stats\n",
    "residuals = model.resid \n",
    "fitted = model.fittedvalues\n",
    "z_scores = np.abs(stats.zscore(residuals))\n",
    "\n",
    "# Define a threshold for outliers\n",
    "threshold = 3\n",
    "\n",
    "# Create a boolean mask for the outliers\n",
    "outliers = z_scores > threshold\n",
    "\n",
    "# Draw a plot\n",
    "plt.figure(figsize=(10,6))\n",
    "plt.scatter(fitted, residuals, alpha=0.5, label='Data points')\n",
    "plt.scatter(fitted[outliers], residuals[outliers], color='r', label='Outliers')\n",
    "plt.plot([fitted.min(), fitted.max()], [0, 0], 'r-')\n",
    "plt.xlabel('Fitted values')\n",
    "plt.ylabel('Residuals')\n",
    "plt.title('Residuals vs Fitted values')\n",
    "plt.legend()\n",
    "plt.show()"
   ]
  },
  {
   "cell_type": "markdown",
   "metadata": {},
   "source": [
    "Remove ouliers để giảm chênh lệch giữa y và fitted value"
   ]
  },
  {
   "cell_type": "code",
   "execution_count": 151,
   "metadata": {},
   "outputs": [
    {
     "data": {
      "text/plain": [
       "607"
      ]
     },
     "execution_count": 151,
     "metadata": {},
     "output_type": "execute_result"
    }
   ],
   "source": [
    "#Creating a new df with removed outliers \n",
    "\n",
    "df['residuals'] = model.resid \n",
    "df_new = df.copy()\n",
    "df_new['z_scores'] = np.abs(stats.zscore(df_new['residuals']))\n",
    "df_new = df_new[df_new['z_scores'] < 3]\n",
    "df_new = df_new.drop(columns = ['z_scores'])\n",
    "len(df_new)"
   ]
  },
  {
   "cell_type": "code",
   "execution_count": 148,
   "metadata": {},
   "outputs": [
    {
     "name": "stdout",
     "output_type": "stream",
     "text": [
      "       Country Name  ISO  Year      Continent  Population (thousands)  \\\n",
      "0           Algeria  DZA  2011         Africa                 36543.5   \n",
      "1           Armenia  ARM  2011           Asia                  2929.0   \n",
      "2           Austria  AUT  2011         Europe                  8391.2   \n",
      "3           Belarus  BLR  2011         Europe                  9707.0   \n",
      "4           Belgium  BEL  2011         Europe                 10955.7   \n",
      "..              ...  ...   ...            ...                     ...   \n",
      "614          Sweden  SWE  2021         Europe                 10467.1   \n",
      "615        Thailand  THA  2021         Africa                 71601.1   \n",
      "616            Togo  TGO  2021           Asia                  8644.8   \n",
      "617  United Kingdom  GBR  2021         Europe                 67281.0   \n",
      "618         Uruguay  URY  2021  South America                  3426.3   \n",
      "\n",
      "     Life Expectancy (years)  Ladder of life (Wellbeing) (0-10)  \\\n",
      "0                       74.1                               5.32   \n",
      "1                       73.3                               4.26   \n",
      "2                       80.8                               7.47   \n",
      "3                       71.5                               5.23   \n",
      "4                       80.4                               7.11   \n",
      "..                       ...                                ...   \n",
      "614                     83.0                               7.44   \n",
      "615                     78.7                               5.64   \n",
      "616                     61.6                               4.04   \n",
      "617                     80.7                               6.87   \n",
      "618                     75.4                               6.50   \n",
      "\n",
      "     Carbon Footprint (tCO2e)   HPI  GDP per capita ($)  Annual precipitation  \\\n",
      "0                        2.75  48.0               11114              82.46702   \n",
      "1                        3.22  37.3                9551             953.70953   \n",
      "2                       14.52  44.1               53179            1024.22410   \n",
      "3                        5.39  38.5               18274             635.04770   \n",
      "4                       20.59  34.4               48155             788.48303   \n",
      "..                        ...   ...                 ...                   ...   \n",
      "614                      8.70  55.9               53772             810.07030   \n",
      "615                      5.05  48.0               17087            1728.95600   \n",
      "616                      2.16  26.3                2137            1074.55210   \n",
      "617                      8.94  49.5               44949            1062.87930   \n",
      "618                     10.51  39.9               23257            1052.45090   \n",
      "\n",
      "     Average years of schooling  Gini coefficient    GNI  Unemployment  \\\n",
      "0                      7.286604          0.276157   5050          9.96   \n",
      "1                     11.194550          0.293529   3360         18.44   \n",
      "2                     11.711150          0.308010  50700          4.56   \n",
      "3                     11.380924          0.271525   6350          6.17   \n",
      "4                     11.469870          0.280604  46370          7.14   \n",
      "..                          ...               ...    ...           ...   \n",
      "614                   12.673720          0.297654  60530          8.66   \n",
      "615                    8.834560          0.349239   7090          1.42   \n",
      "616                    5.590314          0.378580    920          4.00   \n",
      "617                   13.406120          0.324146  45510          4.53   \n",
      "618                    9.058220          0.407768  16200         10.45   \n",
      "\n",
      "     ln_Annual precipitation     ln_GNI  stan_gini  residuals       temp  \n",
      "0                   4.412398   8.527144  27.615732   6.855279  46.994849  \n",
      "1                   6.860359   8.119696  29.352945   1.349428   1.820957  \n",
      "2                   6.931691  10.833681  30.801000  -2.760532   7.620540  \n",
      "3                   6.453700   8.756210  27.152550  -0.006480   0.000042  \n",
      "4                   6.670111  10.744408  28.060430  -2.454028   6.022252  \n",
      "..                       ...        ...        ...        ...        ...  \n",
      "614                 6.697121  11.010894  29.765385   2.011397   4.045718  \n",
      "615                 7.455273   8.866441  34.923872   4.141955  17.155788  \n",
      "616                 6.979659   6.824374  37.858006  -7.637004  58.323829  \n",
      "617                 6.968737  10.725687  32.414576   0.822691   0.676820  \n",
      "618                 6.958877   9.692767  40.776816  -5.442778  29.623835  \n",
      "\n",
      "[607 rows x 20 columns]\n"
     ]
    }
   ],
   "source": [
    "print(df_new)"
   ]
  },
  {
   "cell_type": "code",
   "execution_count": 152,
   "metadata": {},
   "outputs": [
    {
     "name": "stdout",
     "output_type": "stream",
     "text": [
      "                            OLS Regression Results                            \n",
      "==============================================================================\n",
      "Dep. Variable:                    HPI   R-squared:                       0.902\n",
      "Model:                            OLS   Adj. R-squared:                  0.900\n",
      "Method:                 Least Squares   F-statistic:                     784.1\n",
      "Date:                Mon, 07 Apr 2025   Prob (F-statistic):          9.25e-297\n",
      "Time:                        01:27:20   Log-Likelihood:                -1391.3\n",
      "No. Observations:                 607   AIC:                             2799.\n",
      "Df Residuals:                     599   BIC:                             2834.\n",
      "Df Model:                           7                                         \n",
      "Covariance Type:            nonrobust                                         \n",
      "=====================================================================================================\n",
      "                                        coef    std err          t      P>|t|      [0.025      0.975]\n",
      "-----------------------------------------------------------------------------------------------------\n",
      "const                                -6.1857      1.961     -3.154      0.002     -10.038      -2.334\n",
      "Ladder of life (Wellbeing) (0-10)     7.2192      0.208     34.649      0.000       6.810       7.628\n",
      "Carbon Footprint (tCO2e)             -1.3832      0.029    -48.140      0.000      -1.440      -1.327\n",
      "ln_GNI                                1.6487      0.219      7.517      0.000       1.218       2.079\n",
      "ln_Annual precipitation               0.8454      0.206      4.112      0.000       0.442       1.249\n",
      "Average years of schooling           -0.4971      0.078     -6.333      0.000      -0.651      -0.343\n",
      "stan_gini                             0.0035      0.020      0.178      0.859      -0.035       0.042\n",
      "Unemployment                          0.1447      0.022      6.618      0.000       0.102       0.188\n",
      "==============================================================================\n",
      "Omnibus:                       81.088   Durbin-Watson:                   1.833\n",
      "Prob(Omnibus):                  0.000   Jarque-Bera (JB):              293.451\n",
      "Skew:                           0.577   Prob(JB):                     1.90e-64\n",
      "Kurtosis:                       6.205   Cond. No.                         841.\n",
      "==============================================================================\n",
      "\n",
      "Notes:\n",
      "[1] Standard Errors assume that the covariance matrix of the errors is correctly specified.\n"
     ]
    }
   ],
   "source": [
    "#Fitting the new df \n",
    "X = df_new[['Ladder of life (Wellbeing) (0-10)','Carbon Footprint (tCO2e)','ln_GNI','ln_Annual precipitation', 'Average years of schooling', 'stan_gini','Unemployment']]\n",
    "X = sm.add_constant(X) \n",
    "y = df_new['HPI'] \n",
    "model_new = sm.OLS(y, X).fit()\n",
    "print(model_new.summary())"
   ]
  },
  {
   "cell_type": "code",
   "execution_count": 153,
   "metadata": {},
   "outputs": [
    {
     "name": "stdout",
     "output_type": "stream",
     "text": [
      "Breusch-Pagan test:\n",
      "{'Lagrange multiplier statistic': np.float64(215.1140941678755), 'p-value': np.float64(7.18135028418952e-43), 'f-value': np.float64(46.489335456463884), 'f p-value': np.float64(8.068564143333179e-53)}\n",
      "Reject the null hypothesis of homoscedasticity\n"
     ]
    }
   ],
   "source": [
    "#Using the new model summary, we test again: \n",
    "bp_test = sm.stats.diagnostic.het_breuschpagan(model.resid, model.model.exog)\n",
    "labels = ['Lagrange multiplier statistic', 'p-value', 'f-value', 'f p-value']\n",
    "print(\"Breusch-Pagan test:\")\n",
    "res = dict(zip(labels, bp_test))\n",
    "print(res)\n",
    "if res['p-value'] < 0.05:\n",
    "    print(\"Reject the null hypothesis of homoscedasticity\")"
   ]
  },
  {
   "cell_type": "markdown",
   "metadata": {},
   "source": [
    "This method do not eliminate heterokedascity. "
   ]
  },
  {
   "cell_type": "markdown",
   "metadata": {},
   "source": [
    "**WLS**"
   ]
  },
  {
   "cell_type": "code",
   "execution_count": 155,
   "metadata": {},
   "outputs": [],
   "source": [
    "y=df['HPI']\n",
    "x=df[['Ladder of life (Wellbeing) (0-10)','Carbon Footprint (tCO2e)','ln_GNI','ln_Annual precipitation', 'Average years of schooling', 'stan_gini','Unemployment']]\n",
    "x = sm.add_constant(x) \n",
    "\n",
    "model = sm.OLS(y, x).fit()"
   ]
  },
  {
   "cell_type": "markdown",
   "metadata": {},
   "source": [
    "Try 1. The weight is the inverse of the fitted values obtained from the OLS model."
   ]
  },
  {
   "cell_type": "code",
   "execution_count": 156,
   "metadata": {},
   "outputs": [
    {
     "name": "stdout",
     "output_type": "stream",
     "text": [
      "                            WLS Regression Results                            \n",
      "==============================================================================\n",
      "Dep. Variable:                    HPI   R-squared:                       0.888\n",
      "Model:                            WLS   Adj. R-squared:                  0.887\n",
      "Method:                 Least Squares   F-statistic:                     693.2\n",
      "Date:                Mon, 07 Apr 2025   Prob (F-statistic):          8.22e-286\n",
      "Time:                        01:30:42   Log-Likelihood:                -1468.9\n",
      "No. Observations:                 619   AIC:                             2954.\n",
      "Df Residuals:                     611   BIC:                             2989.\n",
      "Df Model:                           7                                         \n",
      "Covariance Type:            nonrobust                                         \n",
      "=====================================================================================================\n",
      "                                        coef    std err          t      P>|t|      [0.025      0.975]\n",
      "-----------------------------------------------------------------------------------------------------\n",
      "const                               -11.6861      2.041     -5.725      0.000     -15.695      -7.677\n",
      "Ladder of life (Wellbeing) (0-10)     7.3544      0.222     33.109      0.000       6.918       7.791\n",
      "Carbon Footprint (tCO2e)             -1.4422      0.032    -44.449      0.000      -1.506      -1.378\n",
      "ln_GNI                                1.7172      0.239      7.186      0.000       1.248       2.186\n",
      "ln_Annual precipitation               1.1090      0.217      5.101      0.000       0.682       1.536\n",
      "Average years of schooling           -0.3137      0.081     -3.861      0.000      -0.473      -0.154\n",
      "stan_gini                             0.0195      0.021      0.942      0.347      -0.021       0.060\n",
      "Unemployment                          0.1561      0.023      6.674      0.000       0.110       0.202\n",
      "==============================================================================\n",
      "Omnibus:                       28.660   Durbin-Watson:                   1.969\n",
      "Prob(Omnibus):                  0.000   Jarque-Bera (JB):               78.786\n",
      "Skew:                           0.114   Prob(JB):                     7.79e-18\n",
      "Kurtosis:                       4.733   Cond. No.                         829.\n",
      "==============================================================================\n",
      "\n",
      "Notes:\n",
      "[1] Standard Errors assume that the covariance matrix of the errors is correctly specified.\n",
      "Breusch-Pagan test:\n",
      "{'Lagrange multiplier statistic': np.float64(331.78742569282576), 'p-value': np.float64(9.723641832900397e-68), 'f-value': np.float64(100.83229298882844), 'f p-value': np.float64(1.3893233372893996e-97)}\n",
      "Reject the null hypothesis of homoscedasticity\n"
     ]
    }
   ],
   "source": [
    "\n",
    "## add a intercept point\n",
    "w1 = model.fittedvalues\n",
    "\n",
    "model_wls_1 = sm.WLS(y, x, weights = w1) \n",
    "mod_res_1 = model_wls_1.fit() \n",
    "print(mod_res_1.summary())\n",
    "\n",
    "residuals = mod_res_1.resid\n",
    "bp_test = sm.stats.diagnostic.het_breuschpagan(residuals, mod_res_1.model.exog)\n",
    "labels = ['Lagrange multiplier statistic', 'p-value', 'f-value', 'f p-value']\n",
    "print(\"Breusch-Pagan test:\")\n",
    "res = dict(zip(labels, bp_test))\n",
    "print(res)\n",
    "if res['p-value'] < 0.05:\n",
    "    print(\"Reject the null hypothesis of homoscedasticity\")"
   ]
  },
  {
   "cell_type": "markdown",
   "metadata": {},
   "source": [
    "Try 2. Ước lượng phương sai sai số dựa trên giá trị tuyệt đối của phần dư từ mô hình ban đầu. Bình phương các giá trị dự đoán này để tạo ra trọng số (weights) cho mô hình WLS."
   ]
  },
  {
   "cell_type": "code",
   "execution_count": 157,
   "metadata": {},
   "outputs": [
    {
     "name": "stdout",
     "output_type": "stream",
     "text": [
      "                            WLS Regression Results                            \n",
      "==============================================================================\n",
      "Dep. Variable:                    HPI   R-squared:                       0.875\n",
      "Model:                            WLS   Adj. R-squared:                  0.874\n",
      "Method:                 Least Squares   F-statistic:                     610.8\n",
      "Date:                Mon, 07 Apr 2025   Prob (F-statistic):          5.05e-271\n",
      "Time:                        01:30:48   Log-Likelihood:                -1555.9\n",
      "No. Observations:                 619   AIC:                             3128.\n",
      "Df Residuals:                     611   BIC:                             3163.\n",
      "Df Model:                           7                                         \n",
      "Covariance Type:            nonrobust                                         \n",
      "=====================================================================================================\n",
      "                                        coef    std err          t      P>|t|      [0.025      0.975]\n",
      "-----------------------------------------------------------------------------------------------------\n",
      "const                               -13.9067      2.171     -6.405      0.000     -18.170      -9.643\n",
      "Ladder of life (Wellbeing) (0-10)     6.7469      0.252     26.811      0.000       6.253       7.241\n",
      "Carbon Footprint (tCO2e)             -1.0919      0.023    -46.902      0.000      -1.138      -1.046\n",
      "ln_GNI                                1.5936      0.262      6.075      0.000       1.078       2.109\n",
      "ln_Annual precipitation               1.7347      0.242      7.163      0.000       1.259       2.210\n",
      "Average years of schooling           -0.3711      0.088     -4.215      0.000      -0.544      -0.198\n",
      "stan_gini                             0.0259      0.024      1.064      0.288      -0.022       0.074\n",
      "Unemployment                          0.1548      0.027      5.805      0.000       0.102       0.207\n",
      "==============================================================================\n",
      "Omnibus:                       21.238   Durbin-Watson:                   2.054\n",
      "Prob(Omnibus):                  0.000   Jarque-Bera (JB):               49.556\n",
      "Skew:                          -0.068   Prob(JB):                     1.73e-11\n",
      "Kurtosis:                       4.380   Cond. No.                         760.\n",
      "==============================================================================\n",
      "\n",
      "Notes:\n",
      "[1] Standard Errors assume that the covariance matrix of the errors is correctly specified.\n",
      "Breusch-Pagan test:\n",
      "{'Lagrange multiplier statistic': np.float64(160.472144041897), 'p-value': np.float64(2.5517412285890654e-31), 'f-value': np.float64(30.54760039908429), 'f p-value': np.float64(2.6748737061236305e-36)}\n",
      "Reject the null hypothesis of homoscedasticity\n"
     ]
    }
   ],
   "source": [
    "model_residuals = model.resid\n",
    "model_abs_resid = abs(model_residuals)\n",
    "df[\"temp\"] = model_abs_resid \n",
    "y_pred = model.fittedvalues\n",
    "\n",
    "model_abs_resid = sm.OLS(df[\"temp\"], sm.add_constant(y_pred)).fit()\n",
    "\n",
    "# Get the fitted values from the new model\n",
    "weights_2 = model_abs_resid.fittedvalues**2\n",
    "\n",
    "# Use the fitted values as weights in a WLS model\n",
    "model_wls_2 = sm.WLS(y, x, weights=weights_2)\n",
    "result_wls_2 = model_wls_2.fit()\n",
    "print(result_wls_2.summary())\n",
    "\n",
    "residuals = result_wls_2.resid\n",
    "bp_test = sm.stats.diagnostic.het_breuschpagan(residuals, result_wls_2.model.exog)\n",
    "labels = ['Lagrange multiplier statistic', 'p-value', 'f-value', 'f p-value']\n",
    "print(\"Breusch-Pagan test:\")\n",
    "res = dict(zip(labels, bp_test))\n",
    "print(res)\n",
    "if res['p-value'] < 0.05:\n",
    "    print(\"Reject the null hypothesis of homoscedasticity\")"
   ]
  },
  {
   "cell_type": "markdown",
   "metadata": {},
   "source": [
    "Try 3. Như phần trên nhưng trọng số được lấy trực tiếp từ các giá trị dự đoán của mô hình OLS, mà không bình phương chúng."
   ]
  },
  {
   "cell_type": "code",
   "execution_count": 145,
   "metadata": {},
   "outputs": [
    {
     "name": "stdout",
     "output_type": "stream",
     "text": [
      "                            WLS Regression Results                            \n",
      "==============================================================================\n",
      "Dep. Variable:                    HPI   R-squared:                       0.865\n",
      "Model:                            WLS   Adj. R-squared:                  0.863\n",
      "Method:                 Least Squares   F-statistic:                     558.9\n",
      "Date:                Mon, 07 Apr 2025   Prob (F-statistic):          8.49e-261\n",
      "Time:                        01:22:43   Log-Likelihood:                -1599.2\n",
      "No. Observations:                 619   AIC:                             3214.\n",
      "Df Residuals:                     611   BIC:                             3250.\n",
      "Df Model:                           7                                         \n",
      "Covariance Type:            nonrobust                                         \n",
      "=====================================================================================================\n",
      "                                        coef    std err          t      P>|t|      [0.025      0.975]\n",
      "-----------------------------------------------------------------------------------------------------\n",
      "const                               -15.1063      2.102     -7.185      0.000     -19.235     -10.978\n",
      "Ladder of life (Wellbeing) (0-10)     6.1537      0.256     24.067      0.000       5.652       6.656\n",
      "Carbon Footprint (tCO2e)             -1.0393      0.021    -49.883      0.000      -1.080      -0.998\n",
      "ln_GNI                                1.9672      0.258      7.639      0.000       1.461       2.473\n",
      "ln_Annual precipitation               1.8476      0.238      7.768      0.000       1.380       2.315\n",
      "Average years of schooling           -0.3286      0.085     -3.862      0.000      -0.496      -0.161\n",
      "stan_gini                             0.0055      0.025      0.218      0.828      -0.044       0.055\n",
      "Unemployment                          0.1445      0.026      5.470      0.000       0.093       0.196\n",
      "==============================================================================\n",
      "Omnibus:                       34.903   Durbin-Watson:                   2.071\n",
      "Prob(Omnibus):                  0.000   Jarque-Bera (JB):               97.019\n",
      "Skew:                          -0.214   Prob(JB):                     8.56e-22\n",
      "Kurtosis:                       4.892   Cond. No.                         734.\n",
      "==============================================================================\n",
      "\n",
      "Notes:\n",
      "[1] Standard Errors assume that the covariance matrix of the errors is correctly specified.\n",
      "Breusch-Pagan test:\n",
      "{'Lagrange multiplier statistic': np.float64(180.70565505177768), 'p-value': np.float64(1.3822680710700188e-35), 'f-value': np.float64(35.98728196807022), 'f p-value': np.float64(3.689274431928569e-42)}\n",
      "Reject the null hypothesis of homoscedasticity\n"
     ]
    }
   ],
   "source": [
    "df[\"temp\"] = model_residuals**2  \n",
    "y_pred = model.fittedvalues\n",
    "\n",
    "model_abs_resid = sm.OLS(df[\"temp\"], sm.add_constant(y_pred)).fit()\n",
    "\n",
    "# Get the fitted values from the new model\n",
    "weights_3 = model_abs_resid.fittedvalues\n",
    "\n",
    "# Use the fitted values as weights in a WLS model\n",
    "model_wls_2 = sm.WLS(y, x, weights=abs(weights_3))\n",
    "result_wls_2 = model_wls_2.fit()\n",
    "print(result_wls_2.summary())\n",
    "\n",
    "residuals = result_wls_2.resid\n",
    "bp_test = sm.stats.diagnostic.het_breuschpagan(residuals, result_wls_2.model.exog)\n",
    "labels = ['Lagrange multiplier statistic', 'p-value', 'f-value', 'f p-value']\n",
    "print(\"Breusch-Pagan test:\")\n",
    "res = dict(zip(labels, bp_test))\n",
    "print(res)\n",
    "if res['p-value'] < 0.05:\n",
    "    print(\"Reject the null hypothesis of homoscedasticity\")"
   ]
  },
  {
   "cell_type": "markdown",
   "metadata": {},
   "source": [
    "=> These methods of using weights do not eliminate heterokedascity. "
   ]
  }
 ],
 "metadata": {
  "kernelspec": {
   "display_name": "Python 3",
   "language": "python",
   "name": "python3"
  },
  "language_info": {
   "codemirror_mode": {
    "name": "ipython",
    "version": 3
   },
   "file_extension": ".py",
   "mimetype": "text/x-python",
   "name": "python",
   "nbconvert_exporter": "python",
   "pygments_lexer": "ipython3",
   "version": "3.13.0"
  }
 },
 "nbformat": 4,
 "nbformat_minor": 2
}
