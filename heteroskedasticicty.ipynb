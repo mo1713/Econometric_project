{
 "cells": [
  {
   "cell_type": "markdown",
   "metadata": {},
   "source": [
    "**Heteroskedasticity Testing and solve problem:**  \n",
    "   This part involves testing for heteroskedasticity to assess whether there's variance inconsistency in the model. Additionally, we employed Weighted Least Squares (WLS) to address this issue."
   ]
  },
  {
   "cell_type": "markdown",
   "metadata": {},
   "source": [
    "## Heteroskedasticity"
   ]
  },
  {
   "cell_type": "code",
   "execution_count": null,
   "metadata": {},
   "outputs": [],
   "source": [
    "\n",
    "pip install statsmodels numpy pandas matplotlib seaborn\n"
   ]
  },
  {
   "cell_type": "code",
   "execution_count": 2,
   "metadata": {},
   "outputs": [],
   "source": [
    "import numpy as np\n",
    "import pandas as pd\n",
    "import statsmodels.api as sm\n",
    "import matplotlib.pyplot as plt\n",
    "import seaborn as sns\n",
    "from statsmodels.stats.diagnostic import het_breuschpagan, het_white\n",
    "from statsmodels.formula.api import ols\n",
    "\n",
    "sns.set(style=\"whitegrid\")"
   ]
  },
  {
   "cell_type": "code",
   "execution_count": null,
   "metadata": {},
   "outputs": [],
   "source": [
    "pip install openpyxl"
   ]
  },
  {
   "cell_type": "markdown",
   "metadata": {},
   "source": [
    "**Importing dataset**"
   ]
  },
  {
   "cell_type": "code",
   "execution_count": 3,
   "metadata": {},
   "outputs": [
    {
     "data": {
      "text/html": [
       "<div>\n",
       "<style scoped>\n",
       "    .dataframe tbody tr th:only-of-type {\n",
       "        vertical-align: middle;\n",
       "    }\n",
       "\n",
       "    .dataframe tbody tr th {\n",
       "        vertical-align: top;\n",
       "    }\n",
       "\n",
       "    .dataframe thead th {\n",
       "        text-align: right;\n",
       "    }\n",
       "</style>\n",
       "<table border=\"1\" class=\"dataframe\">\n",
       "  <thead>\n",
       "    <tr style=\"text-align: right;\">\n",
       "      <th></th>\n",
       "      <th>Country Name</th>\n",
       "      <th>ISO</th>\n",
       "      <th>Year</th>\n",
       "      <th>Continent</th>\n",
       "      <th>Population (thousands)</th>\n",
       "      <th>Life Expectancy (years)</th>\n",
       "      <th>Ladder of life (Wellbeing) (0-10)</th>\n",
       "      <th>Carbon Footprint (tCO2e)</th>\n",
       "      <th>HPI</th>\n",
       "      <th>GDP per capita ($)</th>\n",
       "      <th>GNI</th>\n",
       "      <th>Annual precipitation</th>\n",
       "      <th>Average years of schooling</th>\n",
       "      <th>Gini coefficient</th>\n",
       "      <th>Unemployment</th>\n",
       "      <th>Human Development Index</th>\n",
       "    </tr>\n",
       "  </thead>\n",
       "  <tbody>\n",
       "    <tr>\n",
       "      <th>0</th>\n",
       "      <td>Albania</td>\n",
       "      <td>ALB</td>\n",
       "      <td>2012</td>\n",
       "      <td>7</td>\n",
       "      <td>2892.2</td>\n",
       "      <td>78.1</td>\n",
       "      <td>5.51</td>\n",
       "      <td>3.37</td>\n",
       "      <td>51.8</td>\n",
       "      <td>11228</td>\n",
       "      <td>4360</td>\n",
       "      <td>1391.6102</td>\n",
       "      <td>10.025110</td>\n",
       "      <td>0.289605</td>\n",
       "      <td>13.38</td>\n",
       "      <td>0.789</td>\n",
       "    </tr>\n",
       "    <tr>\n",
       "      <th>1</th>\n",
       "      <td>Albania</td>\n",
       "      <td>ALB</td>\n",
       "      <td>2014</td>\n",
       "      <td>7</td>\n",
       "      <td>2884.1</td>\n",
       "      <td>78.4</td>\n",
       "      <td>4.81</td>\n",
       "      <td>3.60</td>\n",
       "      <td>45.4</td>\n",
       "      <td>11587</td>\n",
       "      <td>4540</td>\n",
       "      <td>1417.2703</td>\n",
       "      <td>10.005746</td>\n",
       "      <td>0.345989</td>\n",
       "      <td>18.05</td>\n",
       "      <td>0.797</td>\n",
       "    </tr>\n",
       "    <tr>\n",
       "      <th>2</th>\n",
       "      <td>Albania</td>\n",
       "      <td>ALB</td>\n",
       "      <td>2015</td>\n",
       "      <td>7</td>\n",
       "      <td>2882.5</td>\n",
       "      <td>78.6</td>\n",
       "      <td>4.61</td>\n",
       "      <td>3.35</td>\n",
       "      <td>44.4</td>\n",
       "      <td>11878</td>\n",
       "      <td>4390</td>\n",
       "      <td>1184.5548</td>\n",
       "      <td>9.996064</td>\n",
       "      <td>0.327537</td>\n",
       "      <td>17.19</td>\n",
       "      <td>0.797</td>\n",
       "    </tr>\n",
       "    <tr>\n",
       "      <th>3</th>\n",
       "      <td>Albania</td>\n",
       "      <td>ALB</td>\n",
       "      <td>2016</td>\n",
       "      <td>7</td>\n",
       "      <td>2881.1</td>\n",
       "      <td>78.9</td>\n",
       "      <td>4.51</td>\n",
       "      <td>3.25</td>\n",
       "      <td>43.9</td>\n",
       "      <td>12292</td>\n",
       "      <td>4320</td>\n",
       "      <td>1565.3773</td>\n",
       "      <td>9.986382</td>\n",
       "      <td>0.337363</td>\n",
       "      <td>15.42</td>\n",
       "      <td>0.795</td>\n",
       "    </tr>\n",
       "    <tr>\n",
       "      <th>4</th>\n",
       "      <td>Albania</td>\n",
       "      <td>ALB</td>\n",
       "      <td>2017</td>\n",
       "      <td>7</td>\n",
       "      <td>2879.4</td>\n",
       "      <td>79.0</td>\n",
       "      <td>4.64</td>\n",
       "      <td>3.68</td>\n",
       "      <td>44.0</td>\n",
       "      <td>12771</td>\n",
       "      <td>4290</td>\n",
       "      <td>1175.3209</td>\n",
       "      <td>9.976700</td>\n",
       "      <td>0.330557</td>\n",
       "      <td>13.62</td>\n",
       "      <td>0.796</td>\n",
       "    </tr>\n",
       "  </tbody>\n",
       "</table>\n",
       "</div>"
      ],
      "text/plain": [
       "  Country Name  ISO  Year  Continent  Population (thousands)  \\\n",
       "0      Albania  ALB  2012          7                  2892.2   \n",
       "1      Albania  ALB  2014          7                  2884.1   \n",
       "2      Albania  ALB  2015          7                  2882.5   \n",
       "3      Albania  ALB  2016          7                  2881.1   \n",
       "4      Albania  ALB  2017          7                  2879.4   \n",
       "\n",
       "   Life Expectancy (years)  Ladder of life (Wellbeing) (0-10)  \\\n",
       "0                     78.1                               5.51   \n",
       "1                     78.4                               4.81   \n",
       "2                     78.6                               4.61   \n",
       "3                     78.9                               4.51   \n",
       "4                     79.0                               4.64   \n",
       "\n",
       "   Carbon Footprint (tCO2e)   HPI  GDP per capita ($)   GNI  \\\n",
       "0                      3.37  51.8               11228  4360   \n",
       "1                      3.60  45.4               11587  4540   \n",
       "2                      3.35  44.4               11878  4390   \n",
       "3                      3.25  43.9               12292  4320   \n",
       "4                      3.68  44.0               12771  4290   \n",
       "\n",
       "   Annual precipitation  Average years of schooling  Gini coefficient  \\\n",
       "0             1391.6102                   10.025110          0.289605   \n",
       "1             1417.2703                   10.005746          0.345989   \n",
       "2             1184.5548                    9.996064          0.327537   \n",
       "3             1565.3773                    9.986382          0.337363   \n",
       "4             1175.3209                    9.976700          0.330557   \n",
       "\n",
       "   Unemployment  Human Development Index  \n",
       "0         13.38                    0.789  \n",
       "1         18.05                    0.797  \n",
       "2         17.19                    0.797  \n",
       "3         15.42                    0.795  \n",
       "4         13.62                    0.796  "
      ]
     },
     "execution_count": 3,
     "metadata": {},
     "output_type": "execute_result"
    }
   ],
   "source": [
    "#Read data\n",
    "file_path = r\"C:\\Users\\ADMIN\\Documents\\final_data_08_04.xlsx\"\n",
    "data = pd.read_excel(file_path)\n",
    "df = pd.DataFrame(data)\n",
    "df.head()"
   ]
  },
  {
   "cell_type": "markdown",
   "metadata": {},
   "source": [
    "**Data Cleaning** "
   ]
  },
  {
   "cell_type": "code",
   "execution_count": 4,
   "metadata": {},
   "outputs": [
    {
     "data": {
      "text/plain": [
       "(619, 16)"
      ]
     },
     "execution_count": 4,
     "metadata": {},
     "output_type": "execute_result"
    }
   ],
   "source": [
    "df = df.drop_duplicates()\n",
    "df.shape"
   ]
  },
  {
   "cell_type": "code",
   "execution_count": 5,
   "metadata": {},
   "outputs": [
    {
     "data": {
      "text/plain": [
       "Country Name                         0\n",
       "ISO                                  0\n",
       "Year                                 0\n",
       "Continent                            0\n",
       "Population (thousands)               0\n",
       "Life Expectancy (years)              0\n",
       "Ladder of life (Wellbeing) (0-10)    0\n",
       "Carbon Footprint (tCO2e)             0\n",
       "HPI                                  0\n",
       "GDP per capita ($)                   0\n",
       "GNI                                  0\n",
       "Annual precipitation                 0\n",
       "Average years of schooling           0\n",
       "Gini coefficient                     0\n",
       "Unemployment                         0\n",
       "Human Development Index              0\n",
       "dtype: int64"
      ]
     },
     "execution_count": 5,
     "metadata": {},
     "output_type": "execute_result"
    }
   ],
   "source": [
    "df.isnull().sum()"
   ]
  },
  {
   "cell_type": "code",
   "execution_count": 6,
   "metadata": {},
   "outputs": [],
   "source": [
    "df = pd.DataFrame(data)\n",
    "#df = df[(df['GNI'] < 6100)] \n",
    "#đây là nhóm nước GNI thấp, trung bình: 6500<=GNI<= 31000, cao là GNI>31000"
   ]
  },
  {
   "cell_type": "markdown",
   "metadata": {},
   "source": [
    "**OLS Regression**"
   ]
  },
  {
   "cell_type": "code",
   "execution_count": 44,
   "metadata": {},
   "outputs": [
    {
     "name": "stdout",
     "output_type": "stream",
     "text": [
      "                               OLS Regression Results                              \n",
      "===================================================================================\n",
      "Dep. Variable:     Human Development Index   R-squared:                       1.000\n",
      "Model:                                 OLS   Adj. R-squared:                  1.000\n",
      "Method:                      Least Squares   F-statistic:                 1.138e+28\n",
      "Date:                     Wed, 09 Apr 2025   Prob (F-statistic):               0.00\n",
      "Time:                             17:11:14   Log-Likelihood:                 19044.\n",
      "No. Observations:                      619   AIC:                        -3.808e+04\n",
      "Df Residuals:                          614   BIC:                        -3.806e+04\n",
      "Df Model:                                4                                         \n",
      "Covariance Type:                 nonrobust                                         \n",
      "===========================================================================================\n",
      "                              coef    std err          t      P>|t|      [0.025      0.975]\n",
      "-------------------------------------------------------------------------------------------\n",
      "const                    -4.77e-15    7.7e-15     -0.619      0.536   -1.99e-14    1.04e-14\n",
      "Human Development Index     1.0000   5.64e-15   1.77e+14      0.000       1.000       1.000\n",
      "stan_gini                3.135e-16   7.96e-17      3.941      0.000    1.57e-16     4.7e-16\n",
      "Unemployment             4.917e-17   8.19e-17      0.601      0.548   -1.12e-16     2.1e-16\n",
      "ln_Annual precipitation -1.778e-15   8.45e-16     -2.105      0.036   -3.44e-15   -1.19e-16\n",
      "==============================================================================\n",
      "Omnibus:                       20.653   Durbin-Watson:                   0.013\n",
      "Prob(Omnibus):                  0.000   Jarque-Bera (JB):               14.431\n",
      "Skew:                          -0.257   Prob(JB):                     0.000735\n",
      "Kurtosis:                       2.457   Cond. No.                         802.\n",
      "==============================================================================\n",
      "\n",
      "Notes:\n",
      "[1] Standard Errors assume that the covariance matrix of the errors is correctly specified.\n"
     ]
    }
   ],
   "source": [
    "df[\"ln_Annual precipitation\"]= np.log(df[\"Annual precipitation\"])\n",
    "df['stan_gini'] = df['Gini coefficient'] * 100\n",
    "#df['life_ex'] = df['Life Expectancy (years)'] /10\n",
    "#df['HDI'] = df['Human Development Index'] \n",
    "X= df[[\"Human Development Index\",'stan_gini','Unemployment', 'ln_Annual precipitation']]\n",
    "X = sm.add_constant(X)\n",
    "y = df[\"Human Development Index\"]\n",
    "model = sm.OLS(y, X).fit()\n",
    "print(model.summary())\n"
   ]
  },
  {
   "cell_type": "code",
   "execution_count": 102,
   "metadata": {},
   "outputs": [],
   "source": [
    "#import statsmodels.api as sm\n",
    "#df[\"ln_Annual precipitation\"]= np.log(df[\"Annual precipitation\"])\n",
    "#df['ln_GNI'] = np.log(df['GNI'])\n",
    "#df['stan_gini'] = df['Gini coefficient'] * 100\n",
    "#X = df[['Life Expectancy (years)', 'ln_GNI','ln_Annual precipitation', 'Average years of schooling', 'stan_gini','Unemployment']]\n",
    "#X = sm.add_constant(X)\n",
    "#y = df[\"HPI\"]\n",
    "#model = sm.OLS(y, X).fit()\n",
    "#print(model.summary())\n"
   ]
  },
  {
   "cell_type": "code",
   "execution_count": 45,
   "metadata": {},
   "outputs": [
    {
     "name": "stdout",
     "output_type": "stream",
     "text": [
      "     const  Human Development Index  stan_gini  Unemployment  \\\n",
      "0      1.0                    0.789  28.960484         13.38   \n",
      "1      1.0                    0.797  34.598896         18.05   \n",
      "2      1.0                    0.797  32.753733         17.19   \n",
      "3      1.0                    0.795  33.736297         15.42   \n",
      "4      1.0                    0.796  33.055663         13.62   \n",
      "..     ...                      ...        ...           ...   \n",
      "614    1.0                    0.815  39.464375          7.89   \n",
      "615    1.0                    0.815  39.687112          8.34   \n",
      "616    1.0                    0.818  39.676290          8.88   \n",
      "617    1.0                    0.820  40.155584         10.35   \n",
      "618    1.0                    0.814  40.776816         10.45   \n",
      "\n",
      "     ln_Annual precipitation  \n",
      "0                   7.238217  \n",
      "1                   7.256488  \n",
      "2                   7.077122  \n",
      "3                   7.355882  \n",
      "4                   7.069296  \n",
      "..                       ...  \n",
      "614                 7.221757  \n",
      "615                 7.030863  \n",
      "616                 7.380264  \n",
      "617                 6.753464  \n",
      "618                 6.958877  \n",
      "\n",
      "[619 rows x 5 columns]\n"
     ]
    }
   ],
   "source": [
    "print(X)"
   ]
  },
  {
   "cell_type": "code",
   "execution_count": 46,
   "metadata": {},
   "outputs": [
    {
     "data": {
      "image/png": "[encoded data removed]",
      "text/plain": [
       "<Figure size 1000x600 with 1 Axes>"
      ]
     },
     "metadata": {},
     "output_type": "display_data"
    }
   ],
   "source": [
    "# 1. Visual inspection of residuals\n",
    "plt.figure(figsize=(10, 6))\n",
    "plt.scatter(model.fittedvalues, model.resid)\n",
    "plt.axhline(y=0, color='r', linestyle='--')\n",
    "plt.xlabel('Fitted values')\n",
    "plt.ylabel('Residuals')\n",
    "plt.title('Residuals vs Fitted Values')\n",
    "plt.show()"
   ]
  },
  {
   "cell_type": "markdown",
   "metadata": {},
   "source": [
    "Biểu đồ hình quạt => Phương sai không đồng nhất"
   ]
  },
  {
   "cell_type": "markdown",
   "metadata": {},
   "source": [
    "**Correlation values between each independent variable and the squared residuals**\n",
    "\n",
    "Để check đâu là nguyên nhân chính gây ra heterosdasticity"
   ]
  },
  {
   "cell_type": "code",
   "execution_count": 47,
   "metadata": {},
   "outputs": [
    {
     "name": "stdout",
     "output_type": "stream",
     "text": [
      "stan_gini: -0.8623\n",
      "Human Development Index: 0.6541\n",
      "Unemployment: -0.1720\n",
      "ln_Annual precipitation: -0.0754\n"
     ]
    }
   ],
   "source": [
    "# Tạo DataFrame chứa bình phương phần dư và các biến độc lập\n",
    "residual_analysis = pd.DataFrame()\n",
    "residual_analysis['resid_squared'] = model.resid**2\n",
    "\n",
    "# Tính hệ số tương quan\n",
    "correlations = {}\n",
    "for var in X.columns:\n",
    "    if var != 'const':  \n",
    "        residual_analysis[var] = df[var]\n",
    "        corr = residual_analysis['resid_squared'].corr(residual_analysis[var])\n",
    "        correlations[var] = corr\n",
    "\n",
    "# Hiển thị kết quả tương quan\n",
    "sorted_correlations = sorted(correlations.items(), key=lambda x: abs(x[1]), reverse=True)\n",
    "for var, corr in sorted_correlations:\n",
    "    print(f\"{var}: {corr:.4f}\")\n"
   ]
  },
  {
   "cell_type": "markdown",
   "metadata": {},
   "source": [
    "Absolute correlation close to 0 means less siginficant impact on heteroskedasticity\n",
    "\n",
    "**Carbon Footprint**, **GNI** are more likely to contribute to heteroskedasticity."
   ]
  },
  {
   "cell_type": "code",
   "execution_count": 48,
   "metadata": {},
   "outputs": [
    {
     "name": "stdout",
     "output_type": "stream",
     "text": [
      "Breusch-Pagan test:\n",
      "{'Lagrange multiplier statistic': 607.9861732097012, 'p-value': 2.895809215873007e-130, 'f-value': 8473.519637143085, 'f p-value': 0.0}\n",
      "Reject the null hypothesis of homoscedasticity\n"
     ]
    }
   ],
   "source": [
    "#Breuch-Pagan test; for significant level of 0.05\n",
    "\n",
    "bp_test = sm.stats.diagnostic.het_breuschpagan(model.resid, model.model.exog) #p_value có tăng so với không chia data\n",
    "labels = ['Lagrange multiplier statistic', 'p-value', 'f-value', 'f p-value']\n",
    "print(\"Breusch-Pagan test:\")\n",
    "bp_results = [float(value) for value in bp_test]\n",
    "res = dict(zip(labels, bp_results))\n",
    "\n",
    "print(res)\n",
    "if res['p-value'] < 0.05:\n",
    "    print(\"Reject the null hypothesis of homoscedasticity\")"
   ]
  },
  {
   "cell_type": "code",
   "execution_count": 49,
   "metadata": {},
   "outputs": [
    {
     "name": "stdout",
     "output_type": "stream",
     "text": [
      "stan_gini: p-value = 0.0000 (Significant)\n",
      "Human Development Index: p-value = 0.0000 (Significant)\n",
      "Unemployment: p-value = 0.0000 (Significant)\n",
      "ln_Annual precipitation: p-value = 0.0608 (Not significant)\n"
     ]
    }
   ],
   "source": [
    "#Breusch Pagan Test\n",
    "from statsmodels.stats.diagnostic import het_breuschpagan\n",
    "import numpy as np\n",
    "\n",
    "# Kiểm định riêng lẻ cho từng biến. Với mỗi biến var, tạo một mô hình hồi quy đơn biến để test:\n",
    "bp_results = {}\n",
    "for var in X.columns:\n",
    "    if var != 'const': \n",
    "        X_single = sm.add_constant(df[[var]])\n",
    "        bp_test = het_breuschpagan(model.resid, X_single)\n",
    "        bp_results[var] = bp_test[1]  # p-value\n",
    "\n",
    "# Hiển thị kết quả theo thứ tự tăng dần của p-value\n",
    "sorted_bp = sorted(bp_results.items(), key=lambda x: x[1])\n",
    "for var, p_value in sorted_bp:\n",
    "    significance = \"Significant\" if p_value < 0.05 else \"Not significant\"\n",
    "    print(f\"{var}: p-value = {p_value:.4f} ({significance})\")"
   ]
  },
  {
   "cell_type": "markdown",
   "metadata": {},
   "source": [
    "p-value Analysis for Heteroskedasticity:\n",
    "\n",
    "If p-value < 0.05: This indicates the presence of heteroskedasticity (result: \"Significant\").\n",
    "\n",
    "If p-value ≥ 0.05: There is not enough evidence to reject the null hypothesis (result: \"Not significant\").\n",
    "\n",
    "**Analysis Conclusion:**\n",
    "The analysis shows that variables **Carbon Footprint, GNI** have a significant impact on heteroskedasticity. "
   ]
  },
  {
   "cell_type": "code",
   "execution_count": 50,
   "metadata": {},
   "outputs": [
    {
     "name": "stdout",
     "output_type": "stream",
     "text": [
      "White Test:\n",
      "{'Test Statistic': 618.4671208385442, 'p-value': 6.229303996335285e-123, 'F-statistic': 50072.212561282235, 'F p-value': 0.0}\n",
      "Reject the null hypothesis of homoscedasticity\n"
     ]
    }
   ],
   "source": [
    "# White test; for significant level of 0.05 \n",
    "import statsmodels.stats.diagnostic as smd\n",
    "residuals = model.resid\n",
    "\n",
    "white_test = smd.het_white(residuals, X)\n",
    "labels = ['Test Statistic', 'p-value', 'F-statistic', 'F p-value']\n",
    "print('White Test:')\n",
    "white_results = [float(value) for value in white_test]\n",
    "print(dict(zip(labels, white_results)))\n",
    "if white_test[1] < 0.05:\n",
    "    print(\"Reject the null hypothesis of homoscedasticity\")"
   ]
  },
  {
   "cell_type": "markdown",
   "metadata": {},
   "source": [
    "## Solve Heteroskedasticity"
   ]
  },
  {
   "cell_type": "markdown",
   "metadata": {},
   "source": [
    "**WLS**"
   ]
  },
  {
   "cell_type": "code",
   "execution_count": 56,
   "metadata": {},
   "outputs": [],
   "source": [
    "df[\"ln_Annual precipitation\"]= np.log(df[\"Annual precipitation\"])\n",
    "df['stan_gini'] = df['Gini coefficient'] * 100\n",
    "#df['life_ex'] = df['Life Expectancy (years)'] /10\n",
    "#df['HDI'] = df['Human Development Index'] \n",
    "X= df[[\"Human Development Index\",'stan_gini','Unemployment', 'ln_Annual precipitation']]\n",
    "X = sm.add_constant(X)\n",
    "y = df[\"Human Development Index\"]"
   ]
  },
  {
   "cell_type": "markdown",
   "metadata": {},
   "source": [
    "Try 1. The weight is the fitted value, inverse of the fitted values, inverse of square fitted value  obtained from the OLS model."
   ]
  },
  {
   "cell_type": "code",
   "execution_count": 57,
   "metadata": {},
   "outputs": [
    {
     "name": "stdout",
     "output_type": "stream",
     "text": [
      "                               WLS Regression Results                              \n",
      "===================================================================================\n",
      "Dep. Variable:     Human Development Index   R-squared:                       1.000\n",
      "Model:                                 WLS   Adj. R-squared:                  1.000\n",
      "Method:                      Least Squares   F-statistic:                 2.059e+28\n",
      "Date:                     Wed, 09 Apr 2025   Prob (F-statistic):               0.00\n",
      "Time:                             17:13:36   Log-Likelihood:                 19186.\n",
      "No. Observations:                      619   AIC:                        -3.836e+04\n",
      "Df Residuals:                          614   BIC:                        -3.834e+04\n",
      "Df Model:                                4                                         \n",
      "Covariance Type:                 nonrobust                                         \n",
      "===========================================================================================\n",
      "                              coef    std err          t      P>|t|      [0.025      0.975]\n",
      "-------------------------------------------------------------------------------------------\n",
      "const                   -1.516e-14   5.65e-15     -2.681      0.008   -2.63e-14   -4.06e-15\n",
      "Human Development Index     1.0000   4.14e-15   2.42e+14      0.000       1.000       1.000\n",
      "stan_gini                4.995e-16   6.21e-17      8.043      0.000    3.78e-16    6.21e-16\n",
      "Unemployment            -4.312e-17   6.48e-17     -0.665      0.506    -1.7e-16    8.42e-17\n",
      "ln_Annual precipitation -1.578e-15   6.64e-16     -2.375      0.018   -2.88e-15   -2.73e-16\n",
      "==============================================================================\n",
      "Omnibus:                       35.713   Durbin-Watson:                   0.031\n",
      "Prob(Omnibus):                  0.000   Jarque-Bera (JB):               40.599\n",
      "Skew:                          -0.618   Prob(JB):                     1.53e-09\n",
      "Kurtosis:                       2.790   Cond. No.                         744.\n",
      "==============================================================================\n",
      "\n",
      "Notes:\n",
      "[1] Standard Errors assume that the covariance matrix of the errors is correctly specified.\n",
      "Breusch-Pagan test:\n",
      "{'Lagrange multiplier statistic': np.float64(581.7796846757153), 'p-value': np.float64(1.359457430828882e-124), 'f-value': np.float64(2399.3128703951566), 'f p-value': np.float64(0.0)}\n",
      "Reject the null hypothesis of homoscedasticity\n"
     ]
    }
   ],
   "source": [
    "\n",
    "## add a intercept point\n",
    "#w1 = model.fittedvalues\n",
    "#w1 = 1 / (model.fittedvalues**2 + 1e-5) #p_value lớn nhất trng 3 cái\n",
    "w1 = 1 / (model.fittedvalues + 1e-5)\n",
    "model_wls_1 = sm.WLS(y, X, weights = w1) \n",
    "mod_res_1 = model_wls_1.fit() \n",
    "print(mod_res_1.summary())\n",
    "\n",
    "residuals = mod_res_1.resid\n",
    "bp_test = sm.stats.diagnostic.het_breuschpagan(residuals, mod_res_1.model.exog)\n",
    "labels = ['Lagrange multiplier statistic', 'p-value', 'f-value', 'f p-value']\n",
    "print(\"Breusch-Pagan test:\")\n",
    "res = dict(zip(labels, bp_test))\n",
    "print(res)\n",
    "if res['p-value'] < 0.05:\n",
    "    print(\"Reject the null hypothesis of homoscedasticity\")"
   ]
  },
  {
   "cell_type": "markdown",
   "metadata": {},
   "source": [
    "Try 2. Ước lượng phương sai sai số dựa trên giá trị tuyệt đối của phần dư từ mô hình ban đầu. Bình phương các giá trị dự đoán này để tạo ra trọng số (weights) cho mô hình WLS."
   ]
  },
  {
   "cell_type": "code",
   "execution_count": 58,
   "metadata": {},
   "outputs": [
    {
     "name": "stdout",
     "output_type": "stream",
     "text": [
      "                               WLS Regression Results                              \n",
      "===================================================================================\n",
      "Dep. Variable:     Human Development Index   R-squared:                       1.000\n",
      "Model:                                 WLS   Adj. R-squared:                  1.000\n",
      "Method:                      Least Squares   F-statistic:                 2.857e+28\n",
      "Date:                     Wed, 09 Apr 2025   Prob (F-statistic):               0.00\n",
      "Time:                             17:13:40   Log-Likelihood:                 19402.\n",
      "No. Observations:                      619   AIC:                        -3.879e+04\n",
      "Df Residuals:                          614   BIC:                        -3.877e+04\n",
      "Df Model:                                4                                         \n",
      "Covariance Type:                 nonrobust                                         \n",
      "===========================================================================================\n",
      "                              coef    std err          t      P>|t|      [0.025      0.975]\n",
      "-------------------------------------------------------------------------------------------\n",
      "const                   -9.865e-15   4.94e-15     -1.996      0.046   -1.96e-14   -1.57e-16\n",
      "Human Development Index     1.0000   3.66e-15   2.73e+14      0.000       1.000       1.000\n",
      "stan_gini                 3.48e-16    4.6e-17      7.564      0.000    2.58e-16    4.38e-16\n",
      "Unemployment            -1.977e-16   4.61e-17     -4.289      0.000   -2.88e-16   -1.07e-16\n",
      "ln_Annual precipitation -1.517e-15    4.7e-16     -3.230      0.001   -2.44e-15   -5.94e-16\n",
      "==============================================================================\n",
      "Omnibus:                       62.824   Durbin-Watson:                   0.040\n",
      "Prob(Omnibus):                  0.000   Jarque-Bera (JB):               30.406\n",
      "Skew:                          -0.365   Prob(JB):                     2.50e-07\n",
      "Kurtosis:                       2.197   Cond. No.                         929.\n",
      "==============================================================================\n",
      "\n",
      "Notes:\n",
      "[1] Standard Errors assume that the covariance matrix of the errors is correctly specified.\n",
      "[2] The smallest eigenvalue is 1.05e-28. This might indicate that there are\n",
      "strong multicollinearity problems or that the design matrix is singular.\n",
      "Breusch-Pagan test:\n",
      "{'Lagrange multiplier statistic': np.float64(577.6135082553882), 'p-value': np.float64(1.0837493467640605e-123), 'f-value': np.float64(2142.333640269122), 'f p-value': np.float64(0.0)}\n",
      "Reject the null hypothesis of homoscedasticity\n"
     ]
    }
   ],
   "source": [
    "model_residuals = model.resid\n",
    "model_abs_resid = abs(model_residuals)\n",
    "df[\"temp\"] = model_abs_resid \n",
    "y_pred = model.fittedvalues\n",
    "\n",
    "model_abs_resid = sm.OLS(df[\"temp\"], sm.add_constant(y_pred)).fit()\n",
    "\n",
    "# Get the fitted values from the new model\n",
    "weights_2 = model_abs_resid.fittedvalues**2\n",
    "\n",
    "# Use the fitted values as weights in a WLS model\n",
    "model_wls_2 = sm.WLS(y, X, weights=weights_2)\n",
    "result_wls_2 = model_wls_2.fit()\n",
    "print(result_wls_2.summary())\n",
    "\n",
    "residuals = result_wls_2.resid\n",
    "bp_test = sm.stats.diagnostic.het_breuschpagan(residuals, result_wls_2.model.exog)\n",
    "labels = ['Lagrange multiplier statistic', 'p-value', 'f-value', 'f p-value']\n",
    "print(\"Breusch-Pagan test:\")\n",
    "res = dict(zip(labels, bp_test))\n",
    "print(res)\n",
    "if res['p-value'] < 0.05:\n",
    "    print(\"Reject the null hypothesis of homoscedasticity\")"
   ]
  },
  {
   "cell_type": "markdown",
   "metadata": {},
   "source": [
    "Try 3. Như phần trên nhưng trọng số được lấy trực tiếp từ các giá trị dự đoán của mô hình OLS, mà không bình phương chúng."
   ]
  },
  {
   "cell_type": "code",
   "execution_count": 59,
   "metadata": {},
   "outputs": [
    {
     "name": "stdout",
     "output_type": "stream",
     "text": [
      "                               WLS Regression Results                              \n",
      "===================================================================================\n",
      "Dep. Variable:     Human Development Index   R-squared:                       1.000\n",
      "Model:                                 WLS   Adj. R-squared:                  1.000\n",
      "Method:                      Least Squares   F-statistic:                 3.483e+27\n",
      "Date:                     Wed, 09 Apr 2025   Prob (F-statistic):               0.00\n",
      "Time:                             17:13:43   Log-Likelihood:                 18757.\n",
      "No. Observations:                      619   AIC:                        -3.750e+04\n",
      "Df Residuals:                          614   BIC:                        -3.748e+04\n",
      "Df Model:                                4                                         \n",
      "Covariance Type:                 nonrobust                                         \n",
      "===========================================================================================\n",
      "                              coef    std err          t      P>|t|      [0.025      0.975]\n",
      "-------------------------------------------------------------------------------------------\n",
      "const                    8.023e-15   1.39e-14      0.577      0.564   -1.93e-14    3.53e-14\n",
      "Human Development Index     1.0000   1.04e-14    9.6e+13      0.000       1.000       1.000\n",
      "stan_gini                2.101e-16    1.3e-16      1.618      0.106    -4.5e-17    4.65e-16\n",
      "Unemployment             -1.07e-16    1.3e-16     -0.823      0.411   -3.62e-16    1.48e-16\n",
      "ln_Annual precipitation -1.018e-15   1.33e-15     -0.768      0.443   -3.62e-15    1.58e-15\n",
      "==============================================================================\n",
      "Omnibus:                      100.019   Durbin-Watson:                   0.008\n",
      "Prob(Omnibus):                  0.000   Jarque-Bera (JB):              185.277\n",
      "Skew:                           0.949   Prob(JB):                     5.86e-41\n",
      "Kurtosis:                       4.892   Cond. No.                         927.\n",
      "==============================================================================\n",
      "\n",
      "Notes:\n",
      "[1] Standard Errors assume that the covariance matrix of the errors is correctly specified.\n",
      "[2] The smallest eigenvalue is 1.09e-28. This might indicate that there are\n",
      "strong multicollinearity problems or that the design matrix is singular.\n",
      "Breusch-Pagan test:\n",
      "{'Lagrange multiplier statistic': np.float64(615.6107311180222), 'p-value': np.float64(6.479076013692016e-132), 'f-value': np.float64(27881.01225284656), 'f p-value': np.float64(0.0)}\n",
      "Reject the null hypothesis of homoscedasticity\n"
     ]
    }
   ],
   "source": [
    "df[\"temp\"] = model_residuals**2  \n",
    "y_pred = model.fittedvalues\n",
    "\n",
    "model_abs_resid = sm.OLS(df[\"temp\"], sm.add_constant(y_pred)).fit()\n",
    "\n",
    "# Get the fitted values from the new model\n",
    "weights_3 = model_abs_resid.fittedvalues\n",
    "\n",
    "# Use the fitted values as weights in a WLS model\n",
    "model_wls_2 = sm.WLS(y, X, weights=abs(weights_3))\n",
    "result_wls_2 = model_wls_2.fit()\n",
    "print(result_wls_2.summary())\n",
    "\n",
    "residuals = result_wls_2.resid\n",
    "bp_test = sm.stats.diagnostic.het_breuschpagan(residuals, result_wls_2.model.exog)\n",
    "labels = ['Lagrange multiplier statistic', 'p-value', 'f-value', 'f p-value']\n",
    "print(\"Breusch-Pagan test:\")\n",
    "res = dict(zip(labels, bp_test))\n",
    "print(res)\n",
    "if res['p-value'] < 0.05:\n",
    "    print(\"Reject the null hypothesis of homoscedasticity\")"
   ]
  },
  {
   "cell_type": "markdown",
   "metadata": {},
   "source": [
    "=> These methods of using weights do not eliminate heterokedascity. "
   ]
  },
  {
   "cell_type": "markdown",
   "metadata": {},
   "source": [
    "['Human Development Index\",'stan_gini','Unemployment']\n",
    "weights = 1/(df['stan_gini'])**2\n",
    "weights = 1/(df['stan_gini'])\n",
    "weights = (df['stan_gini'])**2"
   ]
  },
  {
   "cell_type": "code",
   "execution_count": 78,
   "metadata": {},
   "outputs": [
    {
     "name": "stdout",
     "output_type": "stream",
     "text": [
      "                               WLS Regression Results                              \n",
      "===================================================================================\n",
      "Dep. Variable:     Human Development Index   R-squared:                       1.000\n",
      "Model:                                 WLS   Adj. R-squared:                  1.000\n",
      "Method:                      Least Squares   F-statistic:                 1.201e+28\n",
      "Date:                     Wed, 09 Apr 2025   Prob (F-statistic):               0.00\n",
      "Time:                             17:17:47   Log-Likelihood:                 19048.\n",
      "No. Observations:                      619   AIC:                        -3.809e+04\n",
      "Df Residuals:                          614   BIC:                        -3.806e+04\n",
      "Df Model:                                4                                         \n",
      "Covariance Type:                 nonrobust                                         \n",
      "===========================================================================================\n",
      "                              coef    std err          t      P>|t|      [0.025      0.975]\n",
      "-------------------------------------------------------------------------------------------\n",
      "const                    7.525e-15   7.57e-15      0.994      0.321   -7.35e-15    2.24e-14\n",
      "Human Development Index     1.0000   5.58e-15   1.79e+14      0.000       1.000       1.000\n",
      "stan_gini                4.109e-16   7.69e-17      5.342      0.000     2.6e-16    5.62e-16\n",
      "Unemployment              1.32e-16   8.01e-17      1.649      0.100   -2.52e-17    2.89e-16\n",
      "ln_Annual precipitation -2.009e-15   8.22e-16     -2.443      0.015   -3.62e-15   -3.94e-16\n",
      "==============================================================================\n",
      "Omnibus:                       32.914   Durbin-Watson:                   0.032\n",
      "Prob(Omnibus):                  0.000   Jarque-Bera (JB):               36.593\n",
      "Skew:                          -0.582   Prob(JB):                     1.13e-08\n",
      "Kurtosis:                       2.747   Cond. No.                         837.\n",
      "==============================================================================\n",
      "\n",
      "Notes:\n",
      "[1] Standard Errors assume that the covariance matrix of the errors is correctly specified.\n",
      "Breusch-Pagan test:\n",
      "{'Lagrange multiplier statistic': np.float64(604.4902529574397), 'p-value': np.float64(1.6534962644147118e-129), 'f-value': np.float64(6394.960129683559), 'f p-value': np.float64(0.0)}\n",
      "Reject the null hypothesis of homoscedasticity\n"
     ]
    }
   ],
   "source": [
    "\n",
    "weights = (df['stan_gini'])\n",
    "\n",
    "\n",
    "# Use the fitted values as weights in a WLS model\n",
    "model_wls_2 = sm.WLS(y, X, weights=abs(weights))\n",
    "result_wls_2 = model_wls_2.fit()\n",
    "print(result_wls_2.summary())\n",
    "\n",
    "residuals = result_wls_2.resid\n",
    "bp_test = sm.stats.diagnostic.het_breuschpagan(residuals, result_wls_2.model.exog)\n",
    "labels = ['Lagrange multiplier statistic', 'p-value', 'f-value', 'f p-value']\n",
    "print(\"Breusch-Pagan test:\")\n",
    "res = dict(zip(labels, bp_test))\n",
    "print(res)\n",
    "if res['p-value'] < 0.05:\n",
    "    print(\"Reject the null hypothesis of homoscedasticity\")"
   ]
  },
  {
   "cell_type": "markdown",
   "metadata": {},
   "source": [
    "=> Đặt weights cho các var significant đều không hiệu quả"
   ]
  }
 ],
 "metadata": {
  "kernelspec": {
   "display_name": "Python 3",
   "language": "python",
   "name": "python3"
  },
  "language_info": {
   "codemirror_mode": {
    "name": "ipython",
    "version": 3
   },
   "file_extension": ".py",
   "mimetype": "text/x-python",
   "name": "python",
   "nbconvert_exporter": "python",
   "pygments_lexer": "ipython3",
   "version": "3.13.0"
  }
 },
 "nbformat": 4,
 "nbformat_minor": 2
}
